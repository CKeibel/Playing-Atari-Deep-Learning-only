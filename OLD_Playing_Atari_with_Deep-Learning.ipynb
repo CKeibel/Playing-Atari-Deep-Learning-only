{
 "cells": [
  {
   "cell_type": "markdown",
   "metadata": {},
   "source": [
    "# playing Atari with Deep Learning\n",
    "* ohne Frame Stack\n",
    "* kein Replay Memory und Epsilon Greedy\n",
    "\n",
    "(*) Bilder müssen auf kleineres Format reshaped werden als Original (210, 160, 3), da sonst zu Groß für GPU"
   ]
  },
  {
   "cell_type": "markdown",
   "metadata": {},
   "source": [
    "## 1. Datensatz generieren per Zufallsspiel.\n",
    "Es werden nur Sequenzen gespeichert, die einen Reward zurückgeben."
   ]
  },
  {
   "cell_type": "code",
   "execution_count": 1,
   "metadata": {},
   "outputs": [],
   "source": [
    "# choose game\n",
    "game = \"Pong-v0\""
   ]
  },
  {
   "cell_type": "code",
   "execution_count": 2,
   "metadata": {},
   "outputs": [],
   "source": [
    "import gym\n",
    "from gym import spaces\n",
    "import cv2\n",
    "\n",
    "class WarpFrame(gym.ObservationWrapper):\n",
    "    def __init__(self, env):\n",
    "        \"\"\"\n",
    "        Warp frames to 84x84 as done in the Nature paper and later work.\n",
    "        :param env: (Gym Environment) the environment\n",
    "        \"\"\"\n",
    "        gym.ObservationWrapper.__init__(self, env)\n",
    "        self.width = 84\n",
    "        self.height = 84\n",
    "        self.observation_space = spaces.Box(low=0, high=255, shape=(self.height, self.width, 1),\n",
    "                                            dtype=env.observation_space.dtype)\n",
    "        \n",
    "    def observation(self, frame):\n",
    "        \"\"\"\n",
    "        returns the current observation from a frame\n",
    "        :param frame: ([int] or [float]) environment frame\n",
    "        :return: ([int] or [float]) the observation\n",
    "        \"\"\"\n",
    "        frame = cv2.cvtColor(frame, cv2.COLOR_RGB2GRAY)\n",
    "        frame = cv2.resize(frame, (self.width, self.height), interpolation=cv2.INTER_AREA)\n",
    "        return frame[:, :, None]\n",
    "\n",
    "# zum erstellen des Spiels mit Wrappern\n",
    "def WarpFrameEnv(env_name):\n",
    "    env = gym.make(env_name)\n",
    "    env = WarpFrame(env)\n",
    "    return env"
   ]
  },
  {
   "cell_type": "code",
   "execution_count": 3,
   "metadata": {
    "scrolled": true
   },
   "outputs": [
    {
     "name": "stdout",
     "output_type": "stream",
     "text": [
      "100\n",
      "200\n",
      "300\n",
      "400\n",
      "500\n",
      "600\n",
      "700\n",
      "800\n",
      "900\n",
      "1000\n",
      "Dataset completed\n",
      "Dataset completed\n"
     ]
    }
   ],
   "source": [
    "import numpy as np\n",
    "\n",
    "env = WarpFrameEnv(game)\n",
    "x_data = [] # Bilder (States)\n",
    "y_data = [] # Label (Aktionen)\n",
    "\n",
    "DATASET_SIZE = 1000\n",
    "saved_episodes = 0\n",
    "\n",
    "# Datensatz generieren\n",
    "the_end = False\n",
    "while not the_end:\n",
    "    done = False\n",
    "    state = env.reset()\n",
    "    episode_obs = []\n",
    "    episode_acts = []\n",
    "  \n",
    "    while not done:\n",
    "        action = env.action_space.sample()\n",
    "        episode_obs.append(state)\n",
    "        episode_acts.append(action)\n",
    "        state, reward, done, info = env.step(action)\n",
    "    \n",
    "        if reward < 0:\n",
    "            episode_acts = []\n",
    "            episode_obs = []\n",
    "        elif reward > 0:\n",
    "            x_data += episode_obs\n",
    "            y_data += episode_acts\n",
    "            episode_obs = []\n",
    "            episode_acts = []\n",
    "            saved_episodes += 1\n",
    "            if saved_episodes % 100 == 0:\n",
    "                print(saved_episodes)\n",
    "            if saved_episodes+1 > DATASET_SIZE:\n",
    "                print(\"Dataset completed\")\n",
    "                the_end = True"
   ]
  },
  {
   "cell_type": "code",
   "execution_count": 7,
   "metadata": {},
   "outputs": [
    {
     "data": {
      "text/plain": [
       "(79840, 79840)"
      ]
     },
     "execution_count": 7,
     "metadata": {},
     "output_type": "execute_result"
    }
   ],
   "source": [
    "len(x_data), len(y_data)"
   ]
  },
  {
   "cell_type": "code",
   "execution_count": 8,
   "metadata": {},
   "outputs": [],
   "source": [
    "# Zählen wie häufig jede Aktion getätigt wurde\n",
    "from collections import Counter\n",
    "counted_actions = Counter(y_data)"
   ]
  },
  {
   "cell_type": "code",
   "execution_count": 9,
   "metadata": {},
   "outputs": [
    {
     "data": {
      "image/png": "[encoded data removed]",
      "text/plain": [
       "<Figure size 1080x360 with 1 Axes>"
      ]
     },
     "metadata": {
      "needs_background": "light"
     },
     "output_type": "display_data"
    }
   ],
   "source": [
    "import matplotlib.pyplot as plt\n",
    "colors = ['red', 'darkorange', 'green', 'mediumblue', 'lightgreen', 'deeppink']\n",
    "plt.figure(figsize=(15, 5))\n",
    "plt.bar(counted_actions.keys(), counted_actions.values(), color=colors)\n",
    "plt.title(\"Dataset\", fontsize=22)\n",
    "plt.xlabel(\"Actions\", fontsize=15)\n",
    "plt.ylabel(\"Samples\", fontsize=15)\n",
    "plt.show()"
   ]
  },
  {
   "cell_type": "code",
   "execution_count": 10,
   "metadata": {},
   "outputs": [
    {
     "data": {
      "text/plain": [
       "(0.22033898305084745, 1.0)"
      ]
     },
     "execution_count": 10,
     "metadata": {},
     "output_type": "execute_result"
    }
   ],
   "source": [
    "# normalisieren des Datensatzes\n",
    "MAX = np.max(x_data)\n",
    "x_data = x_data / MAX\n",
    "\n",
    "np.min(x_data), np.max(x_data)"
   ]
  },
  {
   "cell_type": "code",
   "execution_count": 11,
   "metadata": {},
   "outputs": [],
   "source": [
    "# Teilen in Training und Test, shuffeln des Datensatzes\n",
    "from sklearn.model_selection import train_test_split\n",
    "x_train, x_test, y_train, y_test = train_test_split(\n",
    "        x_data, y_data, test_size=0.2)"
   ]
  },
  {
   "cell_type": "code",
   "execution_count": 12,
   "metadata": {},
   "outputs": [
    {
     "data": {
      "text/plain": [
       "(63872, 15968)"
      ]
     },
     "execution_count": 12,
     "metadata": {},
     "output_type": "execute_result"
    }
   ],
   "source": [
    "len(y_train), len(y_test)"
   ]
  },
  {
   "cell_type": "code",
   "execution_count": 18,
   "metadata": {},
   "outputs": [
    {
     "data": {
      "image/png": "[encoded data removed]",
      "text/plain": [
       "<Figure size 1080x360 with 2 Axes>"
      ]
     },
     "metadata": {
      "needs_background": "light"
     },
     "output_type": "display_data"
    }
   ],
   "source": [
    "count_train = Counter(y_train)\n",
    "count_test = Counter(y_test)\n",
    "\n",
    "fig, axs = plt.subplots(1, 2, figsize=(15, 5), sharey=True)\n",
    "fig.suptitle(\"Aufteilung des Datensatzes\", fontsize=22)\n",
    "axs[0].bar(count_train.keys(), count_train.values(), color=colors)\n",
    "axs[0].set_title(\"Tainings Datensatz\", fontsize=15)\n",
    "axs[0].set_xlabel(\"Actions\")\n",
    "axs[0].set_ylabel(\"Samples\")\n",
    "\n",
    "axs[1].bar(count_test.keys(), count_test.values(), color=colors)\n",
    "axs[1].set_title(\"Test Datebsatz\", fontsize=16)\n",
    "axs[1].set_xlabel(\"Actions\")\n",
    "axs[1].set_ylabel(\"Samples\")\n",
    "plt.show()"
   ]
  },
  {
   "cell_type": "code",
   "execution_count": 19,
   "metadata": {},
   "outputs": [],
   "source": [
    "# konvertieren in richtiges Format\n",
    "x_train = np.array(x_train, dtype=np.float32)\n",
    "x_test = np.array(x_test, dtype=np.float32)\n",
    "y_train = np.array(y_train, dtype=np.float32)\n",
    "y_test = np.array(y_test, dtype=np.float32)"
   ]
  },
  {
   "cell_type": "markdown",
   "metadata": {},
   "source": [
    "## 2. Erstellen des künstlichen neuronalen Netzes"
   ]
  },
  {
   "cell_type": "code",
   "execution_count": 20,
   "metadata": {},
   "outputs": [],
   "source": [
    "# Input und Output shape\n",
    "INPUT_SHAPE = np.shape(x_data)[1:]\n",
    "OUTPUT_SHAPE = 1"
   ]
  },
  {
   "cell_type": "code",
   "execution_count": 22,
   "metadata": {},
   "outputs": [],
   "source": [
    "import tensorflow\n",
    "from tensorflow.keras.layers import Activation\n",
    "from tensorflow.keras.layers import Conv2D\n",
    "from tensorflow.keras.layers import Dense\n",
    "from tensorflow.keras.layers import Flatten\n",
    "from tensorflow.keras.layers import Input\n",
    "from tensorflow.keras.models import Model\n",
    "from tensorflow.keras.losses import Huber\n",
    "from tensorflow.keras.optimizers import Adam\n",
    "\n",
    "net_input = Input(shape=INPUT_SHAPE)\n",
    "x = Conv2D(filters=32, kernel_size=(8, 8), strides=(4, 4), padding=\"same\")(net_input)\n",
    "x = Activation(\"relu\")(x)\n",
    "x = Conv2D(filters=64, kernel_size=(4, 4), strides=(2, 2), padding=\"same\")(x)\n",
    "x = Activation(\"relu\")(x)\n",
    "x = Conv2D(filters=64, kernel_size=(3, 3), strides=(1, 1), padding=\"same\")(x)\n",
    "x = Activation(\"relu\")(x)\n",
    "x = Flatten()(x)\n",
    "x = Dense(512)(x)\n",
    "x = Activation(\"relu\")(x)\n",
    "net_output = Dense(OUTPUT_SHAPE)(x)\n",
    "\n",
    "LOSS_FUNCTION = Huber()\n",
    "OPTIMIZER = Adam(lr=0.0005)\n",
    "\n",
    "model = Model(inputs=net_input, outputs=net_output)\n",
    "model.compile(loss=LOSS_FUNCTION, optimizer=OPTIMIZER)"
   ]
  },
  {
   "cell_type": "code",
   "execution_count": 23,
   "metadata": {},
   "outputs": [
    {
     "name": "stdout",
     "output_type": "stream",
     "text": [
      "Epoch 1/30\n"
     ]
    },
    {
     "name": "stderr",
     "output_type": "stream",
     "text": [
      "WARNING: Logging before flag parsing goes to stderr.\n",
      "W1229 16:15:45.354696 139854935250752 deprecation.py:323] From /usr/local/lib/python3.6/dist-packages/tensorflow_core/python/ops/math_grad.py:1393: where (from tensorflow.python.ops.array_ops) is deprecated and will be removed in a future version.\n",
      "Instructions for updating:\n",
      "Use tf.where in 2.0, which has the same broadcast rule as np.where\n",
      "W1229 16:15:45.449472 139854935250752 deprecation.py:323] From /usr/local/lib/python3.6/dist-packages/tensorflow_core/python/keras/optimizer_v2/optimizer_v2.py:466: BaseResourceVariable.constraint (from tensorflow.python.ops.resource_variable_ops) is deprecated and will be removed in a future version.\n",
      "Instructions for updating:\n",
      "Apply a constraint manually following the optimizer update step.\n"
     ]
    },
    {
     "name": "stdout",
     "output_type": "stream",
     "text": [
      "63872/63872 [==============================] - 17s 271us/sample - loss: 1.0660\n",
      "Epoch 2/30\n",
      "63872/63872 [==============================] - 15s 233us/sample - loss: 1.0555\n",
      "Epoch 3/30\n",
      "63872/63872 [==============================] - 14s 213us/sample - loss: 1.0534\n",
      "Epoch 4/30\n",
      "63872/63872 [==============================] - 14s 220us/sample - loss: 1.0532\n",
      "Epoch 5/30\n",
      "63872/63872 [==============================] - 15s 235us/sample - loss: 1.0524\n",
      "Epoch 6/30\n",
      "63872/63872 [==============================] - 14s 224us/sample - loss: 1.0520\n",
      "Epoch 7/30\n",
      "63872/63872 [==============================] - 14s 220us/sample - loss: 1.0514\n",
      "Epoch 8/30\n",
      "63872/63872 [==============================] - 14s 222us/sample - loss: 1.0511\n",
      "Epoch 9/30\n",
      "63872/63872 [==============================] - 14s 219us/sample - loss: 1.0516\n",
      "Epoch 10/30\n",
      "63872/63872 [==============================] - 15s 228us/sample - loss: 1.0516\n",
      "Epoch 11/30\n",
      "63872/63872 [==============================] - 14s 216us/sample - loss: 1.0511\n",
      "Epoch 12/30\n",
      "63872/63872 [==============================] - 16s 252us/sample - loss: 1.0512\n",
      "Epoch 13/30\n",
      "63872/63872 [==============================] - 14s 224us/sample - loss: 1.0507\n",
      "Epoch 14/30\n",
      "63872/63872 [==============================] - 13s 209us/sample - loss: 1.0507\n",
      "Epoch 15/30\n",
      "63872/63872 [==============================] - 14s 213us/sample - loss: 1.0506\n",
      "Epoch 16/30\n",
      "63872/63872 [==============================] - 14s 215us/sample - loss: 1.0510\n",
      "Epoch 17/30\n",
      "63872/63872 [==============================] - 14s 223us/sample - loss: 1.0511\n",
      "Epoch 18/30\n",
      "63872/63872 [==============================] - 14s 225us/sample - loss: 1.0506\n",
      "Epoch 19/30\n",
      "63872/63872 [==============================] - 14s 217us/sample - loss: 1.0504\n",
      "Epoch 20/30\n",
      "63872/63872 [==============================] - 14s 213us/sample - loss: 1.0510\n",
      "Epoch 21/30\n",
      "63872/63872 [==============================] - 14s 218us/sample - loss: 1.0510\n",
      "Epoch 22/30\n",
      "63872/63872 [==============================] - 14s 216us/sample - loss: 1.0511\n",
      "Epoch 23/30\n",
      "63872/63872 [==============================] - 14s 213us/sample - loss: 1.0506\n",
      "Epoch 24/30\n",
      "63872/63872 [==============================] - 13s 211us/sample - loss: 1.0505\n",
      "Epoch 25/30\n",
      "63872/63872 [==============================] - 14s 217us/sample - loss: 1.0504\n",
      "Epoch 26/30\n",
      "63872/63872 [==============================] - 14s 220us/sample - loss: 1.0508\n",
      "Epoch 27/30\n",
      "63872/63872 [==============================] - 14s 217us/sample - loss: 1.0511\n",
      "Epoch 28/30\n",
      "63872/63872 [==============================] - 14s 215us/sample - loss: 1.0507\n",
      "Epoch 29/30\n",
      "63872/63872 [==============================] - 14s 216us/sample - loss: 1.0505\n",
      "Epoch 30/30\n",
      "63872/63872 [==============================] - 14s 212us/sample - loss: 1.0504\n"
     ]
    }
   ],
   "source": [
    "EPOCHS = 30\n",
    "\n",
    "training = model.fit(\n",
    "    x_train,\n",
    "    y_train,\n",
    "    batch_size=64,\n",
    "    epochs=EPOCHS, \n",
    "    verbose=1)"
   ]
  },
  {
   "cell_type": "code",
   "execution_count": 24,
   "metadata": {},
   "outputs": [
    {
     "data": {
      "text/plain": [
       "1.055940805551762"
      ]
     },
     "execution_count": 24,
     "metadata": {},
     "output_type": "execute_result"
    }
   ],
   "source": [
    "model.evaluate(x_test, y_test, verbose=0)"
   ]
  },
  {
   "cell_type": "code",
   "execution_count": 25,
   "metadata": {},
   "outputs": [
    {
     "data": {
      "image/png": "[encoded data removed]",
      "text/plain": [
       "<Figure size 432x288 with 1 Axes>"
      ]
     },
     "metadata": {
      "needs_background": "light"
     },
     "output_type": "display_data"
    }
   ],
   "source": [
    "import matplotlib.pyplot as plt\n",
    "model_hist = training.history\n",
    "plt.plot(model_hist['loss'])\n",
    "plt.show()"
   ]
  },
  {
   "cell_type": "code",
   "execution_count": 27,
   "metadata": {},
   "outputs": [
    {
     "data": {
      "text/plain": [
       "array([[2.5298357],\n",
       "       [2.5298357],\n",
       "       [2.5298357],\n",
       "       ...,\n",
       "       [2.5298357],\n",
       "       [2.5298357],\n",
       "       [2.5298357]], dtype=float32)"
      ]
     },
     "execution_count": 27,
     "metadata": {},
     "output_type": "execute_result"
    }
   ],
   "source": [
    "y_pred = model.predict(x_test)\n",
    "y_pred"
   ]
  },
  {
   "cell_type": "markdown",
   "metadata": {},
   "source": [
    "## 3. Spielen mit trainiertem neuronalen Netz"
   ]
  },
  {
   "cell_type": "code",
   "execution_count": null,
   "metadata": {},
   "outputs": [
    {
     "name": "stdout",
     "output_type": "stream",
     "text": [
      "Episode: 0 \tReward: -21.0\n",
      "Episode: 1 \tReward: -21.0\n",
      "Episode: 2 \tReward: -21.0\n"
     ]
    }
   ],
   "source": [
    "EPISODES = 5\n",
    "\n",
    "for episode in range(EPISODES):\n",
    "    state = env.reset()\n",
    "    state = state.reshape(1, 84, 84, 1)\n",
    "    state = state.astype(np.float32)\n",
    "    done = False\n",
    "    Episode_Reward = 0\n",
    "    while not done:\n",
    "        action = model.predict(state)[0][0]\n",
    "        action = int(round(action, 0))\n",
    "        state, reward, done, info = env.step(action)\n",
    "        state = state.reshape(1, 84, 84, 1)\n",
    "        state = state.astype(np.float32)\n",
    "        Episode_Reward += reward\n",
    "        \n",
    "        if done:\n",
    "            print(\"Episode:\", episode, \"\\tReward:\", Episode_Reward)"
   ]
  }
 ],
 "metadata": {
  "kernelspec": {
   "display_name": "Python 3",
   "language": "python",
   "name": "python3"
  },
  "language_info": {
   "codemirror_mode": {
    "name": "ipython",
    "version": 3
   },
   "file_extension": ".py",
   "mimetype": "text/x-python",
   "name": "python",
   "nbconvert_exporter": "python",
   "pygments_lexer": "ipython3",
   "version": "3.6.8"
  }
 },
 "nbformat": 4,
 "nbformat_minor": 2
}
