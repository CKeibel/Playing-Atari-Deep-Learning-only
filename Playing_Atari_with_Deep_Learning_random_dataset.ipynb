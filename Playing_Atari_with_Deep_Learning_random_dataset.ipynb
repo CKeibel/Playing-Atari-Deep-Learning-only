{
  "nbformat": 4,
  "nbformat_minor": 0,
  "metadata": {
    "kernelspec": {
      "display_name": "Python 3",
      "language": "python",
      "name": "python3"
    },
    "language_info": {
      "codemirror_mode": {
        "name": "ipython",
        "version": 3
      },
      "file_extension": ".py",
      "mimetype": "text/x-python",
      "name": "python",
      "nbconvert_exporter": "python",
      "pygments_lexer": "ipython3",
      "version": "3.6.8"
    },
    "colab": {
      "name": "Playing_Atari_with_Deep-Learning_random_dataset.ipynb",
      "provenance": [],
      "collapsed_sections": [],
      "toc_visible": true
    }
  },
  "cells": [
    {
      "cell_type": "markdown",
      "metadata": {
        "id": "RMn53p6YR-pf"
      },
      "source": [
        "# playing Atari with Deep Learning"
      ]
    },
    {
      "cell_type": "code",
      "metadata": {
        "id": "lgxvXMASR-py"
      },
      "source": [
        "# choose game\n",
        "game = \"Pong-v0\""
      ],
      "execution_count": 1,
      "outputs": []
    },
    {
      "cell_type": "markdown",
      "metadata": {
        "id": "oA37Mc9dTo99"
      },
      "source": [
        "# generate Dataset by random play\r\n",
        "\r\n",
        "* saving only good sequences"
      ]
    },
    {
      "cell_type": "code",
      "metadata": {
        "scrolled": true,
        "id": "QRFkZvcjR-p0",
        "colab": {
          "base_uri": "https://localhost:8080/"
        },
        "outputId": "ebdc6bf0-1373-43eb-a7e3-85cafb384422"
      },
      "source": [
        "import numpy as np\n",
        "import gym\n",
        "\n",
        "env = gym.make(game)\n",
        "x_data = [] # Bilder (States)\n",
        "y_data = [] # Label (Aktionen)\n",
        "\n",
        "DATASET_SIZE = 20\n",
        "saved_episodes = 0\n",
        "\n",
        "# Datensatz generieren\n",
        "the_end = False\n",
        "while not the_end:\n",
        "    done = False\n",
        "    state = env.reset()\n",
        "    episode_obs = []\n",
        "    episode_acts = []\n",
        "  \n",
        "    while not done:\n",
        "        action = env.action_space.sample()\n",
        "        episode_obs.append(state)\n",
        "        episode_acts.append(action)\n",
        "        state, reward, done, info = env.step(action)\n",
        "    \n",
        "        if reward < 0:\n",
        "            episode_acts = []\n",
        "            episode_obs = []\n",
        "        elif reward > 0:\n",
        "            x_data += episode_obs\n",
        "            y_data += episode_acts\n",
        "            episode_obs = []\n",
        "            episode_acts = []\n",
        "            saved_episodes += 1\n",
        "            if saved_episodes % 10 == 0:\n",
        "                print(saved_episodes)\n",
        "            if saved_episodes+1 > DATASET_SIZE:\n",
        "                print(\"Dataset completed\")\n",
        "                the_end = True"
      ],
      "execution_count": 6,
      "outputs": [
        {
          "output_type": "stream",
          "text": [
            "10\n",
            "20\n",
            "Dataset completed\n"
          ],
          "name": "stdout"
        }
      ]
    },
    {
      "cell_type": "markdown",
      "metadata": {
        "id": "9TTqB01eYUB6"
      },
      "source": [
        "# Preprocessing"
      ]
    },
    {
      "cell_type": "code",
      "metadata": {
        "colab": {
          "base_uri": "https://localhost:8080/"
        },
        "id": "PdMRdMwMZYSv",
        "outputId": "7c396a48-3616-4ff8-9316-17e8804c5d9f"
      },
      "source": [
        "x_data = np.array(x_data)\r\n",
        "y_data = np.array(y_data)\r\n",
        "x_data.shape, y_data.shape"
      ],
      "execution_count": 10,
      "outputs": [
        {
          "output_type": "execute_result",
          "data": {
            "text/plain": [
              "((1418, 210, 160, 3), (1418,))"
            ]
          },
          "metadata": {
            "tags": []
          },
          "execution_count": 10
        }
      ]
    },
    {
      "cell_type": "code",
      "metadata": {
        "colab": {
          "base_uri": "https://localhost:8080/"
        },
        "id": "ww_OsqftZqAO",
        "outputId": "377316cb-fc44-420c-94ed-3137ba073b8b"
      },
      "source": [
        "x_data[0].shape"
      ],
      "execution_count": 12,
      "outputs": [
        {
          "output_type": "execute_result",
          "data": {
            "text/plain": [
              "(210, 160, 3)"
            ]
          },
          "metadata": {
            "tags": []
          },
          "execution_count": 12
        }
      ]
    },
    {
      "cell_type": "markdown",
      "metadata": {
        "id": "Z9PFtrNLY5Sd"
      },
      "source": [
        "### resize images to 80x80 pixels"
      ]
    },
    {
      "cell_type": "code",
      "metadata": {
        "id": "uyIJN1MVbaEc"
      },
      "source": [
        "def resize(img):\r\n",
        "    height = 80\r\n",
        "    width = 80\r\n",
        "    return cv2.resize(img, (width, height), interpolation=cv2.INTER_AREA)"
      ],
      "execution_count": 23,
      "outputs": []
    },
    {
      "cell_type": "code",
      "metadata": {
        "id": "roOO6duzbySo"
      },
      "source": [
        "resized_x_data = [resize(img) for img in x_data]\r\n",
        "resized_x_data = np.array(resized_x_data)"
      ],
      "execution_count": 24,
      "outputs": []
    },
    {
      "cell_type": "code",
      "metadata": {
        "colab": {
          "base_uri": "https://localhost:8080/",
          "height": 284
        },
        "id": "UTbEwSSdaHDU",
        "outputId": "c84105a0-20a3-4f10-d0c1-a26dd549d108"
      },
      "source": [
        "import matplotlib.pyplot as plt\r\n",
        "fig, axs = plt.subplots(1,2)\r\n",
        "\r\n",
        "axs[0].imshow(x_data[0, :, :, :])\r\n",
        "axs[0].set_title(\"Original\", fontsize=\"15\")\r\n",
        "axs[1].imshow(resized_x_data[0, :, :, :])\r\n",
        "axs[1].set_title(\"Resized\", fontsize=\"15\")"
      ],
      "execution_count": 31,
      "outputs": [
        {
          "output_type": "execute_result",
          "data": {
            "text/plain": [
              "Text(0.5, 1.0, 'Resized')"
            ]
          },
          "metadata": {
            "tags": []
          },
          "execution_count": 31
        },
        {
          "output_type": "display_data",
          "data": {
            "image/png": "[encoded data removed]",
            "text/plain": [
              "<Figure size 432x288 with 2 Axes>"
            ]
          },
          "metadata": {
            "tags": [],
            "needs_background": "light"
          }
        }
      ]
    },
    {
      "cell_type": "markdown",
      "metadata": {
        "id": "UCrcMOZpeEru"
      },
      "source": [
        "### RGB to Grayscale"
      ]
    },
    {
      "cell_type": "code",
      "metadata": {
        "id": "jAwmi_HaeJdg"
      },
      "source": [
        "def grayscale(img):\r\n",
        "    img = cv2.cvtColor(img, cv2.COLOR_BGR2GRAY)\r\n",
        "    img = np.reshape(img, (img.shape[0], img.shape[1], 1))\r\n",
        "    return img"
      ],
      "execution_count": 45,
      "outputs": []
    },
    {
      "cell_type": "code",
      "metadata": {
        "id": "Bf7I6ZIdf8t7"
      },
      "source": [
        "gray_x_data = [grayscale(img) for img in resized_x_data]\r\n",
        "gray_x_data = np.array(gray_x_data)"
      ],
      "execution_count": 47,
      "outputs": []
    },
    {
      "cell_type": "code",
      "metadata": {
        "colab": {
          "base_uri": "https://localhost:8080/",
          "height": 236
        },
        "id": "k6Di_4PAg-Ol",
        "outputId": "489cf7bf-8fa3-40aa-bd78-de2ecf2aa75f"
      },
      "source": [
        "fig, axs = plt.subplots(1, 2)\r\n",
        "axs[0].imshow(resized_x_data[0, :, :, :])\r\n",
        "axs[0].set_title(\"Resized\", fontsize=\"15\")\r\n",
        "axs[1].imshow(gray_x_data[0, :, :, 0], cmap=\"gray\")\r\n",
        "axs[1].set_title(\"Grayscale\", fontsize=\"15\")"
      ],
      "execution_count": 54,
      "outputs": [
        {
          "output_type": "execute_result",
          "data": {
            "text/plain": [
              "Text(0.5, 1.0, 'Grayscale')"
            ]
          },
          "metadata": {
            "tags": []
          },
          "execution_count": 54
        },
        {
          "output_type": "display_data",
          "data": {
            "image/png": "[encoded data removed]",
            "text/plain": [
              "<Figure size 432x288 with 2 Axes>"
            ]
          },
          "metadata": {
            "tags": [],
            "needs_background": "light"
          }
        }
      ]
    },
    {
      "cell_type": "markdown",
      "metadata": {
        "id": "yxC3qk02i7Fp"
      },
      "source": [
        "### Frame Stack"
      ]
    },
    {
      "cell_type": "code",
      "metadata": {
        "id": "gj_qhnX1jDXm"
      },
      "source": [
        "/*\r\n",
        "    -Datensatz durchlaufen\r\n",
        "    -Queue(4)\r\n",
        "    - append Queue to Data\r\n",
        "    -> Actions\r\n",
        "*/\r\n"
      ],
      "execution_count": null,
      "outputs": []
    },
    {
      "cell_type": "code",
      "metadata": {
        "id": "C_sn-dviR-p6"
      },
      "source": [
        "# Teilen in Training und Test, shuffeln des Datensatzes\n",
        "from sklearn.model_selection import train_test_split\n",
        "x_train, x_test, y_train, y_test = train_test_split(\n",
        "        x_data, y_data, test_size=0.2)"
      ],
      "execution_count": null,
      "outputs": []
    },
    {
      "cell_type": "code",
      "metadata": {
        "id": "znuFRgk1R-p6",
        "outputId": "1326d491-09a7-470a-b532-e72ab5aeb3aa"
      },
      "source": [
        "len(y_train), len(y_test)"
      ],
      "execution_count": null,
      "outputs": [
        {
          "output_type": "execute_result",
          "data": {
            "text/plain": [
              "(63872, 15968)"
            ]
          },
          "metadata": {
            "tags": []
          },
          "execution_count": 12
        }
      ]
    },
    {
      "cell_type": "code",
      "metadata": {
        "id": "Pq7GyG15R-p7",
        "outputId": "10162334-b4d9-4f37-9245-41ed3f2ee04c"
      },
      "source": [
        "count_train = Counter(y_train)\n",
        "count_test = Counter(y_test)\n",
        "\n",
        "fig, axs = plt.subplots(1, 2, figsize=(15, 5), sharey=True)\n",
        "fig.suptitle(\"Aufteilung des Datensatzes\", fontsize=22)\n",
        "axs[0].bar(count_train.keys(), count_train.values(), color=colors)\n",
        "axs[0].set_title(\"Tainings Datensatz\", fontsize=15)\n",
        "axs[0].set_xlabel(\"Actions\")\n",
        "axs[0].set_ylabel(\"Samples\")\n",
        "\n",
        "axs[1].bar(count_test.keys(), count_test.values(), color=colors)\n",
        "axs[1].set_title(\"Test Datebsatz\", fontsize=16)\n",
        "axs[1].set_xlabel(\"Actions\")\n",
        "axs[1].set_ylabel(\"Samples\")\n",
        "plt.show()"
      ],
      "execution_count": null,
      "outputs": [
        {
          "output_type": "display_data",
          "data": {
            "image/png": "[encoded data removed]",
            "text/plain": [
              "<Figure size 1080x360 with 2 Axes>"
            ]
          },
          "metadata": {
            "tags": [],
            "needs_background": "light"
          }
        }
      ]
    },
    {
      "cell_type": "code",
      "metadata": {
        "id": "1wge34THR-p7"
      },
      "source": [
        "# konvertieren in richtiges Format\n",
        "x_train = np.array(x_train, dtype=np.float32)\n",
        "x_test = np.array(x_test, dtype=np.float32)\n",
        "y_train = np.array(y_train, dtype=np.float32)\n",
        "y_test = np.array(y_test, dtype=np.float32)"
      ],
      "execution_count": null,
      "outputs": []
    },
    {
      "cell_type": "markdown",
      "metadata": {
        "id": "IoWl4NPBR-p7"
      },
      "source": [
        "## 2. Erstellen des künstlichen neuronalen Netzes"
      ]
    },
    {
      "cell_type": "code",
      "metadata": {
        "id": "-Q4GjusRR-p8"
      },
      "source": [
        "# Input und Output shape\n",
        "INPUT_SHAPE = np.shape(x_data)[1:]\n",
        "OUTPUT_SHAPE = 1"
      ],
      "execution_count": null,
      "outputs": []
    },
    {
      "cell_type": "code",
      "metadata": {
        "id": "_YqVifqFR-p8"
      },
      "source": [
        "import tensorflow\n",
        "from tensorflow.keras.layers import Activation\n",
        "from tensorflow.keras.layers import Conv2D\n",
        "from tensorflow.keras.layers import Dense\n",
        "from tensorflow.keras.layers import Flatten\n",
        "from tensorflow.keras.layers import Input\n",
        "from tensorflow.keras.models import Model\n",
        "from tensorflow.keras.losses import Huber\n",
        "from tensorflow.keras.optimizers import Adam\n",
        "\n",
        "net_input = Input(shape=INPUT_SHAPE)\n",
        "x = Conv2D(filters=32, kernel_size=(8, 8), strides=(4, 4), padding=\"same\")(net_input)\n",
        "x = Activation(\"relu\")(x)\n",
        "x = Conv2D(filters=64, kernel_size=(4, 4), strides=(2, 2), padding=\"same\")(x)\n",
        "x = Activation(\"relu\")(x)\n",
        "x = Conv2D(filters=64, kernel_size=(3, 3), strides=(1, 1), padding=\"same\")(x)\n",
        "x = Activation(\"relu\")(x)\n",
        "x = Flatten()(x)\n",
        "x = Dense(512)(x)\n",
        "x = Activation(\"relu\")(x)\n",
        "net_output = Dense(OUTPUT_SHAPE)(x)\n",
        "\n",
        "LOSS_FUNCTION = Huber()\n",
        "OPTIMIZER = Adam(lr=0.0005)\n",
        "\n",
        "model = Model(inputs=net_input, outputs=net_output)\n",
        "model.compile(loss=LOSS_FUNCTION, optimizer=OPTIMIZER)"
      ],
      "execution_count": null,
      "outputs": []
    },
    {
      "cell_type": "code",
      "metadata": {
        "id": "n6d2qk_IR-p9",
        "outputId": "c0cb02e5-b73a-4503-add1-7267687613c4"
      },
      "source": [
        "EPOCHS = 30\n",
        "\n",
        "training = model.fit(\n",
        "    x_train,\n",
        "    y_train,\n",
        "    batch_size=64,\n",
        "    epochs=EPOCHS, \n",
        "    verbose=1)"
      ],
      "execution_count": null,
      "outputs": [
        {
          "output_type": "stream",
          "text": [
            "Epoch 1/30\n"
          ],
          "name": "stdout"
        },
        {
          "output_type": "stream",
          "text": [
            "WARNING: Logging before flag parsing goes to stderr.\n",
            "W1229 16:15:45.354696 139854935250752 deprecation.py:323] From /usr/local/lib/python3.6/dist-packages/tensorflow_core/python/ops/math_grad.py:1393: where (from tensorflow.python.ops.array_ops) is deprecated and will be removed in a future version.\n",
            "Instructions for updating:\n",
            "Use tf.where in 2.0, which has the same broadcast rule as np.where\n",
            "W1229 16:15:45.449472 139854935250752 deprecation.py:323] From /usr/local/lib/python3.6/dist-packages/tensorflow_core/python/keras/optimizer_v2/optimizer_v2.py:466: BaseResourceVariable.constraint (from tensorflow.python.ops.resource_variable_ops) is deprecated and will be removed in a future version.\n",
            "Instructions for updating:\n",
            "Apply a constraint manually following the optimizer update step.\n"
          ],
          "name": "stderr"
        },
        {
          "output_type": "stream",
          "text": [
            "63872/63872 [==============================] - 17s 271us/sample - loss: 1.0660\n",
            "Epoch 2/30\n",
            "63872/63872 [==============================] - 15s 233us/sample - loss: 1.0555\n",
            "Epoch 3/30\n",
            "63872/63872 [==============================] - 14s 213us/sample - loss: 1.0534\n",
            "Epoch 4/30\n",
            "63872/63872 [==============================] - 14s 220us/sample - loss: 1.0532\n",
            "Epoch 5/30\n",
            "63872/63872 [==============================] - 15s 235us/sample - loss: 1.0524\n",
            "Epoch 6/30\n",
            "63872/63872 [==============================] - 14s 224us/sample - loss: 1.0520\n",
            "Epoch 7/30\n",
            "63872/63872 [==============================] - 14s 220us/sample - loss: 1.0514\n",
            "Epoch 8/30\n",
            "63872/63872 [==============================] - 14s 222us/sample - loss: 1.0511\n",
            "Epoch 9/30\n",
            "63872/63872 [==============================] - 14s 219us/sample - loss: 1.0516\n",
            "Epoch 10/30\n",
            "63872/63872 [==============================] - 15s 228us/sample - loss: 1.0516\n",
            "Epoch 11/30\n",
            "63872/63872 [==============================] - 14s 216us/sample - loss: 1.0511\n",
            "Epoch 12/30\n",
            "63872/63872 [==============================] - 16s 252us/sample - loss: 1.0512\n",
            "Epoch 13/30\n",
            "63872/63872 [==============================] - 14s 224us/sample - loss: 1.0507\n",
            "Epoch 14/30\n",
            "63872/63872 [==============================] - 13s 209us/sample - loss: 1.0507\n",
            "Epoch 15/30\n",
            "63872/63872 [==============================] - 14s 213us/sample - loss: 1.0506\n",
            "Epoch 16/30\n",
            "63872/63872 [==============================] - 14s 215us/sample - loss: 1.0510\n",
            "Epoch 17/30\n",
            "63872/63872 [==============================] - 14s 223us/sample - loss: 1.0511\n",
            "Epoch 18/30\n",
            "63872/63872 [==============================] - 14s 225us/sample - loss: 1.0506\n",
            "Epoch 19/30\n",
            "63872/63872 [==============================] - 14s 217us/sample - loss: 1.0504\n",
            "Epoch 20/30\n",
            "63872/63872 [==============================] - 14s 213us/sample - loss: 1.0510\n",
            "Epoch 21/30\n",
            "63872/63872 [==============================] - 14s 218us/sample - loss: 1.0510\n",
            "Epoch 22/30\n",
            "63872/63872 [==============================] - 14s 216us/sample - loss: 1.0511\n",
            "Epoch 23/30\n",
            "63872/63872 [==============================] - 14s 213us/sample - loss: 1.0506\n",
            "Epoch 24/30\n",
            "63872/63872 [==============================] - 13s 211us/sample - loss: 1.0505\n",
            "Epoch 25/30\n",
            "63872/63872 [==============================] - 14s 217us/sample - loss: 1.0504\n",
            "Epoch 26/30\n",
            "63872/63872 [==============================] - 14s 220us/sample - loss: 1.0508\n",
            "Epoch 27/30\n",
            "63872/63872 [==============================] - 14s 217us/sample - loss: 1.0511\n",
            "Epoch 28/30\n",
            "63872/63872 [==============================] - 14s 215us/sample - loss: 1.0507\n",
            "Epoch 29/30\n",
            "63872/63872 [==============================] - 14s 216us/sample - loss: 1.0505\n",
            "Epoch 30/30\n",
            "63872/63872 [==============================] - 14s 212us/sample - loss: 1.0504\n"
          ],
          "name": "stdout"
        }
      ]
    },
    {
      "cell_type": "code",
      "metadata": {
        "id": "YzYd2tZdR-p9",
        "outputId": "2b8c7e83-2ae3-4ba9-ee67-88f1b11cdf50"
      },
      "source": [
        "model.evaluate(x_test, y_test, verbose=0)"
      ],
      "execution_count": null,
      "outputs": [
        {
          "output_type": "execute_result",
          "data": {
            "text/plain": [
              "1.055940805551762"
            ]
          },
          "metadata": {
            "tags": []
          },
          "execution_count": 24
        }
      ]
    },
    {
      "cell_type": "code",
      "metadata": {
        "id": "5xgn_vmCR-p9",
        "outputId": "97cb5da5-a170-40fe-be4b-67fb7bc3c3fd"
      },
      "source": [
        "import matplotlib.pyplot as plt\n",
        "model_hist = training.history\n",
        "plt.plot(model_hist['loss'])\n",
        "plt.show()"
      ],
      "execution_count": null,
      "outputs": [
        {
          "output_type": "display_data",
          "data": {
            "image/png": "[encoded data removed]",
            "text/plain": [
              "<Figure size 432x288 with 1 Axes>"
            ]
          },
          "metadata": {
            "tags": [],
            "needs_background": "light"
          }
        }
      ]
    },
    {
      "cell_type": "code",
      "metadata": {
        "id": "OYWGhmItR-q6",
        "outputId": "baacf02f-ec2b-45e0-c9ca-53bc7829f518"
      },
      "source": [
        "y_pred = model.predict(x_test)\n",
        "y_pred"
      ],
      "execution_count": null,
      "outputs": [
        {
          "output_type": "execute_result",
          "data": {
            "text/plain": [
              "array([[2.5298357],\n",
              "       [2.5298357],\n",
              "       [2.5298357],\n",
              "       ...,\n",
              "       [2.5298357],\n",
              "       [2.5298357],\n",
              "       [2.5298357]], dtype=float32)"
            ]
          },
          "metadata": {
            "tags": []
          },
          "execution_count": 27
        }
      ]
    },
    {
      "cell_type": "markdown",
      "metadata": {
        "id": "jx_qGHxcR-q7"
      },
      "source": [
        "## 3. Spielen mit trainiertem neuronalen Netz"
      ]
    },
    {
      "cell_type": "code",
      "metadata": {
        "id": "wq4iBBI4R-q7",
        "outputId": "04015a33-cc7d-4c2d-ccb7-ced408e6f1e6"
      },
      "source": [
        "EPISODES = 5\n",
        "\n",
        "for episode in range(EPISODES):\n",
        "    state = env.reset()\n",
        "    state = state.reshape(1, 84, 84, 1)\n",
        "    state = state.astype(np.float32)\n",
        "    done = False\n",
        "    Episode_Reward = 0\n",
        "    while not done:\n",
        "        action = model.predict(state)[0][0]\n",
        "        action = int(round(action, 0))\n",
        "        state, reward, done, info = env.step(action)\n",
        "        state = state.reshape(1, 84, 84, 1)\n",
        "        state = state.astype(np.float32)\n",
        "        Episode_Reward += reward\n",
        "        \n",
        "        if done:\n",
        "            print(\"Episode:\", episode, \"\\tReward:\", Episode_Reward)"
      ],
      "execution_count": null,
      "outputs": [
        {
          "output_type": "stream",
          "text": [
            "Episode: 0 \tReward: -21.0\n",
            "Episode: 1 \tReward: -21.0\n",
            "Episode: 2 \tReward: -21.0\n"
          ],
          "name": "stdout"
        }
      ]
    }
  ]
}