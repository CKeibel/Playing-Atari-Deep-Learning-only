{
 "cells": [
  {
   "cell_type": "markdown",
   "metadata": {
    "id": "RMn53p6YR-pf"
   },
   "source": [
    "# playing Atari with Deep Learning"
   ]
  },
  {
   "cell_type": "code",
   "execution_count": 3,
   "metadata": {
    "id": "lgxvXMASR-py"
   },
   "outputs": [],
   "source": [
    "# choose game\n",
    "game = \"Pong-v0\""
   ]
  },
  {
   "cell_type": "markdown",
   "metadata": {
    "id": "oA37Mc9dTo99"
   },
   "source": [
    "# generate Dataset by random play\n",
    "\n",
    "* saving only good sequences"
   ]
  },
  {
   "cell_type": "code",
   "execution_count": 4,
   "metadata": {
    "colab": {
     "base_uri": "https://localhost:8080/"
    },
    "id": "QRFkZvcjR-p0",
    "outputId": "3b2f9605-3a06-4a77-8ac3-4dba2f7e6a67",
    "scrolled": true
   },
   "outputs": [
    {
     "name": "stdout",
     "output_type": "stream",
     "text": [
      "Dataset completed\n",
      "Dataset completed\n"
     ]
    }
   ],
   "source": [
    "import numpy as np\n",
    "import gym\n",
    "\n",
    "env = gym.make(game)\n",
    "x_data = [] # Bilder (States)\n",
    "y_data = [] # Label (Aktionen)\n",
    "\n",
    "DATASET_SIZE = 5#1500\n",
    "saved_episodes = 0\n",
    "\n",
    "# Datensatz generieren\n",
    "the_end = False\n",
    "while not the_end:\n",
    "    done = False\n",
    "    state = env.reset()\n",
    "    episode_obs = []\n",
    "    episode_acts = []\n",
    "  \n",
    "    while not done:\n",
    "        action = env.action_space.sample()\n",
    "        episode_obs.append(state)\n",
    "        episode_acts.append(action)\n",
    "        state, reward, done, info = env.step(action)\n",
    "    \n",
    "        if reward < 0:\n",
    "            episode_acts = []\n",
    "            episode_obs = []\n",
    "        elif reward > 0:\n",
    "            x_data += episode_obs\n",
    "            y_data += episode_acts\n",
    "            episode_obs = []\n",
    "            episode_acts = []\n",
    "            saved_episodes += 1\n",
    "            if saved_episodes % 100 == 0:\n",
    "                print(saved_episodes)\n",
    "            if saved_episodes+1 > DATASET_SIZE:\n",
    "                print(\"Dataset completed\")\n",
    "                the_end = True"
   ]
  },
  {
   "cell_type": "markdown",
   "metadata": {
    "id": "9TTqB01eYUB6"
   },
   "source": [
    "# Preprocessing"
   ]
  },
  {
   "cell_type": "code",
   "execution_count": 5,
   "metadata": {
    "colab": {
     "base_uri": "https://localhost:8080/"
    },
    "id": "PdMRdMwMZYSv",
    "outputId": "cb66f955-2b59-4176-b438-69e349958bb5"
   },
   "outputs": [
    {
     "data": {
      "text/plain": [
       "((446, 210, 160, 3), (446,))"
      ]
     },
     "execution_count": 5,
     "metadata": {},
     "output_type": "execute_result"
    }
   ],
   "source": [
    "x_data = np.array(x_data)\n",
    "y_data = np.array(y_data)\n",
    "x_data.shape, y_data.shape"
   ]
  },
  {
   "cell_type": "code",
   "execution_count": 6,
   "metadata": {
    "colab": {
     "base_uri": "https://localhost:8080/"
    },
    "id": "ww_OsqftZqAO",
    "outputId": "42b59ef2-fbe5-4119-8e95-e1c17d461ba7"
   },
   "outputs": [
    {
     "data": {
      "text/plain": [
       "(210, 160, 3)"
      ]
     },
     "execution_count": 6,
     "metadata": {},
     "output_type": "execute_result"
    }
   ],
   "source": [
    "x_data[0].shape"
   ]
  },
  {
   "cell_type": "markdown",
   "metadata": {
    "id": "Z9PFtrNLY5Sd"
   },
   "source": [
    "### resize images to 84x84 pixels"
   ]
  },
  {
   "cell_type": "code",
   "execution_count": 7,
   "metadata": {
    "id": "uyIJN1MVbaEc"
   },
   "outputs": [],
   "source": [
    "import cv2\n",
    "def resize(img):\n",
    "    height = 84\n",
    "    width = 84\n",
    "    return cv2.resize(img, (width, height), interpolation=cv2.INTER_AREA)"
   ]
  },
  {
   "cell_type": "code",
   "execution_count": 8,
   "metadata": {
    "id": "roOO6duzbySo"
   },
   "outputs": [],
   "source": [
    "resized_x_data = [resize(img) for img in x_data]\n",
    "resized_x_data = np.array(resized_x_data)"
   ]
  },
  {
   "cell_type": "code",
   "execution_count": 10,
   "metadata": {
    "colab": {
     "base_uri": "https://localhost:8080/",
     "height": 284
    },
    "id": "UTbEwSSdaHDU",
    "outputId": "0498bd1e-a192-4233-bd95-26ce27a73773"
   },
   "outputs": [
    {
     "data": {
      "image/png": "[encoded data removed]",
      "text/plain": [
       "<Figure size 432x288 with 2 Axes>"
      ]
     },
     "metadata": {
      "needs_background": "light"
     },
     "output_type": "display_data"
    }
   ],
   "source": [
    "import matplotlib.pyplot as plt\n",
    "%matplotlib inline  \n",
    "\n",
    "fig, axs = plt.subplots(1,2)\n",
    "\n",
    "axs[0].imshow(x_data[0, :, :, :])\n",
    "axs[0].set_title(\"Original\", fontsize=\"15\")\n",
    "axs[1].imshow(resized_x_data[0, :, :, :])\n",
    "axs[1].set_title(\"Resized\", fontsize=\"15\")\n",
    "plt.show()"
   ]
  },
  {
   "cell_type": "markdown",
   "metadata": {
    "id": "UCrcMOZpeEru"
   },
   "source": [
    "### RGB to Grayscale"
   ]
  },
  {
   "cell_type": "code",
   "execution_count": 11,
   "metadata": {
    "id": "jAwmi_HaeJdg"
   },
   "outputs": [],
   "source": [
    "def grayscale(img):\n",
    "    img = cv2.cvtColor(img, cv2.COLOR_BGR2GRAY)\n",
    "    img = np.reshape(img, (img.shape[0], img.shape[1], 1))\n",
    "    return img"
   ]
  },
  {
   "cell_type": "code",
   "execution_count": 12,
   "metadata": {
    "id": "Bf7I6ZIdf8t7"
   },
   "outputs": [],
   "source": [
    "gray_x_data = [grayscale(img) for img in resized_x_data]\n",
    "gray_x_data = np.array(gray_x_data)"
   ]
  },
  {
   "cell_type": "code",
   "execution_count": 13,
   "metadata": {
    "colab": {
     "base_uri": "https://localhost:8080/",
     "height": 236
    },
    "id": "k6Di_4PAg-Ol",
    "outputId": "6c4f6002-173a-4bab-fa3b-88440b72df9c"
   },
   "outputs": [
    {
     "data": {
      "image/png": "[encoded data removed]",
      "text/plain": [
       "<Figure size 432x288 with 2 Axes>"
      ]
     },
     "metadata": {
      "needs_background": "light"
     },
     "output_type": "display_data"
    }
   ],
   "source": [
    "fig, axs = plt.subplots(1, 2)\n",
    "axs[0].imshow(resized_x_data[0, :, :, :])\n",
    "axs[0].set_title(\"Resized\", fontsize=\"15\")\n",
    "axs[1].imshow(gray_x_data[0, :, :, 0], cmap=\"gray\")\n",
    "axs[1].set_title(\"Grayscale\", fontsize=\"15\")\n",
    "plt.show()"
   ]
  },
  {
   "cell_type": "markdown",
   "metadata": {
    "id": "yxC3qk02i7Fp"
   },
   "source": [
    "### Frame Stack"
   ]
  },
  {
   "cell_type": "code",
   "execution_count": 58,
   "metadata": {
    "id": "gj_qhnX1jDXm"
   },
   "outputs": [],
   "source": [
    "from collections import deque\n",
    "def framestack(dataset):\n",
    "    data = []\n",
    "    frames = deque(maxlen=4)\n",
    "\n",
    "    # initialize first deque\n",
    "    for _ in range(4):\n",
    "        frames.append(dataset[0])\n",
    "    framestack = np.asarray(frames, dtype=np.float32)\n",
    "    framestack = np.moveaxis(framestack, 0, -1).reshape(84, 84, -1)\n",
    "\n",
    "    # create deques from dataset\n",
    "    for state in dataset:\n",
    "        frames.append(state)\n",
    "        framestack = np.asarray(frames, dtype=np.float32)\n",
    "        framestack = np.moveaxis(framestack, 0, -1).reshape(84, 84, -1)\n",
    "        data.append(framestack)\n",
    "\n",
    "    return data"
   ]
  },
  {
   "cell_type": "code",
   "execution_count": 108,
   "metadata": {},
   "outputs": [],
   "source": [
    "stack_data = framestack(gray_x_data) \n",
    "stack_data = np.array(stack_data)"
   ]
  },
  {
   "cell_type": "code",
   "execution_count": 109,
   "metadata": {},
   "outputs": [
    {
     "data": {
      "image/png": "[encoded data removed]",
      "text/plain": [
       "<Figure size 720x360 with 4 Axes>"
      ]
     },
     "metadata": {
      "needs_background": "light"
     },
     "output_type": "display_data"
    }
   ],
   "source": [
    "fig, axs = plt.subplots(1, 4, figsize=(10,5))\n",
    "axs[0].imshow(stack_data[0+4, :, :, 0], cmap=\"gray\") # +4, because of 4 same initial frames\n",
    "axs[1].imshow(stack_data[1+4, :, :, 1], cmap=\"gray\")\n",
    "axs[2].imshow(stack_data[2+4, :, :, 2], cmap=\"gray\")\n",
    "axs[3].imshow(stack_data[3+4, :, :, 3], cmap=\"gray\")\n",
    "plt.show()"
   ]
  },
  {
   "cell_type": "markdown",
   "metadata": {},
   "source": [
    "### Sequenes"
   ]
  },
  {
   "cell_type": "code",
   "execution_count": 14,
   "metadata": {},
   "outputs": [
    {
     "data": {
      "text/plain": [
       "((446, 210, 160, 3), (446,))"
      ]
     },
     "execution_count": 14,
     "metadata": {},
     "output_type": "execute_result"
    }
   ],
   "source": [
    "x_data.shape, y_data.shape"
   ]
  },
  {
   "cell_type": "code",
   "execution_count": 19,
   "metadata": {},
   "outputs": [
    {
     "data": {
      "text/plain": [
       "((210, 160, 3), array([0, 5, 3, 4]))"
      ]
     },
     "execution_count": 19,
     "metadata": {},
     "output_type": "execute_result"
    }
   ],
   "source": [
    "np.shape(x_data[4]), y_data[:4]"
   ]
  },
  {
   "cell_type": "code",
   "execution_count": 126,
   "metadata": {
    "colab": {
     "base_uri": "https://localhost:8080/"
    },
    "id": "fJKjcCDMpUTL",
    "outputId": "5c933575-4d49-4f95-aa2f-c945a8520cc4"
   },
   "outputs": [],
   "source": [
    "def sequences(x_data, y_data):\n",
    "    x = [x_data[:4]]\n",
    "    y = [y_data[3]]\n",
    "    \n",
    "    n = 4\n",
    "    for i in range(n, x_data.shape[0]):\n",
    "        x.append(x_data[4:n+4])\n",
    "        y.append(y_data[i])\n",
    "   \n",
    "    x = np.asarray(x)\n",
    "    y = np.asarray(y)\n",
    "    return x, y"
   ]
  },
  {
   "cell_type": "code",
   "execution_count": 129,
   "metadata": {},
   "outputs": [],
   "source": [
    "x_sequences, y_sequences = sequences(gray_x_data, y_data)"
   ]
  },
  {
   "cell_type": "markdown",
   "metadata": {
    "id": "1czVT38wzbHJ"
   },
   "source": [
    "### converting labels to categorical labels"
   ]
  },
  {
   "cell_type": "code",
   "execution_count": 14,
   "metadata": {
    "id": "7L2wBkTtzaZ_"
   },
   "outputs": [],
   "source": [
    "from tensorflow.keras.utils import to_categorical\n",
    "y = to_categorical(y=y_data, num_classes=env.action_space.n)"
   ]
  },
  {
   "cell_type": "markdown",
   "metadata": {
    "id": "-H1fJpNxwSPy"
   },
   "source": [
    "### shuffle data"
   ]
  },
  {
   "cell_type": "code",
   "execution_count": 15,
   "metadata": {
    "id": "rBI7d68iwRBn"
   },
   "outputs": [],
   "source": [
    "# create random indices\n",
    "idx = np.random.permutation(len(x_data))\n",
    "# x - resized grayscale input\n",
    "# x_stacked - resized grayscale input in framestacks\n",
    "# labels - actions in to_categorical\n",
    "x, x_stacked, labels = gray_x_data[idx], stack_data[idx], y[idx]"
   ]
  },
  {
   "cell_type": "markdown",
   "metadata": {
    "id": "IoWl4NPBR-p7"
   },
   "source": [
    "# create a model\n"
   ]
  },
  {
   "cell_type": "code",
   "execution_count": 103,
   "metadata": {
    "id": "YQYdMrat39p5"
   },
   "outputs": [],
   "source": [
    "import tensorflow\n",
    "from tensorflow.keras.layers import Activation\n",
    "from tensorflow.keras.layers import Conv2D\n",
    "from tensorflow.keras.layers import Dense\n",
    "from tensorflow.keras.layers import ConvLSTM2D\n",
    "from tensorflow.keras.layers import Flatten\n",
    "from tensorflow.keras.layers import Input\n",
    "from tensorflow.keras.models import Model\n",
    "from tensorflow.keras.losses import Huber\n",
    "from tensorflow.keras.optimizers import Adam\n",
    "\n",
    "def create_nn(input_shape, output_shape, lstm):\n",
    "    net_input = Input(shape=input_shape) \n",
    "    \n",
    "    if lstm: # Input: samples, time, rows, cols, channels\n",
    "        x = ConvLSTM(filters=32, kenrel_size=(8, 8), strides=(4, 4), padding=\"same\", return_sequences=True, data_format='channels_first')(net_input)\n",
    "        x = ConvLSTM(filters=64, kenrel_size=(4, 4), strides=(2, 2), padding=\"same\", return_sequences=True)(x)\n",
    "        x = ConvLSTM(filters=64, kenrel_size=(3, 3), strides=(1, 1), padding=\"same\", return_sequences=False)(x)\n",
    "    else: # Input: rows, cols, channels\n",
    "        x = Conv2D(filters=32, kernel_size=(8, 8), strides=(4, 4), padding=\"same\", activation=\"relu\")(net_input)\n",
    "        x = Conv2D(filters=64, kernel_size=(4, 4), strides=(2, 2), padding=\"same\", activation=\"relu\")(x)\n",
    "        x = Conv2D(filters=64, kernel_size=(3, 3), strides=(1, 1), padding=\"same\", activation=\"relu\")(x)\n",
    "    \n",
    "    x = Flatten()(x)\n",
    "    x = Dense(512, activation=\"relu\")(x)\n",
    "    net_output = Dense(output_shape, activation=\"softmax\")(x)\n",
    "\n",
    "    OPTIMIZER = Adam(lr=0.00005)\n",
    "\n",
    "    model = Model(inputs=net_input, outputs=net_output)\n",
    "    model.compile(loss=\"categorical_crossentropy\", optimizer=OPTIMIZER, metrics=[\"categorical_accuracy\"])\n",
    "\n",
    "    return model"
   ]
  },
  {
   "cell_type": "markdown",
   "metadata": {
    "id": "6MwFT04i4tQg"
   },
   "source": [
    "# Train a model on resized-grayscale input\n",
    "\n"
   ]
  },
  {
   "cell_type": "code",
   "execution_count": 17,
   "metadata": {
    "colab": {
     "base_uri": "https://localhost:8080/"
    },
    "id": "-Q4GjusRR-p8",
    "outputId": "808691c7-f8f1-442a-e5ca-77cdbcf39cd3"
   },
   "outputs": [
    {
     "data": {
      "text/plain": [
       "(84, 84, 1)"
      ]
     },
     "execution_count": 17,
     "metadata": {},
     "output_type": "execute_result"
    }
   ],
   "source": [
    "x.shape[1:]"
   ]
  },
  {
   "cell_type": "code",
   "execution_count": 18,
   "metadata": {
    "colab": {
     "base_uri": "https://localhost:8080/"
    },
    "id": "kIfmFHv_5Q-1",
    "outputId": "ba7e6db4-d19b-4280-e6e6-87490e0017a4"
   },
   "outputs": [
    {
     "data": {
      "text/plain": [
       "6"
      ]
     },
     "execution_count": 18,
     "metadata": {},
     "output_type": "execute_result"
    }
   ],
   "source": [
    "labels.shape[1]"
   ]
  },
  {
   "cell_type": "code",
   "execution_count": 19,
   "metadata": {
    "id": "3MUt_E1K4_zt"
   },
   "outputs": [],
   "source": [
    "model_1 = create_nn(x.shape[1:], labels.shape[1], false)"
   ]
  },
  {
   "cell_type": "code",
   "execution_count": 20,
   "metadata": {
    "colab": {
     "base_uri": "https://localhost:8080/",
     "height": 772
    },
    "id": "n6d2qk_IR-p9",
    "outputId": "7a07eaf1-1cf2-459b-8cfb-2683c07af2e7"
   },
   "outputs": [
    {
     "name": "stdout",
     "output_type": "stream",
     "text": [
      "Epoch 1/85\n"
     ]
    },
    {
     "name": "stderr",
     "output_type": "stream",
     "text": [
      "WARNING: Logging before flag parsing goes to stderr.\n",
      "W0202 15:30:39.399999 140341478131520 deprecation.py:323] From /usr/local/lib/python3.6/dist-packages/tensorflow_core/python/keras/optimizer_v2/optimizer_v2.py:466: BaseResourceVariable.constraint (from tensorflow.python.ops.resource_variable_ops) is deprecated and will be removed in a future version.\n",
      "Instructions for updating:\n",
      "Apply a constraint manually following the optimizer update step.\n"
     ]
    },
    {
     "name": "stdout",
     "output_type": "stream",
     "text": [
      "115684/115684 [==============================] - 19s 163us/sample - loss: 1.9326 - categorical_accuracy: 0.1675\n",
      "Epoch 2/85\n",
      "115684/115684 [==============================] - 8s 69us/sample - loss: 1.8110 - categorical_accuracy: 0.1727\n",
      "Epoch 3/85\n",
      "115684/115684 [==============================] - 8s 69us/sample - loss: 1.8001 - categorical_accuracy: 0.1752\n",
      "Epoch 4/85\n",
      "115684/115684 [==============================] - 8s 69us/sample - loss: 1.7953 - categorical_accuracy: 0.1774\n",
      "Epoch 5/85\n",
      "115684/115684 [==============================] - 8s 68us/sample - loss: 1.7919 - categorical_accuracy: 0.1790\n",
      "Epoch 6/85\n",
      "115684/115684 [==============================] - 8s 66us/sample - loss: 1.7896 - categorical_accuracy: 0.1836\n",
      "Epoch 7/85\n",
      "115684/115684 [==============================] - 8s 66us/sample - loss: 1.7879 - categorical_accuracy: 0.1857\n",
      "Epoch 8/85\n",
      "115684/115684 [==============================] - 8s 68us/sample - loss: 1.7871 - categorical_accuracy: 0.1874\n",
      "Epoch 9/85\n",
      "115684/115684 [==============================] - 8s 67us/sample - loss: 1.7857 - categorical_accuracy: 0.1895\n",
      "Epoch 10/85\n",
      "115684/115684 [==============================] - 8s 71us/sample - loss: 1.7843 - categorical_accuracy: 0.1918\n",
      "Epoch 11/85\n",
      "115684/115684 [==============================] - 8s 69us/sample - loss: 1.7829 - categorical_accuracy: 0.1945\n",
      "Epoch 12/85\n",
      "115684/115684 [==============================] - 8s 67us/sample - loss: 1.7804 - categorical_accuracy: 0.1992\n",
      "Epoch 13/85\n",
      "115684/115684 [==============================] - 8s 70us/sample - loss: 1.7785 - categorical_accuracy: 0.2020\n",
      "Epoch 14/85\n",
      "115684/115684 [==============================] - 8s 70us/sample - loss: 1.7753 - categorical_accuracy: 0.2069\n",
      "Epoch 15/85\n",
      "115684/115684 [==============================] - 8s 67us/sample - loss: 1.7721 - categorical_accuracy: 0.2101\n",
      "Epoch 16/85\n",
      "115684/115684 [==============================] - 8s 67us/sample - loss: 1.7682 - categorical_accuracy: 0.2145\n",
      "Epoch 17/85\n",
      "115684/115684 [==============================] - 8s 71us/sample - loss: 1.7631 - categorical_accuracy: 0.2232\n",
      "Epoch 18/85\n",
      "115684/115684 [==============================] - 8s 70us/sample - loss: 1.7569 - categorical_accuracy: 0.2293\n",
      "Epoch 19/85\n",
      "115684/115684 [==============================] - 8s 68us/sample - loss: 1.7498 - categorical_accuracy: 0.2368\n",
      "Epoch 20/85\n",
      "115684/115684 [==============================] - 8s 66us/sample - loss: 1.7416 - categorical_accuracy: 0.2459\n",
      "Epoch 21/85\n",
      "115684/115684 [==============================] - 8s 70us/sample - loss: 1.7319 - categorical_accuracy: 0.2544\n",
      "Epoch 22/85\n",
      "115684/115684 [==============================] - 8s 69us/sample - loss: 1.7210 - categorical_accuracy: 0.2637\n",
      "Epoch 23/85\n",
      "115684/115684 [==============================] - 8s 67us/sample - loss: 1.7092 - categorical_accuracy: 0.2736\n",
      "Epoch 24/85\n",
      "115684/115684 [==============================] - 8s 69us/sample - loss: 1.6958 - categorical_accuracy: 0.2831\n",
      "Epoch 25/85\n",
      "115684/115684 [==============================] - 8s 71us/sample - loss: 1.6814 - categorical_accuracy: 0.2951\n",
      "Epoch 26/85\n",
      "115684/115684 [==============================] - 8s 68us/sample - loss: 1.6648 - categorical_accuracy: 0.3057\n",
      "Epoch 27/85\n",
      "115684/115684 [==============================] - 8s 66us/sample - loss: 1.6474 - categorical_accuracy: 0.3179\n",
      "Epoch 28/85\n",
      "115684/115684 [==============================] - 8s 69us/sample - loss: 1.6284 - categorical_accuracy: 0.3289\n",
      "Epoch 29/85\n",
      "115684/115684 [==============================] - 8s 71us/sample - loss: 1.6093 - categorical_accuracy: 0.3391\n",
      "Epoch 30/85\n",
      "115684/115684 [==============================] - 8s 68us/sample - loss: 1.5884 - categorical_accuracy: 0.3519\n",
      "Epoch 31/85\n",
      "115684/115684 [==============================] - 8s 67us/sample - loss: 1.5679 - categorical_accuracy: 0.3642\n",
      "Epoch 32/85\n",
      "115684/115684 [==============================] - 8s 70us/sample - loss: 1.5443 - categorical_accuracy: 0.3751\n",
      "Epoch 33/85\n",
      "115684/115684 [==============================] - 8s 71us/sample - loss: 1.5217 - categorical_accuracy: 0.3863\n",
      "Epoch 34/85\n",
      "115684/115684 [==============================] - 8s 68us/sample - loss: 1.4993 - categorical_accuracy: 0.3999\n",
      "Epoch 35/85\n",
      "115684/115684 [==============================] - 8s 68us/sample - loss: 1.4757 - categorical_accuracy: 0.4103\n",
      "Epoch 36/85\n",
      "115684/115684 [==============================] - 8s 72us/sample - loss: 1.4505 - categorical_accuracy: 0.4244\n",
      "Epoch 37/85\n",
      "115684/115684 [==============================] - 8s 68us/sample - loss: 1.4275 - categorical_accuracy: 0.4360\n",
      "Epoch 38/85\n",
      "115684/115684 [==============================] - 8s 67us/sample - loss: 1.4034 - categorical_accuracy: 0.4466\n",
      "Epoch 39/85\n",
      "115684/115684 [==============================] - 8s 69us/sample - loss: 1.3790 - categorical_accuracy: 0.4563\n",
      "Epoch 40/85\n",
      "115684/115684 [==============================] - 8s 72us/sample - loss: 1.3544 - categorical_accuracy: 0.4684\n",
      "Epoch 41/85\n",
      "115684/115684 [==============================] - 8s 69us/sample - loss: 1.3307 - categorical_accuracy: 0.4793\n",
      "Epoch 42/85\n",
      "115684/115684 [==============================] - 8s 67us/sample - loss: 1.3066 - categorical_accuracy: 0.4920\n",
      "Epoch 43/85\n",
      "115684/115684 [==============================] - 8s 71us/sample - loss: 1.2845 - categorical_accuracy: 0.5010\n",
      "Epoch 44/85\n",
      "115684/115684 [==============================] - 8s 70us/sample - loss: 1.2616 - categorical_accuracy: 0.5117\n",
      "Epoch 45/85\n",
      "115684/115684 [==============================] - 8s 67us/sample - loss: 1.2373 - categorical_accuracy: 0.5217\n",
      "Epoch 46/85\n",
      "115684/115684 [==============================] - 8s 68us/sample - loss: 1.2172 - categorical_accuracy: 0.5306\n",
      "Epoch 47/85\n",
      "115684/115684 [==============================] - 8s 69us/sample - loss: 1.1945 - categorical_accuracy: 0.5407\n",
      "Epoch 48/85\n",
      "115684/115684 [==============================] - 8s 69us/sample - loss: 1.1745 - categorical_accuracy: 0.5492\n",
      "Epoch 49/85\n",
      "115684/115684 [==============================] - 8s 68us/sample - loss: 1.1543 - categorical_accuracy: 0.5564\n",
      "Epoch 50/85\n",
      "115684/115684 [==============================] - 8s 67us/sample - loss: 1.1331 - categorical_accuracy: 0.5667\n",
      "Epoch 51/85\n",
      "115684/115684 [==============================] - 8s 72us/sample - loss: 1.1143 - categorical_accuracy: 0.5735\n",
      "Epoch 52/85\n",
      "115684/115684 [==============================] - 8s 69us/sample - loss: 1.0942 - categorical_accuracy: 0.5803\n",
      "Epoch 53/85\n",
      "115684/115684 [==============================] - 8s 67us/sample - loss: 1.0755 - categorical_accuracy: 0.5906\n",
      "Epoch 54/85\n",
      "115684/115684 [==============================] - 8s 68us/sample - loss: 1.0576 - categorical_accuracy: 0.5982\n",
      "Epoch 55/85\n",
      "115684/115684 [==============================] - 8s 72us/sample - loss: 1.0405 - categorical_accuracy: 0.6059\n",
      "Epoch 56/85\n",
      "115684/115684 [==============================] - 8s 68us/sample - loss: 1.0232 - categorical_accuracy: 0.6127\n",
      "Epoch 57/85\n",
      "115684/115684 [==============================] - 8s 67us/sample - loss: 1.0063 - categorical_accuracy: 0.6197\n",
      "Epoch 58/85\n",
      "115684/115684 [==============================] - 8s 71us/sample - loss: 0.9904 - categorical_accuracy: 0.6250\n",
      "Epoch 59/85\n",
      "115684/115684 [==============================] - 8s 69us/sample - loss: 0.9744 - categorical_accuracy: 0.6321\n",
      "Epoch 60/85\n",
      "115684/115684 [==============================] - 8s 68us/sample - loss: 0.9580 - categorical_accuracy: 0.6385\n",
      "Epoch 61/85\n",
      "115684/115684 [==============================] - 8s 68us/sample - loss: 0.9434 - categorical_accuracy: 0.6446\n",
      "Epoch 62/85\n",
      "115684/115684 [==============================] - 8s 72us/sample - loss: 0.9305 - categorical_accuracy: 0.6483\n",
      "Epoch 63/85\n",
      "115684/115684 [==============================] - 8s 68us/sample - loss: 0.9148 - categorical_accuracy: 0.6555\n",
      "Epoch 64/85\n",
      "115684/115684 [==============================] - 8s 67us/sample - loss: 0.9020 - categorical_accuracy: 0.6600\n",
      "Epoch 65/85\n",
      "115684/115684 [==============================] - 8s 69us/sample - loss: 0.8899 - categorical_accuracy: 0.6663\n",
      "Epoch 66/85\n",
      "115684/115684 [==============================] - 8s 71us/sample - loss: 0.8765 - categorical_accuracy: 0.6706\n",
      "Epoch 67/85\n",
      "115684/115684 [==============================] - 8s 68us/sample - loss: 0.8638 - categorical_accuracy: 0.6747\n",
      "Epoch 68/85\n",
      "115684/115684 [==============================] - 8s 66us/sample - loss: 0.8530 - categorical_accuracy: 0.6789\n",
      "Epoch 69/85\n",
      "115684/115684 [==============================] - 8s 69us/sample - loss: 0.8399 - categorical_accuracy: 0.6859\n",
      "Epoch 70/85\n",
      "115684/115684 [==============================] - 8s 71us/sample - loss: 0.8303 - categorical_accuracy: 0.6888\n",
      "Epoch 71/85\n",
      "115684/115684 [==============================] - 8s 68us/sample - loss: 0.8189 - categorical_accuracy: 0.6928\n",
      "Epoch 72/85\n",
      "115684/115684 [==============================] - 8s 66us/sample - loss: 0.8082 - categorical_accuracy: 0.6975\n",
      "Epoch 73/85\n",
      "115684/115684 [==============================] - 8s 71us/sample - loss: 0.7981 - categorical_accuracy: 0.6996\n",
      "Epoch 74/85\n",
      "115684/115684 [==============================] - 8s 71us/sample - loss: 0.7861 - categorical_accuracy: 0.7058\n",
      "Epoch 75/85\n",
      "115684/115684 [==============================] - 8s 67us/sample - loss: 0.7789 - categorical_accuracy: 0.7087\n",
      "Epoch 76/85\n",
      "115684/115684 [==============================] - 8s 66us/sample - loss: 0.7683 - categorical_accuracy: 0.7133\n",
      "Epoch 77/85\n",
      "115684/115684 [==============================] - 8s 71us/sample - loss: 0.7581 - categorical_accuracy: 0.7159\n",
      "Epoch 78/85\n",
      "115684/115684 [==============================] - 8s 70us/sample - loss: 0.7502 - categorical_accuracy: 0.7181\n",
      "Epoch 79/85\n",
      "115684/115684 [==============================] - 8s 67us/sample - loss: 0.7413 - categorical_accuracy: 0.7214\n",
      "Epoch 80/85\n",
      "115684/115684 [==============================] - 8s 67us/sample - loss: 0.7327 - categorical_accuracy: 0.7249\n",
      "Epoch 81/85\n",
      "115684/115684 [==============================] - 8s 70us/sample - loss: 0.7262 - categorical_accuracy: 0.7282\n",
      "Epoch 82/85\n",
      "115684/115684 [==============================] - 8s 71us/sample - loss: 0.7182 - categorical_accuracy: 0.7307\n",
      "Epoch 83/85\n",
      "115684/115684 [==============================] - 8s 68us/sample - loss: 0.7105 - categorical_accuracy: 0.7348\n",
      "Epoch 84/85\n",
      "115684/115684 [==============================] - 8s 66us/sample - loss: 0.7020 - categorical_accuracy: 0.7373\n",
      "Epoch 85/85\n",
      "115684/115684 [==============================] - 8s 71us/sample - loss: 0.6964 - categorical_accuracy: 0.7385\n"
     ]
    }
   ],
   "source": [
    "EPOCHS = 85\n",
    "\n",
    "result_1 = model_1.fit(\n",
    "    x,\n",
    "    labels,\n",
    "    batch_size=128,\n",
    "    epochs=EPOCHS, \n",
    "    verbose=1)"
   ]
  },
  {
   "cell_type": "code",
   "execution_count": 21,
   "metadata": {},
   "outputs": [],
   "source": [
    "model_1.save_weights(\"model_1_1500Examples_85Epochs.h5\")"
   ]
  },
  {
   "cell_type": "code",
   "execution_count": 22,
   "metadata": {},
   "outputs": [
    {
     "name": "stdout",
     "output_type": "stream",
     "text": [
      "Episode: 1 \tReward: -15.0\n",
      "Episode: 2 \tReward: -17.0\n",
      "Episode: 3 \tReward: -12.0\n",
      "Episode: 4 \tReward: -15.0\n",
      "Episode: 5 \tReward: -18.0\n"
     ]
    }
   ],
   "source": [
    "for episode in range(5):\n",
    "    done = False\n",
    "    episode_reward = 0.0\n",
    "    state = env.reset()\n",
    "    state = resize(state)\n",
    "    state = grayscale(state)\n",
    "    state = np.reshape(state, (1, 84, 84, 1))\n",
    "    state = state.astype(\"float32\")\n",
    "    while not done:\n",
    "        action = np.argmax(model_1.predict(state))\n",
    "        state, reward, done, info = env.step(action)\n",
    "        state = resize(state)\n",
    "        state = grayscale(state)\n",
    "        state = np.reshape(state, (1, 84, 84, 1))\n",
    "        state = state.astype(\"float32\")\n",
    "        episode_reward += reward\n",
    "    print(\"Episode:\", episode+1, \"\\tReward:\", episode_reward)"
   ]
  },
  {
   "cell_type": "code",
   "execution_count": 33,
   "metadata": {},
   "outputs": [],
   "source": [
    "res1_loss = result_1.history['loss']\n",
    "res1_acc = result_1.history['categorical_accuracy']"
   ]
  },
  {
   "cell_type": "code",
   "execution_count": 39,
   "metadata": {
    "scrolled": false
   },
   "outputs": [
    {
     "data": {
      "image/png": "[encoded data removed]",
      "text/plain": [
       "<Figure size 1080x720 with 1 Axes>"
      ]
     },
     "metadata": {
      "needs_background": "light"
     },
     "output_type": "display_data"
    }
   ],
   "source": [
    "plt.figure(figsize=(15,10))\n",
    "plt.grid(linestyle='-')\n",
    "plt.plot(res1_loss, label=\"loss\")\n",
    "plt.plot(res1_acc, label=\"accuracy\")\n",
    "plt.legend()\n",
    "plt.show()"
   ]
  },
  {
   "cell_type": "code",
   "execution_count": 40,
   "metadata": {},
   "outputs": [],
   "source": [
    "import pandas as pd\n",
    "df = pd.DataFrame(list(zip(res1_loss, res1_acc)), \n",
    "               columns =['Loss', 'Accuracy']) \n",
    "df.to_csv(\"model_1_1500Examples_85Epochs.csv\",mode=\"w\", index=False)"
   ]
  },
  {
   "cell_type": "markdown",
   "metadata": {
    "id": "_1TW5R-U7GPi"
   },
   "source": [
    "# Train a model on resized-grayscale-framestack input\n",
    "\n"
   ]
  },
  {
   "cell_type": "code",
   "execution_count": 23,
   "metadata": {
    "colab": {
     "base_uri": "https://localhost:8080/"
    },
    "id": "N_PC9GGe7PMu",
    "outputId": "aeff8a06-1c4d-47d8-9e83-bfbe8a8324ec"
   },
   "outputs": [
    {
     "data": {
      "text/plain": [
       "(84, 84, 4)"
      ]
     },
     "execution_count": 23,
     "metadata": {},
     "output_type": "execute_result"
    }
   ],
   "source": [
    "x_stacked.shape[1:]"
   ]
  },
  {
   "cell_type": "code",
   "execution_count": 24,
   "metadata": {
    "colab": {
     "base_uri": "https://localhost:8080/"
    },
    "id": "QKcsZxqu7T2E",
    "outputId": "45ddfa2e-f1fe-43f2-dc1a-4cb2f879a076"
   },
   "outputs": [
    {
     "data": {
      "text/plain": [
       "6"
      ]
     },
     "execution_count": 24,
     "metadata": {},
     "output_type": "execute_result"
    }
   ],
   "source": [
    "labels.shape[1]"
   ]
  },
  {
   "cell_type": "code",
   "execution_count": 25,
   "metadata": {
    "id": "bsG39ZXA7Wbu"
   },
   "outputs": [],
   "source": [
    "model_2 = create_nn(x_stacked.shape[1:], labels.shape[1], false)"
   ]
  },
  {
   "cell_type": "code",
   "execution_count": 26,
   "metadata": {
    "colab": {
     "base_uri": "https://localhost:8080/",
     "height": 385
    },
    "id": "CDhw3fr47gJ7",
    "outputId": "9b192e99-e5f0-4c34-fce9-2297fee248cb"
   },
   "outputs": [
    {
     "name": "stdout",
     "output_type": "stream",
     "text": [
      "Epoch 1/85\n",
      "115684/115684 [==============================] - 40s 350us/sample - loss: 2.0848 - categorical_accuracy: 0.1699\n",
      "Epoch 2/85\n",
      "115684/115684 [==============================] - 37s 324us/sample - loss: 1.8167 - categorical_accuracy: 0.1733\n",
      "Epoch 3/85\n",
      "115684/115684 [==============================] - 43s 375us/sample - loss: 1.8028 - categorical_accuracy: 0.1754\n",
      "Epoch 4/85\n",
      "115684/115684 [==============================] - 37s 324us/sample - loss: 1.7953 - categorical_accuracy: 0.1812\n",
      "Epoch 5/85\n",
      "115684/115684 [==============================] - 36s 307us/sample - loss: 1.7924 - categorical_accuracy: 0.1808\n",
      "Epoch 6/85\n",
      "115684/115684 [==============================] - 36s 314us/sample - loss: 1.7891 - categorical_accuracy: 0.1856\n",
      "Epoch 7/85\n",
      "115684/115684 [==============================] - 37s 320us/sample - loss: 1.7860 - categorical_accuracy: 0.1891\n",
      "Epoch 8/85\n",
      "115684/115684 [==============================] - 38s 325us/sample - loss: 1.7834 - categorical_accuracy: 0.1941\n",
      "Epoch 9/85\n",
      "115684/115684 [==============================] - 36s 308us/sample - loss: 1.7805 - categorical_accuracy: 0.1997\n",
      "Epoch 10/85\n",
      "115684/115684 [==============================] - 36s 311us/sample - loss: 1.7773 - categorical_accuracy: 0.2048\n",
      "Epoch 11/85\n",
      "115684/115684 [==============================] - 37s 320us/sample - loss: 1.7719 - categorical_accuracy: 0.2143\n",
      "Epoch 12/85\n",
      "115684/115684 [==============================] - 35s 305us/sample - loss: 1.7665 - categorical_accuracy: 0.2217\n",
      "Epoch 13/85\n",
      "115684/115684 [==============================] - 36s 312us/sample - loss: 1.7579 - categorical_accuracy: 0.2318\n",
      "Epoch 14/85\n",
      "115684/115684 [==============================] - 37s 316us/sample - loss: 1.7461 - categorical_accuracy: 0.2464\n",
      "Epoch 15/85\n",
      "115684/115684 [==============================] - 38s 325us/sample - loss: 1.7326 - categorical_accuracy: 0.2583\n",
      "Epoch 16/85\n",
      "115684/115684 [==============================] - 35s 303us/sample - loss: 1.7149 - categorical_accuracy: 0.2752\n",
      "Epoch 17/85\n",
      "115684/115684 [==============================] - 36s 312us/sample - loss: 1.6931 - categorical_accuracy: 0.2913\n",
      "Epoch 18/85\n",
      "115684/115684 [==============================] - 37s 323us/sample - loss: 1.6682 - categorical_accuracy: 0.3088\n",
      "Epoch 19/85\n",
      "115684/115684 [==============================] - 37s 323us/sample - loss: 1.6403 - categorical_accuracy: 0.3296\n",
      "Epoch 20/85\n",
      "115684/115684 [==============================] - 35s 306us/sample - loss: 1.6098 - categorical_accuracy: 0.3507\n",
      "Epoch 21/85\n",
      "115684/115684 [==============================] - 36s 310us/sample - loss: 1.5752 - categorical_accuracy: 0.3729\n",
      "Epoch 22/85\n",
      "115684/115684 [==============================] - 37s 322us/sample - loss: 1.5386 - categorical_accuracy: 0.3932\n",
      "Epoch 23/85\n",
      "115684/115684 [==============================] - 38s 325us/sample - loss: 1.4990 - categorical_accuracy: 0.4176\n",
      "Epoch 24/85\n",
      "115684/115684 [==============================] - 35s 306us/sample - loss: 1.4560 - categorical_accuracy: 0.4406\n",
      "Epoch 25/85\n",
      "115684/115684 [==============================] - 36s 311us/sample - loss: 1.4142 - categorical_accuracy: 0.4620\n",
      "Epoch 26/85\n",
      "115684/115684 [==============================] - 37s 322us/sample - loss: 1.3661 - categorical_accuracy: 0.4862\n",
      "Epoch 27/85\n",
      "115684/115684 [==============================] - 38s 324us/sample - loss: 1.3188 - categorical_accuracy: 0.5098\n",
      "Epoch 28/85\n",
      "115684/115684 [==============================] - 36s 308us/sample - loss: 1.2709 - categorical_accuracy: 0.5323\n",
      "Epoch 29/85\n",
      "115684/115684 [==============================] - 36s 311us/sample - loss: 1.2208 - categorical_accuracy: 0.5560\n",
      "Epoch 30/85\n",
      "115684/115684 [==============================] - 37s 320us/sample - loss: 1.1719 - categorical_accuracy: 0.5768\n",
      "Epoch 31/85\n",
      "115684/115684 [==============================] - 38s 325us/sample - loss: 1.1228 - categorical_accuracy: 0.5993\n",
      "Epoch 32/85\n",
      "115684/115684 [==============================] - 35s 304us/sample - loss: 1.0730 - categorical_accuracy: 0.6207\n",
      "Epoch 33/85\n",
      "115684/115684 [==============================] - 36s 312us/sample - loss: 1.0227 - categorical_accuracy: 0.6440\n",
      "Epoch 34/85\n",
      "115684/115684 [==============================] - 37s 318us/sample - loss: 0.9723 - categorical_accuracy: 0.6629\n",
      "Epoch 35/85\n",
      "115684/115684 [==============================] - 38s 324us/sample - loss: 0.9265 - categorical_accuracy: 0.6847\n",
      "Epoch 36/85\n",
      "115684/115684 [==============================] - 35s 304us/sample - loss: 0.8786 - categorical_accuracy: 0.7029\n",
      "Epoch 37/85\n",
      "115684/115684 [==============================] - 36s 313us/sample - loss: 0.8328 - categorical_accuracy: 0.7218\n",
      "Epoch 38/85\n",
      "115684/115684 [==============================] - 37s 321us/sample - loss: 0.7883 - categorical_accuracy: 0.7394\n",
      "Epoch 39/85\n",
      "115684/115684 [==============================] - 38s 325us/sample - loss: 0.7481 - categorical_accuracy: 0.7556\n",
      "Epoch 40/85\n",
      "115684/115684 [==============================] - 36s 307us/sample - loss: 0.7065 - categorical_accuracy: 0.7715\n",
      "Epoch 41/85\n",
      "115684/115684 [==============================] - 36s 313us/sample - loss: 0.6641 - categorical_accuracy: 0.7887\n",
      "Epoch 42/85\n",
      "115684/115684 [==============================] - 37s 322us/sample - loss: 0.6277 - categorical_accuracy: 0.8010\n",
      "Epoch 43/85\n",
      "115684/115684 [==============================] - 39s 338us/sample - loss: 0.5921 - categorical_accuracy: 0.8146\n",
      "Epoch 44/85\n",
      "115684/115684 [==============================] - 37s 322us/sample - loss: 0.5583 - categorical_accuracy: 0.8281\n",
      "Epoch 45/85\n",
      "115684/115684 [==============================] - 38s 327us/sample - loss: 0.5239 - categorical_accuracy: 0.8395\n",
      "Epoch 46/85\n",
      "115684/115684 [==============================] - 38s 331us/sample - loss: 0.4916 - categorical_accuracy: 0.8505\n",
      "Epoch 47/85\n",
      "115684/115684 [==============================] - 37s 323us/sample - loss: 0.4632 - categorical_accuracy: 0.8609\n",
      "Epoch 48/85\n",
      "115684/115684 [==============================] - 36s 307us/sample - loss: 0.4370 - categorical_accuracy: 0.8707\n",
      "Epoch 49/85\n",
      "115684/115684 [==============================] - 36s 307us/sample - loss: 0.4096 - categorical_accuracy: 0.8783\n",
      "Epoch 50/85\n",
      "115684/115684 [==============================] - 37s 322us/sample - loss: 0.3840 - categorical_accuracy: 0.8887\n",
      "Epoch 51/85\n",
      "115684/115684 [==============================] - 37s 324us/sample - loss: 0.3611 - categorical_accuracy: 0.8943\n",
      "Epoch 52/85\n",
      "115684/115684 [==============================] - 36s 309us/sample - loss: 0.3378 - categorical_accuracy: 0.9046\n",
      "Epoch 53/85\n",
      "115684/115684 [==============================] - 36s 313us/sample - loss: 0.3180 - categorical_accuracy: 0.9106\n",
      "Epoch 54/85\n",
      "115684/115684 [==============================] - 37s 321us/sample - loss: 0.2975 - categorical_accuracy: 0.9167\n",
      "Epoch 55/85\n",
      "115684/115684 [==============================] - 38s 325us/sample - loss: 0.2790 - categorical_accuracy: 0.9228\n",
      "Epoch 56/85\n",
      "115684/115684 [==============================] - 36s 313us/sample - loss: 0.2625 - categorical_accuracy: 0.9276\n",
      "Epoch 57/85\n",
      "115684/115684 [==============================] - 36s 313us/sample - loss: 0.2455 - categorical_accuracy: 0.9334\n",
      "Epoch 58/85\n",
      "115684/115684 [==============================] - 37s 320us/sample - loss: 0.2322 - categorical_accuracy: 0.9365\n",
      "Epoch 59/85\n",
      "115684/115684 [==============================] - 38s 324us/sample - loss: 0.2149 - categorical_accuracy: 0.9435\n",
      "Epoch 60/85\n",
      "115684/115684 [==============================] - 35s 307us/sample - loss: 0.2066 - categorical_accuracy: 0.9455\n",
      "Epoch 61/85\n",
      "115684/115684 [==============================] - 36s 312us/sample - loss: 0.1913 - categorical_accuracy: 0.9500\n",
      "Epoch 62/85\n",
      "115684/115684 [==============================] - 37s 321us/sample - loss: 0.1807 - categorical_accuracy: 0.9531\n",
      "Epoch 63/85\n",
      "115684/115684 [==============================] - 38s 327us/sample - loss: 0.1726 - categorical_accuracy: 0.9554\n",
      "Epoch 64/85\n",
      "115684/115684 [==============================] - 35s 305us/sample - loss: 0.1625 - categorical_accuracy: 0.9578\n",
      "Epoch 65/85\n",
      "115684/115684 [==============================] - 36s 313us/sample - loss: 0.1539 - categorical_accuracy: 0.9596\n",
      "Epoch 66/85\n",
      "115684/115684 [==============================] - 37s 322us/sample - loss: 0.1454 - categorical_accuracy: 0.9627\n",
      "Epoch 67/85\n",
      "115684/115684 [==============================] - 37s 324us/sample - loss: 0.1392 - categorical_accuracy: 0.9641\n",
      "Epoch 68/85\n",
      "115684/115684 [==============================] - 35s 306us/sample - loss: 0.1333 - categorical_accuracy: 0.9656\n",
      "Epoch 69/85\n",
      "115684/115684 [==============================] - 36s 312us/sample - loss: 0.1248 - categorical_accuracy: 0.9681\n",
      "Epoch 70/85\n",
      "115684/115684 [==============================] - 38s 328us/sample - loss: 0.1210 - categorical_accuracy: 0.9687\n",
      "Epoch 71/85\n",
      "115684/115684 [==============================] - 38s 325us/sample - loss: 0.1167 - categorical_accuracy: 0.9698\n",
      "Epoch 72/85\n",
      "115684/115684 [==============================] - 35s 305us/sample - loss: 0.1098 - categorical_accuracy: 0.9712\n",
      "Epoch 73/85\n",
      "115684/115684 [==============================] - 36s 309us/sample - loss: 0.1105 - categorical_accuracy: 0.9707\n",
      "Epoch 74/85\n",
      "115684/115684 [==============================] - 37s 323us/sample - loss: 0.1012 - categorical_accuracy: 0.9737\n",
      "Epoch 75/85\n",
      "115684/115684 [==============================] - 37s 324us/sample - loss: 0.1012 - categorical_accuracy: 0.9731\n",
      "Epoch 76/85\n",
      "115684/115684 [==============================] - 35s 306us/sample - loss: 0.0952 - categorical_accuracy: 0.9748\n",
      "Epoch 77/85\n",
      "115684/115684 [==============================] - 36s 313us/sample - loss: 0.0946 - categorical_accuracy: 0.9750\n",
      "Epoch 78/85\n",
      "115684/115684 [==============================] - 37s 322us/sample - loss: 0.0945 - categorical_accuracy: 0.9747\n",
      "Epoch 79/85\n",
      "115684/115684 [==============================] - 38s 326us/sample - loss: 0.0868 - categorical_accuracy: 0.9764\n",
      "Epoch 80/85\n",
      "115684/115684 [==============================] - 35s 306us/sample - loss: 0.0875 - categorical_accuracy: 0.9761\n",
      "Epoch 81/85\n",
      "115684/115684 [==============================] - 36s 310us/sample - loss: 0.0875 - categorical_accuracy: 0.9764\n",
      "Epoch 82/85\n",
      "115684/115684 [==============================] - 37s 323us/sample - loss: 0.0838 - categorical_accuracy: 0.9768\n",
      "Epoch 83/85\n",
      "115684/115684 [==============================] - 38s 325us/sample - loss: 0.0779 - categorical_accuracy: 0.9791\n",
      "Epoch 84/85\n",
      "115684/115684 [==============================] - 36s 309us/sample - loss: 0.0832 - categorical_accuracy: 0.9762\n",
      "Epoch 85/85\n",
      "115684/115684 [==============================] - 36s 312us/sample - loss: 0.0781 - categorical_accuracy: 0.9783\n"
     ]
    }
   ],
   "source": [
    "EPOCHS = 85#250\n",
    "\n",
    "result_2 = model_2.fit(\n",
    "    x_stacked,\n",
    "    labels,\n",
    "    batch_size=128,\n",
    "    epochs=EPOCHS, \n",
    "    verbose=1)"
   ]
  },
  {
   "cell_type": "code",
   "execution_count": 27,
   "metadata": {},
   "outputs": [],
   "source": [
    "model_2.save_weights(\"model_2_1500Examples_85Epochs.h5\")"
   ]
  },
  {
   "cell_type": "code",
   "execution_count": 28,
   "metadata": {},
   "outputs": [
    {
     "name": "stdout",
     "output_type": "stream",
     "text": [
      "Episode: 1 \tReward: -17.0\n",
      "Episode: 2 \tReward: -14.0\n",
      "Episode: 3 \tReward: -16.0\n",
      "Episode: 4 \tReward: -18.0\n",
      "Episode: 5 \tReward: -17.0\n"
     ]
    }
   ],
   "source": [
    "for episode in range(5):\n",
    "    done = False\n",
    "    episode_reward = 0.0\n",
    "    state = env.reset()\n",
    "    state = resize(state)\n",
    "    state = grayscale(state)\n",
    "    state = np.reshape(state, (84, 84, 1))\n",
    "    frames = deque(maxlen=4)\n",
    "    # initialize deque for framestack\n",
    "    for _ in range(4):\n",
    "        frames.append(state)\n",
    "    framestack = np.asarray(frames, dtype=np.float32)\n",
    "    framestack = np.moveaxis(framestack, 0, -1).reshape(1, 84, 84, 4)#reshape(84, 84, -1)\n",
    "\n",
    "    # playing a episode\n",
    "    while not done:\n",
    "        action = np.argmax(model_2.predict(framestack))\n",
    "        state, reward, done, info = env.step(action)\n",
    "        episode_reward += reward\n",
    "        state = resize(state)\n",
    "        state = grayscale(state)\n",
    "        state = np.reshape(state, (84, 84, 1))\n",
    "        frames.append(state)\n",
    "        framestack = np.asarray(frames, dtype=np.float32)\n",
    "        framestack = np.moveaxis(framestack, 0, -1).reshape(1, 84, 84, 4)\n",
    "        \n",
    "    print(\"Episode:\", episode+1, \"\\tReward:\", episode_reward)"
   ]
  },
  {
   "cell_type": "code",
   "execution_count": 41,
   "metadata": {},
   "outputs": [],
   "source": [
    "res2_loss = result_2.history['loss']\n",
    "res2_acc = result_2.history['categorical_accuracy']"
   ]
  },
  {
   "cell_type": "code",
   "execution_count": 43,
   "metadata": {},
   "outputs": [
    {
     "data": {
      "image/png": "[encoded data removed]",
      "text/plain": [
       "<Figure size 1080x720 with 1 Axes>"
      ]
     },
     "metadata": {
      "needs_background": "light"
     },
     "output_type": "display_data"
    }
   ],
   "source": [
    "plt.figure(figsize=(15,10))\n",
    "plt.grid(linestyle='-')\n",
    "plt.plot(res2_loss, label=\"loss\")\n",
    "plt.plot(res2_acc, label=\"accuracy\")\n",
    "plt.legend()\n",
    "plt.show()"
   ]
  },
  {
   "cell_type": "code",
   "execution_count": 44,
   "metadata": {},
   "outputs": [],
   "source": [
    "df = pd.DataFrame(list(zip(res2_loss, res2_acc)), \n",
    "               columns =['Loss', 'Accuracy']) \n",
    "df.to_csv(\"model_2_1500Examples_85Epochs.csv\",mode=\"w\", index=False)"
   ]
  }
 ],
 "metadata": {
  "colab": {
   "collapsed_sections": [],
   "name": "Playing_Atari_with_Deep-Learning_random_dataset.ipynb",
   "provenance": [],
   "toc_visible": true
  },
  "kernelspec": {
   "display_name": "Python 3",
   "language": "python",
   "name": "python3"
  },
  "language_info": {
   "codemirror_mode": {
    "name": "ipython",
    "version": 3
   },
   "file_extension": ".py",
   "mimetype": "text/x-python",
   "name": "python",
   "nbconvert_exporter": "python",
   "pygments_lexer": "ipython3",
   "version": "3.6.8"
  }
 },
 "nbformat": 4,
 "nbformat_minor": 1
}
