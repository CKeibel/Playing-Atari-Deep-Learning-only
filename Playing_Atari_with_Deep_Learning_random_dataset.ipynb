{
 "cells": [
  {
   "cell_type": "markdown",
   "metadata": {
    "id": "RMn53p6YR-pf"
   },
   "source": [
    "# playing Atari with Deep Learning"
   ]
  },
  {
   "cell_type": "code",
   "execution_count": 1,
   "metadata": {
    "id": "lgxvXMASR-py"
   },
   "outputs": [],
   "source": [
    "# choose game\n",
    "game = \"Pong-v0\""
   ]
  },
  {
   "cell_type": "markdown",
   "metadata": {
    "id": "oA37Mc9dTo99"
   },
   "source": [
    "# generate Dataset by random play\n",
    "\n",
    "* saving only good sequences"
   ]
  },
  {
   "cell_type": "code",
   "execution_count": 2,
   "metadata": {
    "colab": {
     "base_uri": "https://localhost:8080/"
    },
    "id": "QRFkZvcjR-p0",
    "outputId": "3b2f9605-3a06-4a77-8ac3-4dba2f7e6a67",
    "scrolled": true
   },
   "outputs": [
    {
     "name": "stdout",
     "output_type": "stream",
     "text": [
      "100\n",
      "200\n",
      "300\n",
      "400\n",
      "500\n",
      "600\n",
      "700\n",
      "800\n",
      "900\n",
      "1000\n",
      "1100\n",
      "1200\n",
      "1300\n",
      "1400\n",
      "1500\n",
      "Dataset completed\n",
      "Dataset completed\n"
     ]
    }
   ],
   "source": [
    "import numpy as np\n",
    "import gym\n",
    "\n",
    "env = gym.make(game)\n",
    "x_data = [] # Bilder (States)\n",
    "y_data = [] # Label (Aktionen)\n",
    "\n",
    "DATASET_SIZE = 1500\n",
    "saved_episodes = 0\n",
    "\n",
    "# Datensatz generieren\n",
    "the_end = False\n",
    "while not the_end:\n",
    "    done = False\n",
    "    state = env.reset()\n",
    "    episode_obs = []\n",
    "    episode_acts = []\n",
    "  \n",
    "    while not done:\n",
    "        action = env.action_space.sample()\n",
    "        episode_obs.append(state)\n",
    "        episode_acts.append(action)\n",
    "        state, reward, done, info = env.step(action)\n",
    "    \n",
    "        if reward < 0:\n",
    "            episode_acts = []\n",
    "            episode_obs = []\n",
    "        elif reward > 0:\n",
    "            x_data += episode_obs\n",
    "            y_data += episode_acts\n",
    "            episode_obs = []\n",
    "            episode_acts = []\n",
    "            saved_episodes += 1\n",
    "            if saved_episodes % 100 == 0:\n",
    "                print(saved_episodes)\n",
    "            if saved_episodes+1 > DATASET_SIZE:\n",
    "                print(\"Dataset completed\")\n",
    "                the_end = True"
   ]
  },
  {
   "cell_type": "markdown",
   "metadata": {
    "id": "9TTqB01eYUB6"
   },
   "source": [
    "# Preprocessing"
   ]
  },
  {
   "cell_type": "code",
   "execution_count": 3,
   "metadata": {
    "colab": {
     "base_uri": "https://localhost:8080/"
    },
    "id": "PdMRdMwMZYSv",
    "outputId": "cb66f955-2b59-4176-b438-69e349958bb5"
   },
   "outputs": [
    {
     "data": {
      "text/plain": [
       "((115908, 210, 160, 3), (115908,))"
      ]
     },
     "execution_count": 3,
     "metadata": {},
     "output_type": "execute_result"
    }
   ],
   "source": [
    "x_data = np.array(x_data)\n",
    "y_data = np.array(y_data)\n",
    "x_data.shape, y_data.shape"
   ]
  },
  {
   "cell_type": "code",
   "execution_count": 4,
   "metadata": {
    "colab": {
     "base_uri": "https://localhost:8080/"
    },
    "id": "ww_OsqftZqAO",
    "outputId": "42b59ef2-fbe5-4119-8e95-e1c17d461ba7"
   },
   "outputs": [
    {
     "data": {
      "text/plain": [
       "(210, 160, 3)"
      ]
     },
     "execution_count": 4,
     "metadata": {},
     "output_type": "execute_result"
    }
   ],
   "source": [
    "x_data[0].shape"
   ]
  },
  {
   "cell_type": "markdown",
   "metadata": {
    "id": "Z9PFtrNLY5Sd"
   },
   "source": [
    "### resize images to 84x84 pixels"
   ]
  },
  {
   "cell_type": "code",
   "execution_count": 5,
   "metadata": {
    "id": "uyIJN1MVbaEc"
   },
   "outputs": [],
   "source": [
    "import cv2\n",
    "def resize(img):\n",
    "    height = 84\n",
    "    width = 84\n",
    "    return cv2.resize(img, (width, height), interpolation=cv2.INTER_AREA)"
   ]
  },
  {
   "cell_type": "code",
   "execution_count": 6,
   "metadata": {
    "id": "roOO6duzbySo"
   },
   "outputs": [],
   "source": [
    "resized_x_data = [resize(img) for img in x_data]\n",
    "resized_x_data = np.array(resized_x_data)"
   ]
  },
  {
   "cell_type": "code",
   "execution_count": 7,
   "metadata": {
    "colab": {
     "base_uri": "https://localhost:8080/",
     "height": 284
    },
    "id": "UTbEwSSdaHDU",
    "outputId": "0498bd1e-a192-4233-bd95-26ce27a73773"
   },
   "outputs": [
    {
     "data": {
      "image/png": "[encoded data removed]",
      "text/plain": [
       "<Figure size 432x288 with 2 Axes>"
      ]
     },
     "metadata": {
      "needs_background": "light"
     },
     "output_type": "display_data"
    }
   ],
   "source": [
    "import matplotlib.pyplot as plt\n",
    "%matplotlib inline  \n",
    "\n",
    "fig, axs = plt.subplots(1,2)\n",
    "\n",
    "axs[0].imshow(x_data[0, :, :, :])\n",
    "axs[0].set_title(\"Original\", fontsize=\"15\")\n",
    "axs[1].imshow(resized_x_data[0, :, :, :])\n",
    "axs[1].set_title(\"Resized\", fontsize=\"15\")\n",
    "plt.show()"
   ]
  },
  {
   "cell_type": "markdown",
   "metadata": {
    "id": "UCrcMOZpeEru"
   },
   "source": [
    "### RGB to Grayscale"
   ]
  },
  {
   "cell_type": "code",
   "execution_count": 8,
   "metadata": {
    "id": "jAwmi_HaeJdg"
   },
   "outputs": [],
   "source": [
    "def grayscale(img):\n",
    "    img = cv2.cvtColor(img, cv2.COLOR_BGR2GRAY)\n",
    "    img = np.reshape(img, (img.shape[0], img.shape[1], 1))\n",
    "    return img"
   ]
  },
  {
   "cell_type": "code",
   "execution_count": 9,
   "metadata": {
    "id": "Bf7I6ZIdf8t7"
   },
   "outputs": [],
   "source": [
    "gray_x_data = [grayscale(img) for img in resized_x_data]\n",
    "gray_x_data = np.array(gray_x_data)"
   ]
  },
  {
   "cell_type": "code",
   "execution_count": 10,
   "metadata": {
    "colab": {
     "base_uri": "https://localhost:8080/",
     "height": 236
    },
    "id": "k6Di_4PAg-Ol",
    "outputId": "6c4f6002-173a-4bab-fa3b-88440b72df9c"
   },
   "outputs": [
    {
     "data": {
      "image/png": "[encoded data removed]",
      "text/plain": [
       "<Figure size 432x288 with 2 Axes>"
      ]
     },
     "metadata": {
      "needs_background": "light"
     },
     "output_type": "display_data"
    }
   ],
   "source": [
    "fig, axs = plt.subplots(1, 2)\n",
    "axs[0].imshow(resized_x_data[0, :, :, :])\n",
    "axs[0].set_title(\"Resized\", fontsize=\"15\")\n",
    "axs[0].axis('off')\n",
    "axs[1].imshow(gray_x_data[0, :, :, 0], cmap=\"gray\")\n",
    "axs[1].set_title(\"Grayscale\", fontsize=\"15\")\n",
    "axs[1].axis('off')\n",
    "plt.show()"
   ]
  },
  {
   "cell_type": "markdown",
   "metadata": {
    "id": "yxC3qk02i7Fp"
   },
   "source": [
    "### Frame Stack"
   ]
  },
  {
   "cell_type": "code",
   "execution_count": 11,
   "metadata": {
    "id": "gj_qhnX1jDXm"
   },
   "outputs": [],
   "source": [
    "from collections import deque\n",
    "def framestack(dataset):\n",
    "    data = []\n",
    "    frames = deque(maxlen=4)\n",
    "\n",
    "    # initialize first deque\n",
    "    for _ in range(4):\n",
    "        frames.append(dataset[0])\n",
    "    framestack = np.asarray(frames, dtype=np.float32)\n",
    "    framestack = np.moveaxis(framestack, 0, -1).reshape(84, 84, -1)\n",
    "\n",
    "    # create deques from dataset\n",
    "    for state in dataset:\n",
    "        frames.append(state)\n",
    "        framestack = np.asarray(frames, dtype=np.float32)\n",
    "        framestack = np.moveaxis(framestack, 0, -1).reshape(84, 84, -1)\n",
    "        data.append(framestack)\n",
    "\n",
    "    return data"
   ]
  },
  {
   "cell_type": "code",
   "execution_count": 12,
   "metadata": {},
   "outputs": [],
   "source": [
    "stack_data = framestack(gray_x_data) \n",
    "stack_data = np.array(stack_data)"
   ]
  },
  {
   "cell_type": "code",
   "execution_count": 13,
   "metadata": {},
   "outputs": [
    {
     "data": {
      "image/png": "[encoded data removed]",
      "text/plain": [
       "<Figure size 720x360 with 4 Axes>"
      ]
     },
     "metadata": {
      "needs_background": "light"
     },
     "output_type": "display_data"
    }
   ],
   "source": [
    "fig, axs = plt.subplots(1, 4, figsize=(10,5))\n",
    "axs[0].imshow(stack_data[0+4, :, :, 0], cmap=\"gray\") # +4, because of 4 same initial frames\n",
    "axs[0].axis('off')\n",
    "axs[1].imshow(stack_data[1+4, :, :, 1], cmap=\"gray\")\n",
    "axs[1].axis('off')\n",
    "axs[2].imshow(stack_data[2+4, :, :, 2], cmap=\"gray\")\n",
    "axs[2].axis('off')\n",
    "axs[3].imshow(stack_data[3+4, :, :, 3], cmap=\"gray\")\n",
    "axs[3].axis('off')\n",
    "plt.show()"
   ]
  },
  {
   "cell_type": "markdown",
   "metadata": {},
   "source": [
    "### Sequenes"
   ]
  },
  {
   "cell_type": "code",
   "execution_count": 14,
   "metadata": {
    "colab": {
     "base_uri": "https://localhost:8080/"
    },
    "id": "fJKjcCDMpUTL",
    "outputId": "5c933575-4d49-4f95-aa2f-c945a8520cc4"
   },
   "outputs": [],
   "source": [
    "def sequences(x_data, y_data):\n",
    "    x = [x_data[:4]]\n",
    "    y = [y_data[3]]\n",
    "    \n",
    "    n = 4\n",
    "    for i in range(n, x_data.shape[0]):\n",
    "        x.append(x_data[4:n+4])\n",
    "        y.append(y_data[i])\n",
    "   \n",
    "    x = np.asarray(x)\n",
    "    y = np.asarray(y)\n",
    "    \n",
    "    return x, y"
   ]
  },
  {
   "cell_type": "code",
   "execution_count": 15,
   "metadata": {},
   "outputs": [],
   "source": [
    "x_sequences, y_sequences = sequences(gray_x_data, y_data)"
   ]
  },
  {
   "cell_type": "code",
   "execution_count": 16,
   "metadata": {},
   "outputs": [
    {
     "data": {
      "text/plain": [
       "((115905, 4, 84, 84, 1), (115905,))"
      ]
     },
     "execution_count": 16,
     "metadata": {},
     "output_type": "execute_result"
    }
   ],
   "source": [
    "x_sequences.shape, y_sequences.shape"
   ]
  },
  {
   "cell_type": "markdown",
   "metadata": {
    "id": "1czVT38wzbHJ"
   },
   "source": [
    "### converting labels to categorical labels"
   ]
  },
  {
   "cell_type": "code",
   "execution_count": 17,
   "metadata": {
    "id": "7L2wBkTtzaZ_"
   },
   "outputs": [],
   "source": [
    "from tensorflow.keras.utils import to_categorical\n",
    "y = to_categorical(y=y_data, num_classes=env.action_space.n)\n",
    "y_seq = to_categorical(y=y_sequences, num_classes=env.action_space.n)"
   ]
  },
  {
   "cell_type": "markdown",
   "metadata": {
    "id": "-H1fJpNxwSPy"
   },
   "source": [
    "### shuffle data"
   ]
  },
  {
   "cell_type": "code",
   "execution_count": 18,
   "metadata": {
    "id": "rBI7d68iwRBn"
   },
   "outputs": [],
   "source": [
    "# create random indices\n",
    "idx = np.random.permutation(x_data.shape[0])\n",
    "# x - resized grayscale input\n",
    "# x_stacked - resized grayscale input in framestacks\n",
    "# labels - actions in to_categorical\n",
    "x, x_stacked, labels = gray_x_data[idx], stack_data[idx], y[idx]\n",
    "\n",
    "idx_seq = np.random.permutation(x_sequences.shape[0])\n",
    "x_sequences, labels_seq = x_sequences[idx_seq], y_seq[idx_seq]"
   ]
  },
  {
   "cell_type": "markdown",
   "metadata": {
    "id": "IoWl4NPBR-p7"
   },
   "source": [
    "# create a model\n"
   ]
  },
  {
   "cell_type": "code",
   "execution_count": 19,
   "metadata": {
    "id": "YQYdMrat39p5"
   },
   "outputs": [],
   "source": [
    "import tensorflow\n",
    "from tensorflow.keras.layers import Activation\n",
    "from tensorflow.keras.layers import Conv2D\n",
    "from tensorflow.keras.layers import Dense\n",
    "from tensorflow.keras.layers import ConvLSTM2D\n",
    "from tensorflow.keras.layers import Flatten\n",
    "from tensorflow.keras.layers import Input\n",
    "from tensorflow.keras.models import Model\n",
    "from tensorflow.keras.losses import Huber\n",
    "from tensorflow.keras.optimizers import Adam\n",
    "\n",
    "def create_nn(input_shape, output_shape, lstm):\n",
    "    net_input = Input(shape=input_shape) \n",
    "    \n",
    "    if lstm: # Input: samples, time, rows, cols, channels\n",
    "        x = ConvLSTM2D(filters=32, kernel_size=(8, 8), strides=(4, 4), padding=\"same\", return_sequences=True, data_format='channels_first')(net_input)\n",
    "        x = ConvLSTM2D(filters=64, kernel_size=(4, 4), strides=(2, 2), padding=\"same\", return_sequences=True)(x)\n",
    "        x = ConvLSTM2D(filters=64, kernel_size=(3, 3), strides=(1, 1), padding=\"same\", return_sequences=False)(x)\n",
    "    else: # Input: rows, cols, channels\n",
    "        x = Conv2D(filters=32, kernel_size=(8, 8), strides=(4, 4), padding=\"same\", activation=\"relu\")(net_input)\n",
    "        x = Conv2D(filters=64, kernel_size=(4, 4), strides=(2, 2), padding=\"same\", activation=\"relu\")(x)\n",
    "        x = Conv2D(filters=64, kernel_size=(3, 3), strides=(1, 1), padding=\"same\", activation=\"relu\")(x)\n",
    "    \n",
    "    x = Flatten()(x)\n",
    "    x = Dense(512, activation=\"relu\")(x)\n",
    "    net_output = Dense(output_shape, activation=\"softmax\")(x)\n",
    "\n",
    "    OPTIMIZER = Adam(lr=0.00005)\n",
    "\n",
    "    model = Model(inputs=net_input, outputs=net_output)\n",
    "    model.compile(loss=\"categorical_crossentropy\", optimizer=OPTIMIZER, metrics=[\"categorical_accuracy\"])\n",
    "\n",
    "    return model"
   ]
  },
  {
   "cell_type": "markdown",
   "metadata": {
    "id": "6MwFT04i4tQg"
   },
   "source": [
    "# Train a model on resized-grayscale input\n",
    "\n"
   ]
  },
  {
   "cell_type": "code",
   "execution_count": 20,
   "metadata": {
    "colab": {
     "base_uri": "https://localhost:8080/"
    },
    "id": "-Q4GjusRR-p8",
    "outputId": "808691c7-f8f1-442a-e5ca-77cdbcf39cd3"
   },
   "outputs": [
    {
     "data": {
      "text/plain": [
       "(84, 84, 1)"
      ]
     },
     "execution_count": 20,
     "metadata": {},
     "output_type": "execute_result"
    }
   ],
   "source": [
    "x.shape[1:]"
   ]
  },
  {
   "cell_type": "code",
   "execution_count": 21,
   "metadata": {
    "colab": {
     "base_uri": "https://localhost:8080/"
    },
    "id": "kIfmFHv_5Q-1",
    "outputId": "ba7e6db4-d19b-4280-e6e6-87490e0017a4"
   },
   "outputs": [
    {
     "data": {
      "text/plain": [
       "6"
      ]
     },
     "execution_count": 21,
     "metadata": {},
     "output_type": "execute_result"
    }
   ],
   "source": [
    "labels.shape[1]"
   ]
  },
  {
   "cell_type": "code",
   "execution_count": 22,
   "metadata": {
    "id": "3MUt_E1K4_zt"
   },
   "outputs": [],
   "source": [
    "model_1 = create_nn(x.shape[1:], labels.shape[1], False)"
   ]
  },
  {
   "cell_type": "code",
   "execution_count": 23,
   "metadata": {
    "colab": {
     "base_uri": "https://localhost:8080/",
     "height": 772
    },
    "id": "n6d2qk_IR-p9",
    "outputId": "7a07eaf1-1cf2-459b-8cfb-2683c07af2e7"
   },
   "outputs": [
    {
     "name": "stdout",
     "output_type": "stream",
     "text": [
      "Epoch 1/85\n"
     ]
    },
    {
     "name": "stderr",
     "output_type": "stream",
     "text": [
      "WARNING: Logging before flag parsing goes to stderr.\n",
      "W0310 08:41:22.786848 139751205492544 deprecation.py:323] From /usr/local/lib/python3.6/dist-packages/tensorflow_core/python/keras/optimizer_v2/optimizer_v2.py:466: BaseResourceVariable.constraint (from tensorflow.python.ops.resource_variable_ops) is deprecated and will be removed in a future version.\n",
      "Instructions for updating:\n",
      "Apply a constraint manually following the optimizer update step.\n"
     ]
    },
    {
     "name": "stdout",
     "output_type": "stream",
     "text": [
      "115908/115908 [==============================] - 14s 118us/sample - loss: 2.0717 - categorical_accuracy: 0.1684\n",
      "Epoch 2/85\n",
      "115908/115908 [==============================] - 10s 89us/sample - loss: 1.8275 - categorical_accuracy: 0.1743\n",
      "Epoch 3/85\n",
      "115908/115908 [==============================] - 10s 83us/sample - loss: 1.8074 - categorical_accuracy: 0.1756\n",
      "Epoch 4/85\n",
      "115908/115908 [==============================] - 9s 81us/sample - loss: 1.7977 - categorical_accuracy: 0.1764\n",
      "Epoch 5/85\n",
      "115908/115908 [==============================] - 9s 82us/sample - loss: 1.7943 - categorical_accuracy: 0.1768\n",
      "Epoch 6/85\n",
      "115908/115908 [==============================] - 10s 89us/sample - loss: 1.7910 - categorical_accuracy: 0.1831\n",
      "Epoch 7/85\n",
      "115908/115908 [==============================] - 10s 86us/sample - loss: 1.7898 - categorical_accuracy: 0.1809\n",
      "Epoch 8/85\n",
      "115908/115908 [==============================] - 10s 86us/sample - loss: 1.7884 - categorical_accuracy: 0.1846\n",
      "Epoch 9/85\n",
      "115908/115908 [==============================] - 10s 88us/sample - loss: 1.7875 - categorical_accuracy: 0.1860\n",
      "Epoch 10/85\n",
      "115908/115908 [==============================] - 10s 83us/sample - loss: 1.7867 - categorical_accuracy: 0.1876\n",
      "Epoch 11/85\n",
      "115908/115908 [==============================] - 10s 87us/sample - loss: 1.7857 - categorical_accuracy: 0.1894\n",
      "Epoch 12/85\n",
      "115908/115908 [==============================] - 10s 84us/sample - loss: 1.7843 - categorical_accuracy: 0.1923\n",
      "Epoch 13/85\n",
      "115908/115908 [==============================] - 10s 86us/sample - loss: 1.7833 - categorical_accuracy: 0.1919\n",
      "Epoch 14/85\n",
      "115908/115908 [==============================] - 10s 85us/sample - loss: 1.7817 - categorical_accuracy: 0.1977\n",
      "Epoch 15/85\n",
      "115908/115908 [==============================] - 9s 82us/sample - loss: 1.7795 - categorical_accuracy: 0.1990\n",
      "Epoch 16/85\n",
      "115908/115908 [==============================] - 10s 87us/sample - loss: 1.7770 - categorical_accuracy: 0.2029\n",
      "Epoch 17/85\n",
      "115908/115908 [==============================] - 9s 81us/sample - loss: 1.7740 - categorical_accuracy: 0.2084\n",
      "Epoch 18/85\n",
      "115908/115908 [==============================] - 10s 87us/sample - loss: 1.7702 - categorical_accuracy: 0.2129\n",
      "Epoch 19/85\n",
      "115908/115908 [==============================] - 10s 84us/sample - loss: 1.7661 - categorical_accuracy: 0.2196\n",
      "Epoch 20/85\n",
      "115908/115908 [==============================] - 10s 82us/sample - loss: 1.7611 - categorical_accuracy: 0.2239\n",
      "Epoch 21/85\n",
      "115908/115908 [==============================] - 10s 87us/sample - loss: 1.7545 - categorical_accuracy: 0.2311\n",
      "Epoch 22/85\n",
      "115908/115908 [==============================] - 10s 82us/sample - loss: 1.7467 - categorical_accuracy: 0.2408\n",
      "Epoch 23/85\n",
      "115908/115908 [==============================] - 10s 87us/sample - loss: 1.7377 - categorical_accuracy: 0.2495\n",
      "Epoch 24/85\n",
      "115908/115908 [==============================] - 10s 84us/sample - loss: 1.7278 - categorical_accuracy: 0.2580\n",
      "Epoch 25/85\n",
      "115908/115908 [==============================] - 9s 81us/sample - loss: 1.7164 - categorical_accuracy: 0.2667\n",
      "Epoch 26/85\n",
      "115908/115908 [==============================] - 10s 87us/sample - loss: 1.7030 - categorical_accuracy: 0.2783\n",
      "Epoch 27/85\n",
      "115908/115908 [==============================] - 9s 82us/sample - loss: 1.6887 - categorical_accuracy: 0.2891\n",
      "Epoch 28/85\n",
      "115908/115908 [==============================] - 10s 90us/sample - loss: 1.6733 - categorical_accuracy: 0.3014\n",
      "Epoch 29/85\n",
      "115908/115908 [==============================] - 10s 82us/sample - loss: 1.6565 - categorical_accuracy: 0.3111\n",
      "Epoch 30/85\n",
      "115908/115908 [==============================] - 10s 84us/sample - loss: 1.6372 - categorical_accuracy: 0.3236\n",
      "Epoch 31/85\n",
      "115908/115908 [==============================] - 10s 85us/sample - loss: 1.6179 - categorical_accuracy: 0.3368\n",
      "Epoch 32/85\n",
      "115908/115908 [==============================] - 10s 82us/sample - loss: 1.5972 - categorical_accuracy: 0.3491\n",
      "Epoch 33/85\n",
      "115908/115908 [==============================] - 10s 87us/sample - loss: 1.5766 - categorical_accuracy: 0.3594\n",
      "Epoch 34/85\n",
      "115908/115908 [==============================] - 10s 82us/sample - loss: 1.5538 - categorical_accuracy: 0.3733\n",
      "Epoch 35/85\n",
      "115908/115908 [==============================] - 10s 88us/sample - loss: 1.5310 - categorical_accuracy: 0.3843\n",
      "Epoch 36/85\n",
      "115908/115908 [==============================] - 10s 84us/sample - loss: 1.5059 - categorical_accuracy: 0.3974\n",
      "Epoch 37/85\n",
      "115908/115908 [==============================] - 10s 82us/sample - loss: 1.4826 - categorical_accuracy: 0.4099\n",
      "Epoch 38/85\n",
      "115908/115908 [==============================] - 10s 87us/sample - loss: 1.4588 - categorical_accuracy: 0.4220\n",
      "Epoch 39/85\n",
      "115908/115908 [==============================] - 9s 81us/sample - loss: 1.4337 - categorical_accuracy: 0.4326\n",
      "Epoch 40/85\n",
      "115908/115908 [==============================] - 10s 88us/sample - loss: 1.4092 - categorical_accuracy: 0.4449\n",
      "Epoch 41/85\n",
      "115908/115908 [==============================] - 10s 84us/sample - loss: 1.3837 - categorical_accuracy: 0.4577\n",
      "Epoch 42/85\n",
      "115908/115908 [==============================] - 10s 83us/sample - loss: 1.3598 - categorical_accuracy: 0.4698\n",
      "Epoch 43/85\n",
      "115908/115908 [==============================] - 10s 87us/sample - loss: 1.3360 - categorical_accuracy: 0.4797\n",
      "Epoch 44/85\n",
      "115908/115908 [==============================] - 9s 81us/sample - loss: 1.3121 - categorical_accuracy: 0.4919\n",
      "Epoch 45/85\n",
      "115908/115908 [==============================] - 10s 89us/sample - loss: 1.2870 - categorical_accuracy: 0.5018\n",
      "Epoch 46/85\n",
      "115908/115908 [==============================] - 10s 83us/sample - loss: 1.2646 - categorical_accuracy: 0.5116\n",
      "Epoch 47/85\n",
      "115908/115908 [==============================] - 10s 84us/sample - loss: 1.2402 - categorical_accuracy: 0.5229\n",
      "Epoch 48/85\n",
      "115908/115908 [==============================] - 10s 87us/sample - loss: 1.2178 - categorical_accuracy: 0.5326\n",
      "Epoch 49/85\n",
      "115908/115908 [==============================] - 9s 81us/sample - loss: 1.1951 - categorical_accuracy: 0.5425\n",
      "Epoch 50/85\n",
      "115908/115908 [==============================] - 10s 88us/sample - loss: 1.1726 - categorical_accuracy: 0.5527\n",
      "Epoch 51/85\n",
      "115908/115908 [==============================] - 10s 84us/sample - loss: 1.1529 - categorical_accuracy: 0.5591\n",
      "Epoch 52/85\n",
      "115908/115908 [==============================] - 10s 83us/sample - loss: 1.1307 - categorical_accuracy: 0.5714\n",
      "Epoch 53/85\n",
      "115908/115908 [==============================] - 10s 87us/sample - loss: 1.1115 - categorical_accuracy: 0.5779\n",
      "Epoch 54/85\n",
      "115908/115908 [==============================] - 10s 82us/sample - loss: 1.0915 - categorical_accuracy: 0.5853\n",
      "Epoch 55/85\n",
      "115908/115908 [==============================] - 10s 87us/sample - loss: 1.0719 - categorical_accuracy: 0.5943\n",
      "Epoch 56/85\n",
      "115908/115908 [==============================] - 10s 84us/sample - loss: 1.0537 - categorical_accuracy: 0.6020\n",
      "Epoch 57/85\n",
      "115908/115908 [==============================] - 9s 82us/sample - loss: 1.0346 - categorical_accuracy: 0.6097\n",
      "Epoch 58/85\n",
      "115908/115908 [==============================] - 10s 89us/sample - loss: 1.0171 - categorical_accuracy: 0.6184\n",
      "Epoch 59/85\n",
      "115908/115908 [==============================] - 10s 83us/sample - loss: 1.0001 - categorical_accuracy: 0.6241\n",
      "Epoch 60/85\n",
      "115908/115908 [==============================] - 10s 86us/sample - loss: 0.9832 - categorical_accuracy: 0.6315\n",
      "Epoch 61/85\n",
      "115908/115908 [==============================] - 10s 85us/sample - loss: 0.9668 - categorical_accuracy: 0.6367\n",
      "Epoch 62/85\n",
      "115908/115908 [==============================] - 10s 82us/sample - loss: 0.9517 - categorical_accuracy: 0.6421\n",
      "Epoch 63/85\n",
      "115908/115908 [==============================] - 10s 89us/sample - loss: 0.9361 - categorical_accuracy: 0.6493\n",
      "Epoch 64/85\n",
      "115908/115908 [==============================] - 10s 84us/sample - loss: 0.9225 - categorical_accuracy: 0.6531\n",
      "Epoch 65/85\n",
      "115908/115908 [==============================] - 10s 84us/sample - loss: 0.9066 - categorical_accuracy: 0.6598\n",
      "Epoch 66/85\n",
      "115908/115908 [==============================] - 10s 86us/sample - loss: 0.8940 - categorical_accuracy: 0.6649\n",
      "Epoch 67/85\n"
     ]
    },
    {
     "name": "stdout",
     "output_type": "stream",
     "text": [
      "115908/115908 [==============================] - 10s 82us/sample - loss: 0.8797 - categorical_accuracy: 0.6700\n",
      "Epoch 68/85\n",
      "115908/115908 [==============================] - 10s 88us/sample - loss: 0.8677 - categorical_accuracy: 0.6745\n",
      "Epoch 69/85\n",
      "115908/115908 [==============================] - 10s 84us/sample - loss: 0.8527 - categorical_accuracy: 0.6816\n",
      "Epoch 70/85\n",
      "115908/115908 [==============================] - 10s 84us/sample - loss: 0.8423 - categorical_accuracy: 0.6847\n",
      "Epoch 71/85\n",
      "115908/115908 [==============================] - 10s 86us/sample - loss: 0.8299 - categorical_accuracy: 0.6894\n",
      "Epoch 72/85\n",
      "115908/115908 [==============================] - 9s 81us/sample - loss: 0.8192 - categorical_accuracy: 0.6925\n",
      "Epoch 73/85\n",
      "115908/115908 [==============================] - 10s 89us/sample - loss: 0.8075 - categorical_accuracy: 0.6970\n",
      "Epoch 74/85\n",
      "115908/115908 [==============================] - 10s 83us/sample - loss: 0.7969 - categorical_accuracy: 0.7034\n",
      "Epoch 75/85\n",
      "115908/115908 [==============================] - 10s 87us/sample - loss: 0.7872 - categorical_accuracy: 0.7043\n",
      "Epoch 76/85\n",
      "115908/115908 [==============================] - 10s 84us/sample - loss: 0.7751 - categorical_accuracy: 0.7096\n",
      "Epoch 77/85\n",
      "115908/115908 [==============================] - 9s 82us/sample - loss: 0.7663 - categorical_accuracy: 0.7137\n",
      "Epoch 78/85\n",
      "115908/115908 [==============================] - 10s 87us/sample - loss: 0.7554 - categorical_accuracy: 0.7173\n",
      "Epoch 79/85\n",
      "115908/115908 [==============================] - 9s 82us/sample - loss: 0.7477 - categorical_accuracy: 0.7200\n",
      "Epoch 80/85\n",
      "115908/115908 [==============================] - 10s 87us/sample - loss: 0.7380 - categorical_accuracy: 0.7233\n",
      "Epoch 81/85\n",
      "115908/115908 [==============================] - 10s 84us/sample - loss: 0.7285 - categorical_accuracy: 0.7271\n",
      "Epoch 82/85\n",
      "115908/115908 [==============================] - 10s 82us/sample - loss: 0.7216 - categorical_accuracy: 0.7298\n",
      "Epoch 83/85\n",
      "115908/115908 [==============================] - 10s 87us/sample - loss: 0.7131 - categorical_accuracy: 0.7318\n",
      "Epoch 84/85\n",
      "115908/115908 [==============================] - 9s 82us/sample - loss: 0.7047 - categorical_accuracy: 0.7373\n",
      "Epoch 85/85\n",
      "115908/115908 [==============================] - 10s 88us/sample - loss: 0.6977 - categorical_accuracy: 0.7386\n"
     ]
    }
   ],
   "source": [
    "EPOCHS = 85\n",
    "\n",
    "result_1 = model_1.fit(\n",
    "    x,\n",
    "    labels,\n",
    "    batch_size=128,\n",
    "    epochs=EPOCHS, \n",
    "    verbose=1)"
   ]
  },
  {
   "cell_type": "code",
   "execution_count": 24,
   "metadata": {},
   "outputs": [
    {
     "name": "stdout",
     "output_type": "stream",
     "text": [
      "Episode: 1 \tReward: -13.0\n",
      "Episode: 2 \tReward: -17.0\n",
      "Episode: 3 \tReward: -18.0\n",
      "Episode: 4 \tReward: -12.0\n",
      "Episode: 5 \tReward: -20.0\n"
     ]
    }
   ],
   "source": [
    "for episode in range(5):\n",
    "    done = False\n",
    "    episode_reward = 0.0\n",
    "    state = env.reset()\n",
    "    state = resize(state)\n",
    "    state = grayscale(state)\n",
    "    state = np.reshape(state, (1, 84, 84, 1))\n",
    "    state = state.astype(\"float32\")\n",
    "    while not done:\n",
    "        action = np.argmax(model_1.predict(state))\n",
    "        state, reward, done, info = env.step(action)\n",
    "        state = resize(state)\n",
    "        state = grayscale(state)\n",
    "        state = np.reshape(state, (1, 84, 84, 1))\n",
    "        state = state.astype(\"float32\")\n",
    "        episode_reward += reward\n",
    "    print(\"Episode:\", episode+1, \"\\tReward:\", episode_reward)"
   ]
  },
  {
   "cell_type": "code",
   "execution_count": 25,
   "metadata": {},
   "outputs": [],
   "source": [
    "res1_loss = result_1.history['loss']\n",
    "res1_acc = result_1.history['categorical_accuracy']"
   ]
  },
  {
   "cell_type": "code",
   "execution_count": 26,
   "metadata": {
    "scrolled": false
   },
   "outputs": [
    {
     "data": {
      "image/png": "[encoded data removed]",
      "text/plain": [
       "<Figure size 1080x720 with 1 Axes>"
      ]
     },
     "metadata": {
      "needs_background": "light"
     },
     "output_type": "display_data"
    }
   ],
   "source": [
    "plt.figure(figsize=(15,10))\n",
    "plt.grid(linestyle='-')\n",
    "plt.plot(res1_loss, label=\"loss\")\n",
    "plt.plot(res1_acc, label=\"accuracy\")\n",
    "plt.legend()\n",
    "plt.show()"
   ]
  },
  {
   "cell_type": "code",
   "execution_count": 27,
   "metadata": {},
   "outputs": [],
   "source": [
    "from datetime import datetime\n",
    "import os\n",
    "now = datetime.now()\n",
    "path = \"results/\" + str(now)\n",
    "\n",
    "try:\n",
    "    if not os.path.exists(path):\n",
    "        os.makedirs(path)\n",
    "except OSError:\n",
    "    print ('Error: Creating directory. ' +  path)"
   ]
  },
  {
   "cell_type": "code",
   "execution_count": 28,
   "metadata": {},
   "outputs": [],
   "source": [
    "model_1.save_weights(path + \"/nn_\" + str(DATASET_SIZE) + \"Examples_\" + str(EPOCHS) + \"Epochs.h5\")"
   ]
  },
  {
   "cell_type": "code",
   "execution_count": 29,
   "metadata": {},
   "outputs": [],
   "source": [
    "import pandas as pd\n",
    "df = pd.DataFrame(list(zip(res1_loss, res1_acc)), \n",
    "               columns =['Loss', 'Accuracy']) \n",
    "df.to_csv(path + \"/nn_\" + str(DATASET_SIZE) + \"Examples_\" + str(EPOCHS) + \"Epochs.csv\",mode=\"w\", index=False)"
   ]
  },
  {
   "cell_type": "markdown",
   "metadata": {
    "id": "_1TW5R-U7GPi"
   },
   "source": [
    "# Train a model on resized-grayscale-framestack input\n",
    "\n"
   ]
  },
  {
   "cell_type": "code",
   "execution_count": 30,
   "metadata": {
    "colab": {
     "base_uri": "https://localhost:8080/"
    },
    "id": "N_PC9GGe7PMu",
    "outputId": "aeff8a06-1c4d-47d8-9e83-bfbe8a8324ec"
   },
   "outputs": [
    {
     "data": {
      "text/plain": [
       "(84, 84, 4)"
      ]
     },
     "execution_count": 30,
     "metadata": {},
     "output_type": "execute_result"
    }
   ],
   "source": [
    "x_stacked.shape[1:]"
   ]
  },
  {
   "cell_type": "code",
   "execution_count": 31,
   "metadata": {
    "colab": {
     "base_uri": "https://localhost:8080/"
    },
    "id": "QKcsZxqu7T2E",
    "outputId": "45ddfa2e-f1fe-43f2-dc1a-4cb2f879a076"
   },
   "outputs": [
    {
     "data": {
      "text/plain": [
       "6"
      ]
     },
     "execution_count": 31,
     "metadata": {},
     "output_type": "execute_result"
    }
   ],
   "source": [
    "labels.shape[1]"
   ]
  },
  {
   "cell_type": "code",
   "execution_count": 32,
   "metadata": {
    "id": "bsG39ZXA7Wbu"
   },
   "outputs": [],
   "source": [
    "model_2 = create_nn(x_stacked.shape[1:], labels.shape[1], False)"
   ]
  },
  {
   "cell_type": "code",
   "execution_count": 33,
   "metadata": {
    "colab": {
     "base_uri": "https://localhost:8080/",
     "height": 385
    },
    "id": "CDhw3fr47gJ7",
    "outputId": "9b192e99-e5f0-4c34-fce9-2297fee248cb"
   },
   "outputs": [
    {
     "name": "stdout",
     "output_type": "stream",
     "text": [
      "Epoch 1/85\n",
      "115908/115908 [==============================] - 41s 350us/sample - loss: 2.3116 - categorical_accuracy: 0.1691\n",
      "Epoch 2/85\n",
      "115908/115908 [==============================] - 36s 311us/sample - loss: 1.8499 - categorical_accuracy: 0.1729\n",
      "Epoch 3/85\n",
      "115908/115908 [==============================] - 36s 311us/sample - loss: 1.8189 - categorical_accuracy: 0.1743\n",
      "Epoch 4/85\n",
      "115908/115908 [==============================] - 36s 311us/sample - loss: 1.8040 - categorical_accuracy: 0.1769\n",
      "Epoch 5/85\n",
      "115908/115908 [==============================] - 36s 313us/sample - loss: 1.7979 - categorical_accuracy: 0.1790\n",
      "Epoch 6/85\n",
      "115908/115908 [==============================] - 36s 312us/sample - loss: 1.7937 - categorical_accuracy: 0.1798\n",
      "Epoch 7/85\n",
      "115908/115908 [==============================] - 36s 314us/sample - loss: 1.7918 - categorical_accuracy: 0.1802\n",
      "Epoch 8/85\n",
      "115908/115908 [==============================] - 36s 313us/sample - loss: 1.7897 - categorical_accuracy: 0.1857\n",
      "Epoch 9/85\n",
      "115908/115908 [==============================] - 37s 317us/sample - loss: 1.7889 - categorical_accuracy: 0.1841\n",
      "Epoch 10/85\n",
      "115908/115908 [==============================] - 36s 310us/sample - loss: 1.7878 - categorical_accuracy: 0.1875\n",
      "Epoch 11/85\n",
      "115908/115908 [==============================] - 36s 312us/sample - loss: 1.7874 - categorical_accuracy: 0.1869\n",
      "Epoch 12/85\n",
      "115908/115908 [==============================] - 36s 312us/sample - loss: 1.7860 - categorical_accuracy: 0.1893\n",
      "Epoch 13/85\n",
      "115908/115908 [==============================] - 36s 313us/sample - loss: 1.7856 - categorical_accuracy: 0.1902\n",
      "Epoch 14/85\n",
      "115908/115908 [==============================] - 36s 313us/sample - loss: 1.7842 - categorical_accuracy: 0.1923\n",
      "Epoch 15/85\n",
      "115908/115908 [==============================] - 36s 311us/sample - loss: 1.7828 - categorical_accuracy: 0.1954\n",
      "Epoch 16/85\n",
      "115908/115908 [==============================] - 36s 311us/sample - loss: 1.7808 - categorical_accuracy: 0.1986\n",
      "Epoch 17/85\n",
      "115908/115908 [==============================] - 36s 311us/sample - loss: 1.7782 - categorical_accuracy: 0.2018\n",
      "Epoch 18/85\n",
      "115908/115908 [==============================] - 37s 316us/sample - loss: 1.7752 - categorical_accuracy: 0.2100\n",
      "Epoch 19/85\n",
      "115908/115908 [==============================] - 36s 312us/sample - loss: 1.7722 - categorical_accuracy: 0.2124\n",
      "Epoch 20/85\n",
      "115908/115908 [==============================] - 36s 313us/sample - loss: 1.7660 - categorical_accuracy: 0.2201\n",
      "Epoch 21/85\n",
      "115908/115908 [==============================] - 37s 315us/sample - loss: 1.7589 - categorical_accuracy: 0.2297\n",
      "Epoch 22/85\n",
      "115908/115908 [==============================] - 36s 313us/sample - loss: 1.7505 - categorical_accuracy: 0.2375\n",
      "Epoch 23/85\n",
      "115908/115908 [==============================] - 36s 314us/sample - loss: 1.7381 - categorical_accuracy: 0.2515\n",
      "Epoch 24/85\n",
      "115908/115908 [==============================] - 36s 311us/sample - loss: 1.7242 - categorical_accuracy: 0.2649\n",
      "Epoch 25/85\n",
      "115908/115908 [==============================] - 36s 312us/sample - loss: 1.7057 - categorical_accuracy: 0.2813\n",
      "Epoch 26/85\n",
      "115908/115908 [==============================] - 36s 311us/sample - loss: 1.6855 - categorical_accuracy: 0.2982\n",
      "Epoch 27/85\n",
      "115908/115908 [==============================] - 36s 313us/sample - loss: 1.6624 - categorical_accuracy: 0.3136\n",
      "Epoch 28/85\n",
      "115908/115908 [==============================] - 36s 311us/sample - loss: 1.6359 - categorical_accuracy: 0.3344\n",
      "Epoch 29/85\n",
      "115908/115908 [==============================] - 36s 314us/sample - loss: 1.6065 - categorical_accuracy: 0.3535\n",
      "Epoch 30/85\n",
      "115908/115908 [==============================] - 36s 312us/sample - loss: 1.5736 - categorical_accuracy: 0.3722\n",
      "Epoch 31/85\n",
      "115908/115908 [==============================] - 36s 312us/sample - loss: 1.5384 - categorical_accuracy: 0.3943\n",
      "Epoch 32/85\n",
      "115908/115908 [==============================] - 37s 316us/sample - loss: 1.4996 - categorical_accuracy: 0.4163\n",
      "Epoch 33/85\n",
      "115908/115908 [==============================] - 36s 313us/sample - loss: 1.4597 - categorical_accuracy: 0.4392\n",
      "Epoch 34/85\n",
      "115908/115908 [==============================] - 36s 311us/sample - loss: 1.4174 - categorical_accuracy: 0.4617\n",
      "Epoch 35/85\n",
      "115908/115908 [==============================] - 36s 312us/sample - loss: 1.3717 - categorical_accuracy: 0.4854\n",
      "Epoch 36/85\n",
      "115908/115908 [==============================] - 36s 314us/sample - loss: 1.3257 - categorical_accuracy: 0.5070\n",
      "Epoch 37/85\n",
      "115908/115908 [==============================] - 36s 314us/sample - loss: 1.2768 - categorical_accuracy: 0.5313\n",
      "Epoch 38/85\n",
      "115908/115908 [==============================] - 36s 314us/sample - loss: 1.2299 - categorical_accuracy: 0.5535\n",
      "Epoch 39/85\n",
      "115908/115908 [==============================] - 36s 313us/sample - loss: 1.1801 - categorical_accuracy: 0.5776\n",
      "Epoch 40/85\n",
      "115908/115908 [==============================] - 36s 311us/sample - loss: 1.1315 - categorical_accuracy: 0.6003\n",
      "Epoch 41/85\n",
      "115908/115908 [==============================] - 36s 312us/sample - loss: 1.0824 - categorical_accuracy: 0.6207\n",
      "Epoch 42/85\n",
      "115908/115908 [==============================] - 36s 312us/sample - loss: 1.0335 - categorical_accuracy: 0.6422\n",
      "Epoch 43/85\n",
      "115908/115908 [==============================] - 36s 313us/sample - loss: 0.9840 - categorical_accuracy: 0.6644\n",
      "Epoch 44/85\n",
      "115908/115908 [==============================] - 36s 313us/sample - loss: 0.9365 - categorical_accuracy: 0.6839\n",
      "Epoch 45/85\n",
      "115908/115908 [==============================] - 36s 311us/sample - loss: 0.8892 - categorical_accuracy: 0.7021\n",
      "Epoch 46/85\n",
      "115908/115908 [==============================] - 36s 313us/sample - loss: 0.8436 - categorical_accuracy: 0.7225\n",
      "Epoch 47/85\n",
      "115908/115908 [==============================] - 36s 311us/sample - loss: 0.7979 - categorical_accuracy: 0.7383\n",
      "Epoch 48/85\n",
      "115908/115908 [==============================] - 36s 313us/sample - loss: 0.7569 - categorical_accuracy: 0.7569\n",
      "Epoch 49/85\n",
      "115908/115908 [==============================] - 36s 313us/sample - loss: 0.7146 - categorical_accuracy: 0.7721\n",
      "Epoch 50/85\n",
      "115908/115908 [==============================] - 36s 311us/sample - loss: 0.6742 - categorical_accuracy: 0.7870\n",
      "Epoch 51/85\n",
      "115908/115908 [==============================] - 36s 314us/sample - loss: 0.6370 - categorical_accuracy: 0.8010\n",
      "Epoch 52/85\n",
      "115908/115908 [==============================] - 36s 314us/sample - loss: 0.5985 - categorical_accuracy: 0.8145\n",
      "Epoch 53/85\n",
      "115908/115908 [==============================] - 36s 312us/sample - loss: 0.5656 - categorical_accuracy: 0.8268\n",
      "Epoch 54/85\n",
      "115908/115908 [==============================] - 36s 311us/sample - loss: 0.5313 - categorical_accuracy: 0.8392\n",
      "Epoch 55/85\n",
      "115908/115908 [==============================] - 36s 312us/sample - loss: 0.4995 - categorical_accuracy: 0.8507\n",
      "Epoch 56/85\n",
      "115908/115908 [==============================] - 36s 312us/sample - loss: 0.4706 - categorical_accuracy: 0.8605\n",
      "Epoch 57/85\n",
      "115908/115908 [==============================] - 36s 313us/sample - loss: 0.4412 - categorical_accuracy: 0.8701\n",
      "Epoch 58/85\n",
      "115908/115908 [==============================] - 36s 314us/sample - loss: 0.4143 - categorical_accuracy: 0.8800\n",
      "Epoch 59/85\n",
      "115908/115908 [==============================] - 36s 313us/sample - loss: 0.3894 - categorical_accuracy: 0.8876\n",
      "Epoch 60/85\n",
      "115908/115908 [==============================] - 36s 313us/sample - loss: 0.3639 - categorical_accuracy: 0.8962\n",
      "Epoch 61/85\n",
      "115908/115908 [==============================] - 36s 312us/sample - loss: 0.3416 - categorical_accuracy: 0.9038\n",
      "Epoch 62/85\n",
      "115908/115908 [==============================] - 36s 312us/sample - loss: 0.3207 - categorical_accuracy: 0.9101\n",
      "Epoch 63/85\n",
      "115908/115908 [==============================] - 36s 312us/sample - loss: 0.3008 - categorical_accuracy: 0.9168\n",
      "Epoch 64/85\n",
      "115908/115908 [==============================] - 36s 313us/sample - loss: 0.2807 - categorical_accuracy: 0.9236\n",
      "Epoch 65/85\n",
      "115908/115908 [==============================] - 36s 314us/sample - loss: 0.2640 - categorical_accuracy: 0.9287\n",
      "Epoch 66/85\n",
      "115908/115908 [==============================] - 36s 314us/sample - loss: 0.2464 - categorical_accuracy: 0.9341\n",
      "Epoch 67/85\n"
     ]
    },
    {
     "name": "stdout",
     "output_type": "stream",
     "text": [
      "115908/115908 [==============================] - 36s 313us/sample - loss: 0.2313 - categorical_accuracy: 0.9384\n",
      "Epoch 68/85\n",
      "115908/115908 [==============================] - 36s 311us/sample - loss: 0.2175 - categorical_accuracy: 0.9439\n",
      "Epoch 69/85\n",
      "115908/115908 [==============================] - 36s 312us/sample - loss: 0.2040 - categorical_accuracy: 0.9466\n",
      "Epoch 70/85\n",
      "115908/115908 [==============================] - 36s 311us/sample - loss: 0.1923 - categorical_accuracy: 0.9504\n",
      "Epoch 71/85\n",
      "115908/115908 [==============================] - 37s 317us/sample - loss: 0.1797 - categorical_accuracy: 0.9545\n",
      "Epoch 72/85\n",
      "115908/115908 [==============================] - 36s 313us/sample - loss: 0.1682 - categorical_accuracy: 0.9572\n",
      "Epoch 73/85\n",
      "115908/115908 [==============================] - 36s 311us/sample - loss: 0.1599 - categorical_accuracy: 0.9599\n",
      "Epoch 74/85\n",
      "115908/115908 [==============================] - 36s 312us/sample - loss: 0.1504 - categorical_accuracy: 0.9622\n",
      "Epoch 75/85\n",
      "115908/115908 [==============================] - 36s 314us/sample - loss: 0.1415 - categorical_accuracy: 0.9651\n",
      "Epoch 76/85\n",
      "115908/115908 [==============================] - 36s 313us/sample - loss: 0.1330 - categorical_accuracy: 0.9670\n",
      "Epoch 77/85\n",
      "115908/115908 [==============================] - 37s 315us/sample - loss: 0.1287 - categorical_accuracy: 0.9677\n",
      "Epoch 78/85\n",
      "115908/115908 [==============================] - 36s 311us/sample - loss: 0.1214 - categorical_accuracy: 0.9699\n",
      "Epoch 79/85\n",
      "115908/115908 [==============================] - 36s 312us/sample - loss: 0.1133 - categorical_accuracy: 0.9720\n",
      "Epoch 80/85\n",
      "115908/115908 [==============================] - 36s 312us/sample - loss: 0.1114 - categorical_accuracy: 0.9721\n",
      "Epoch 81/85\n",
      "115908/115908 [==============================] - 36s 313us/sample - loss: 0.1042 - categorical_accuracy: 0.9736\n",
      "Epoch 82/85\n",
      "115908/115908 [==============================] - 36s 311us/sample - loss: 0.0989 - categorical_accuracy: 0.9753\n",
      "Epoch 83/85\n",
      "115908/115908 [==============================] - 36s 311us/sample - loss: 0.0970 - categorical_accuracy: 0.9750\n",
      "Epoch 84/85\n",
      "115908/115908 [==============================] - 36s 313us/sample - loss: 0.0934 - categorical_accuracy: 0.9766\n",
      "Epoch 85/85\n",
      "115908/115908 [==============================] - 36s 313us/sample - loss: 0.0903 - categorical_accuracy: 0.9775\n"
     ]
    }
   ],
   "source": [
    "EPOCHS = 85#250\n",
    "\n",
    "result_2 = model_2.fit(\n",
    "    x_stacked,\n",
    "    labels,\n",
    "    batch_size=128,\n",
    "    epochs=EPOCHS, \n",
    "    verbose=1)"
   ]
  },
  {
   "cell_type": "code",
   "execution_count": 34,
   "metadata": {},
   "outputs": [
    {
     "name": "stdout",
     "output_type": "stream",
     "text": [
      "Episode: 1 \tReward: -15.0\n",
      "Episode: 2 \tReward: -17.0\n",
      "Episode: 3 \tReward: -19.0\n",
      "Episode: 4 \tReward: -18.0\n",
      "Episode: 5 \tReward: -20.0\n"
     ]
    }
   ],
   "source": [
    "for episode in range(5):\n",
    "    done = False\n",
    "    episode_reward = 0.0\n",
    "    state = env.reset()\n",
    "    state = resize(state)\n",
    "    state = grayscale(state)\n",
    "    state = np.reshape(state, (84, 84, 1))\n",
    "    frames = deque(maxlen=4)\n",
    "    # initialize deque for framestack\n",
    "    for _ in range(4):\n",
    "        frames.append(state)\n",
    "    framestack = np.asarray(frames, dtype=np.float32)\n",
    "    framestack = np.moveaxis(framestack, 0, -1).reshape(1, 84, 84, 4)#reshape(84, 84, -1)\n",
    "\n",
    "    # playing a episode\n",
    "    while not done:\n",
    "        action = np.argmax(model_2.predict(framestack))\n",
    "        state, reward, done, info = env.step(action)\n",
    "        episode_reward += reward\n",
    "        state = resize(state)\n",
    "        state = grayscale(state)\n",
    "        state = np.reshape(state, (84, 84, 1))\n",
    "        frames.append(state)\n",
    "        framestack = np.asarray(frames, dtype=np.float32)\n",
    "        framestack = np.moveaxis(framestack, 0, -1).reshape(1, 84, 84, 4)\n",
    "        \n",
    "    print(\"Episode:\", episode+1, \"\\tReward:\", episode_reward)"
   ]
  },
  {
   "cell_type": "code",
   "execution_count": 35,
   "metadata": {},
   "outputs": [],
   "source": [
    "res2_loss = result_2.history['loss']\n",
    "res2_acc = result_2.history['categorical_accuracy']"
   ]
  },
  {
   "cell_type": "code",
   "execution_count": 36,
   "metadata": {},
   "outputs": [
    {
     "data": {
      "image/png": "[encoded data removed]",
      "text/plain": [
       "<Figure size 1080x720 with 1 Axes>"
      ]
     },
     "metadata": {
      "needs_background": "light"
     },
     "output_type": "display_data"
    }
   ],
   "source": [
    "plt.figure(figsize=(15,10))\n",
    "plt.grid(linestyle='-')\n",
    "plt.plot(res2_loss, label=\"loss\")\n",
    "plt.plot(res2_acc, label=\"accuracy\")\n",
    "plt.legend()\n",
    "plt.show()"
   ]
  },
  {
   "cell_type": "code",
   "execution_count": 37,
   "metadata": {},
   "outputs": [],
   "source": [
    "model_2.save_weights(path + \"/nn_framestack_\" + str(DATASET_SIZE) + \"Examples_\" + str(EPOCHS) + \"Epochs.h5\")"
   ]
  },
  {
   "cell_type": "code",
   "execution_count": 38,
   "metadata": {},
   "outputs": [],
   "source": [
    "df = pd.DataFrame(list(zip(res2_loss, res2_acc)), \n",
    "               columns =['Loss', 'Accuracy']) \n",
    "df.to_csv(path + \"/nn_framestack_\" + str(DATASET_SIZE) + \"Examples_\" + str(EPOCHS) + \"Epochs.csv\",mode=\"w\", index=False)"
   ]
  },
  {
   "cell_type": "markdown",
   "metadata": {},
   "source": [
    "# Train a model on image-sequences input"
   ]
  },
  {
   "cell_type": "code",
   "execution_count": 39,
   "metadata": {},
   "outputs": [
    {
     "data": {
      "text/plain": [
       "(4, 84, 84, 1)"
      ]
     },
     "execution_count": 39,
     "metadata": {},
     "output_type": "execute_result"
    }
   ],
   "source": [
    "x_sequences.shape[1:]"
   ]
  },
  {
   "cell_type": "code",
   "execution_count": 40,
   "metadata": {},
   "outputs": [
    {
     "data": {
      "text/plain": [
       "6"
      ]
     },
     "execution_count": 40,
     "metadata": {},
     "output_type": "execute_result"
    }
   ],
   "source": [
    "labels_seq.shape[1]"
   ]
  },
  {
   "cell_type": "code",
   "execution_count": 41,
   "metadata": {},
   "outputs": [],
   "source": [
    "model_3 = create_nn(x_sequences.shape[1:], labels_seq.shape[1], True)"
   ]
  },
  {
   "cell_type": "code",
   "execution_count": null,
   "metadata": {},
   "outputs": [
    {
     "name": "stdout",
     "output_type": "stream",
     "text": [
      "Epoch 1/85\n"
     ]
    },
    {
     "name": "stderr",
     "output_type": "stream",
     "text": [
      "W0310 09:49:46.660785 139751205492544 deprecation.py:323] From /usr/local/lib/python3.6/dist-packages/tensorflow_core/python/ops/math_grad.py:1423: where (from tensorflow.python.ops.array_ops) is deprecated and will be removed in a future version.\n",
      "Instructions for updating:\n",
      "Use tf.where in 2.0, which has the same broadcast rule as np.where\n"
     ]
    },
    {
     "name": "stdout",
     "output_type": "stream",
     "text": [
      "115905/115905 [==============================] - 207s 2ms/sample - loss: 1.7915 - categorical_accuracy: 0.1722\n",
      "Epoch 2/85\n",
      "115905/115905 [==============================] - 200s 2ms/sample - loss: 1.7915 - categorical_accuracy: 0.1718\n",
      "Epoch 3/85\n",
      "115905/115905 [==============================] - 200s 2ms/sample - loss: 1.7915 - categorical_accuracy: 0.1723\n",
      "Epoch 4/85\n",
      "115905/115905 [==============================] - 200s 2ms/sample - loss: 1.7915 - categorical_accuracy: 0.1721\n",
      "Epoch 5/85\n",
      "115905/115905 [==============================] - 198s 2ms/sample - loss: 1.7914 - categorical_accuracy: 0.1722\n",
      "Epoch 6/85\n",
      "115905/115905 [==============================] - 197s 2ms/sample - loss: 1.7914 - categorical_accuracy: 0.1729\n",
      "Epoch 7/85\n",
      "115905/115905 [==============================] - 197s 2ms/sample - loss: 1.7914 - categorical_accuracy: 0.1729\n",
      "Epoch 8/85\n",
      "115905/115905 [==============================] - 198s 2ms/sample - loss: 1.7914 - categorical_accuracy: 0.1724\n",
      "Epoch 9/85\n",
      "115905/115905 [==============================] - 200s 2ms/sample - loss: 1.7914 - categorical_accuracy: 0.1727\n",
      "Epoch 10/85\n",
      "115905/115905 [==============================] - 200s 2ms/sample - loss: 1.7914 - categorical_accuracy: 0.1732\n",
      "Epoch 11/85\n",
      "115905/115905 [==============================] - 200s 2ms/sample - loss: 1.7914 - categorical_accuracy: 0.1734\n",
      "Epoch 12/85\n",
      "115905/115905 [==============================] - 200s 2ms/sample - loss: 1.7914 - categorical_accuracy: 0.1723\n",
      "Epoch 13/85\n",
      "115905/115905 [==============================] - 199s 2ms/sample - loss: 1.7914 - categorical_accuracy: 0.1733\n",
      "Epoch 14/85\n",
      "115905/115905 [==============================] - 199s 2ms/sample - loss: 1.7914 - categorical_accuracy: 0.1723\n",
      "Epoch 15/85\n",
      "115905/115905 [==============================] - 200s 2ms/sample - loss: 1.7914 - categorical_accuracy: 0.1730\n",
      "Epoch 16/85\n",
      "115905/115905 [==============================] - 200s 2ms/sample - loss: 1.7914 - categorical_accuracy: 0.1734\n",
      "Epoch 17/85\n",
      "115905/115905 [==============================] - 200s 2ms/sample - loss: 1.7914 - categorical_accuracy: 0.1734\n",
      "Epoch 18/85\n",
      "115905/115905 [==============================] - 200s 2ms/sample - loss: 1.7914 - categorical_accuracy: 0.1734\n",
      "Epoch 19/85\n",
      "115905/115905 [==============================] - 200s 2ms/sample - loss: 1.7914 - categorical_accuracy: 0.1730\n",
      "Epoch 20/85\n",
      "115905/115905 [==============================] - 200s 2ms/sample - loss: 1.7914 - categorical_accuracy: 0.1734\n",
      "Epoch 21/85\n",
      "115905/115905 [==============================] - 200s 2ms/sample - loss: 1.7914 - categorical_accuracy: 0.1737\n",
      "Epoch 22/85\n",
      "115905/115905 [==============================] - 200s 2ms/sample - loss: 1.7914 - categorical_accuracy: 0.1729\n",
      "Epoch 23/85\n",
      "115905/115905 [==============================] - 200s 2ms/sample - loss: 1.7914 - categorical_accuracy: 0.1734\n",
      "Epoch 24/85\n",
      "115905/115905 [==============================] - 200s 2ms/sample - loss: 1.7914 - categorical_accuracy: 0.1732\n",
      "Epoch 25/85\n",
      " 99072/115905 [========================>.....] - ETA: 29s - loss: 1.7914 - categorical_accuracy: 0.1741"
     ]
    }
   ],
   "source": [
    "EPOCHS = 85#250\n",
    "\n",
    "result_3 = model_3.fit(\n",
    "    x_sequences,\n",
    "    labels_seq,\n",
    "    batch_size=128,\n",
    "    epochs=EPOCHS, \n",
    "    verbose=1)"
   ]
  },
  {
   "cell_type": "code",
   "execution_count": null,
   "metadata": {},
   "outputs": [],
   "source": [
    "res3_loss = result_3.history['loss']\n",
    "res3_acc = result_3.history['categorical_accuracy']"
   ]
  },
  {
   "cell_type": "code",
   "execution_count": null,
   "metadata": {},
   "outputs": [],
   "source": [
    "plt.figure(figsize=(15,10))\n",
    "plt.grid(linestyle='-')\n",
    "plt.plot(res3_loss, label=\"loss\")\n",
    "plt.plot(res3_acc, label=\"accuracy\")\n",
    "plt.legend()\n",
    "plt.show()"
   ]
  },
  {
   "cell_type": "code",
   "execution_count": null,
   "metadata": {},
   "outputs": [],
   "source": [
    "df = pd.DataFrame(list(zip(res3_loss, res3_acc)), \n",
    "               columns =['Loss', 'Accuracy']) \n",
    "df.to_csv(path + \"/nn_seq_\" + str(DATASET_SIZE) + \"Examples_\" + str(EPOCHS) + \"Epochs.csv\",mode=\"w\", index=False)"
   ]
  },
  {
   "cell_type": "code",
   "execution_count": null,
   "metadata": {},
   "outputs": [],
   "source": [
    "model_3.save_weights(path + \"/nn_seq_\" + str(DATASET_SIZE) + \"Examples_\" + str(EPOCHS) + \"Epochs.h5\")"
   ]
  }
 ],
 "metadata": {
  "colab": {
   "collapsed_sections": [],
   "name": "Playing_Atari_with_Deep-Learning_random_dataset.ipynb",
   "provenance": [],
   "toc_visible": true
  },
  "kernelspec": {
   "display_name": "Python 3",
   "language": "python",
   "name": "python3"
  },
  "language_info": {
   "codemirror_mode": {
    "name": "ipython",
    "version": 3
   },
   "file_extension": ".py",
   "mimetype": "text/x-python",
   "name": "python",
   "nbconvert_exporter": "python",
   "pygments_lexer": "ipython3",
   "version": "3.6.8"
  }
 },
 "nbformat": 4,
 "nbformat_minor": 1
}
