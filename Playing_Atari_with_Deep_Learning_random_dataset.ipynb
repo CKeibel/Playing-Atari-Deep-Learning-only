{
 "cells": [
  {
   "cell_type": "markdown",
   "metadata": {
    "id": "RMn53p6YR-pf"
   },
   "source": [
    "# playing Atari with Deep Learning"
   ]
  },
  {
   "cell_type": "code",
   "execution_count": 1,
   "metadata": {
    "id": "lgxvXMASR-py"
   },
   "outputs": [],
   "source": [
    "# choose game\n",
    "game = \"Pong-v0\""
   ]
  },
  {
   "cell_type": "markdown",
   "metadata": {
    "id": "oA37Mc9dTo99"
   },
   "source": [
    "# generate Dataset by random play\n",
    "\n",
    "* saving only good sequences"
   ]
  },
  {
   "cell_type": "code",
   "execution_count": 2,
   "metadata": {
    "colab": {
     "base_uri": "https://localhost:8080/"
    },
    "id": "QRFkZvcjR-p0",
    "outputId": "3b2f9605-3a06-4a77-8ac3-4dba2f7e6a67",
    "scrolled": true
   },
   "outputs": [
    {
     "name": "stdout",
     "output_type": "stream",
     "text": [
      "100\n",
      "200\n",
      "300\n",
      "400\n",
      "500\n",
      "600\n",
      "700\n",
      "800\n",
      "900\n",
      "1000\n",
      "1100\n",
      "1200\n",
      "1300\n",
      "1400\n",
      "1500\n",
      "Dataset completed\n",
      "Dataset completed\n"
     ]
    }
   ],
   "source": [
    "import numpy as np\n",
    "import gym\n",
    "\n",
    "env = gym.make(game)\n",
    "x_data = [] # Bilder (States)\n",
    "y_data = [] # Label (Aktionen)\n",
    "\n",
    "DATASET_SIZE = 1500\n",
    "saved_episodes = 0\n",
    "\n",
    "# Datensatz generieren\n",
    "the_end = False\n",
    "while not the_end:\n",
    "    done = False\n",
    "    state = env.reset()\n",
    "    episode_obs = []\n",
    "    episode_acts = []\n",
    "  \n",
    "    while not done:\n",
    "        action = env.action_space.sample()\n",
    "        episode_obs.append(state)\n",
    "        episode_acts.append(action)\n",
    "        state, reward, done, info = env.step(action)\n",
    "    \n",
    "        if reward < 0:\n",
    "            episode_acts = []\n",
    "            episode_obs = []\n",
    "        elif reward > 0:\n",
    "            x_data += episode_obs\n",
    "            y_data += episode_acts\n",
    "            episode_obs = []\n",
    "            episode_acts = []\n",
    "            saved_episodes += 1\n",
    "            if saved_episodes % 100 == 0:\n",
    "                print(saved_episodes)\n",
    "            if saved_episodes+1 > DATASET_SIZE:\n",
    "                print(\"Dataset completed\")\n",
    "                the_end = True"
   ]
  },
  {
   "cell_type": "markdown",
   "metadata": {
    "id": "9TTqB01eYUB6"
   },
   "source": [
    "# Preprocessing"
   ]
  },
  {
   "cell_type": "code",
   "execution_count": 3,
   "metadata": {
    "colab": {
     "base_uri": "https://localhost:8080/"
    },
    "id": "PdMRdMwMZYSv",
    "outputId": "cb66f955-2b59-4176-b438-69e349958bb5"
   },
   "outputs": [
    {
     "data": {
      "text/plain": [
       "((116048, 210, 160, 3), (116048,))"
      ]
     },
     "execution_count": 3,
     "metadata": {},
     "output_type": "execute_result"
    }
   ],
   "source": [
    "x_data = np.array(x_data)\n",
    "y_data = np.array(y_data)\n",
    "x_data.shape, y_data.shape"
   ]
  },
  {
   "cell_type": "code",
   "execution_count": 4,
   "metadata": {
    "colab": {
     "base_uri": "https://localhost:8080/"
    },
    "id": "ww_OsqftZqAO",
    "outputId": "42b59ef2-fbe5-4119-8e95-e1c17d461ba7"
   },
   "outputs": [
    {
     "data": {
      "text/plain": [
       "(210, 160, 3)"
      ]
     },
     "execution_count": 4,
     "metadata": {},
     "output_type": "execute_result"
    }
   ],
   "source": [
    "x_data[0].shape"
   ]
  },
  {
   "cell_type": "markdown",
   "metadata": {
    "id": "Z9PFtrNLY5Sd"
   },
   "source": [
    "### resize images to 84x84 pixels"
   ]
  },
  {
   "cell_type": "code",
   "execution_count": 5,
   "metadata": {
    "id": "uyIJN1MVbaEc"
   },
   "outputs": [],
   "source": [
    "import cv2\n",
    "def resize(img):\n",
    "    height = 84\n",
    "    width = 84\n",
    "    return cv2.resize(img, (width, height), interpolation=cv2.INTER_AREA)"
   ]
  },
  {
   "cell_type": "code",
   "execution_count": 6,
   "metadata": {
    "id": "roOO6duzbySo"
   },
   "outputs": [],
   "source": [
    "resized_x_data = [resize(img) for img in x_data]\n",
    "resized_x_data = np.array(resized_x_data)"
   ]
  },
  {
   "cell_type": "code",
   "execution_count": null,
   "metadata": {
    "colab": {
     "base_uri": "https://localhost:8080/",
     "height": 284
    },
    "id": "UTbEwSSdaHDU",
    "outputId": "0498bd1e-a192-4233-bd95-26ce27a73773"
   },
   "outputs": [],
   "source": [
    "import matplotlib.pyplot as plt\n",
    "fig, axs = plt.subplots(1,2)\n",
    "\n",
    "axs[0].imshow(x_data[0, :, :, :])\n",
    "axs[0].set_title(\"Original\", fontsize=\"15\")\n",
    "axs[1].imshow(resized_x_data[0, :, :, :])\n",
    "axs[1].set_title(\"Resized\", fontsize=\"15\")\n",
    "plt.show()"
   ]
  },
  {
   "cell_type": "markdown",
   "metadata": {
    "id": "UCrcMOZpeEru"
   },
   "source": [
    "### RGB to Grayscale"
   ]
  },
  {
   "cell_type": "code",
   "execution_count": 7,
   "metadata": {
    "id": "jAwmi_HaeJdg"
   },
   "outputs": [],
   "source": [
    "def grayscale(img):\n",
    "    img = cv2.cvtColor(img, cv2.COLOR_BGR2GRAY)\n",
    "    img = np.reshape(img, (img.shape[0], img.shape[1], 1))\n",
    "    return img"
   ]
  },
  {
   "cell_type": "code",
   "execution_count": 8,
   "metadata": {
    "id": "Bf7I6ZIdf8t7"
   },
   "outputs": [],
   "source": [
    "gray_x_data = [grayscale(img) for img in resized_x_data]\n",
    "gray_x_data = np.array(gray_x_data)"
   ]
  },
  {
   "cell_type": "code",
   "execution_count": null,
   "metadata": {
    "colab": {
     "base_uri": "https://localhost:8080/",
     "height": 236
    },
    "id": "k6Di_4PAg-Ol",
    "outputId": "6c4f6002-173a-4bab-fa3b-88440b72df9c"
   },
   "outputs": [],
   "source": [
    "fig, axs = plt.subplots(1, 2)\n",
    "axs[0].imshow(resized_x_data[0, :, :, :])\n",
    "axs[0].set_title(\"Resized\", fontsize=\"15\")\n",
    "axs[1].imshow(gray_x_data[0, :, :, 0], cmap=\"gray\")\n",
    "axs[1].set_title(\"Grayscale\", fontsize=\"15\")\n",
    "plt.show()"
   ]
  },
  {
   "cell_type": "markdown",
   "metadata": {
    "id": "yxC3qk02i7Fp"
   },
   "source": [
    "### Frame Stack"
   ]
  },
  {
   "cell_type": "code",
   "execution_count": 9,
   "metadata": {
    "id": "gj_qhnX1jDXm"
   },
   "outputs": [],
   "source": [
    "from collections import deque\n",
    "def framestack(dataset):\n",
    "    data = []\n",
    "    frames = deque(maxlen=4)\n",
    "\n",
    "    # initialize first deque\n",
    "    for _ in range(4):\n",
    "        frames.append(dataset[0])\n",
    "    framestack = np.asarray(frames, dtype=np.float32)\n",
    "    framestack = np.moveaxis(framestack, 0, -1).reshape(84, 84, -1)\n",
    "\n",
    "    # create deques from dataset\n",
    "    for state in dataset:\n",
    "        frames.append(state)\n",
    "        framestack = np.asarray(frames, dtype=np.float32)\n",
    "        framestack = np.moveaxis(framestack, 0, -1).reshape(84, 84, -1)\n",
    "        data.append(framestack)\n",
    "\n",
    "    return data"
   ]
  },
  {
   "cell_type": "code",
   "execution_count": 10,
   "metadata": {
    "colab": {
     "base_uri": "https://localhost:8080/"
    },
    "id": "fJKjcCDMpUTL",
    "outputId": "5c933575-4d49-4f95-aa2f-c945a8520cc4"
   },
   "outputs": [],
   "source": [
    "stack_data = framestack(gray_x_data) \n",
    "stack_data = np.array(stack_data)"
   ]
  },
  {
   "cell_type": "code",
   "execution_count": null,
   "metadata": {
    "colab": {
     "base_uri": "https://localhost:8080/",
     "height": 190
    },
    "id": "kNCHiv0jrXso",
    "outputId": "ff5164c2-af6f-4917-ea0f-0140b3dcd4f8"
   },
   "outputs": [],
   "source": [
    "fig, axs = plt.subplots(1, 4, figsize=(10,5))\n",
    "axs[0].imshow(stack_data[0+4, :, :, 0], cmap=\"gray\") # +4, because of 4 same initial frames\n",
    "axs[1].imshow(stack_data[1+4, :, :, 1], cmap=\"gray\")\n",
    "axs[2].imshow(stack_data[2+4, :, :, 2], cmap=\"gray\")\n",
    "axs[3].imshow(stack_data[3+4, :, :, 3], cmap=\"gray\")\n",
    "plt.show()"
   ]
  },
  {
   "cell_type": "markdown",
   "metadata": {
    "id": "1czVT38wzbHJ"
   },
   "source": [
    "### converting labels to categorical labels"
   ]
  },
  {
   "cell_type": "code",
   "execution_count": 11,
   "metadata": {
    "id": "7L2wBkTtzaZ_"
   },
   "outputs": [],
   "source": [
    "from tensorflow.keras.utils import to_categorical\n",
    "y = to_categorical(y=y_data, num_classes=env.action_space.n)"
   ]
  },
  {
   "cell_type": "markdown",
   "metadata": {
    "id": "-H1fJpNxwSPy"
   },
   "source": [
    "### shuffle data"
   ]
  },
  {
   "cell_type": "code",
   "execution_count": 12,
   "metadata": {
    "id": "rBI7d68iwRBn"
   },
   "outputs": [],
   "source": [
    "# create random indices\n",
    "idx = np.random.permutation(len(x_data))\n",
    "# x - resized grayscale input\n",
    "# x_stacked - resized grayscale input in framestacks\n",
    "# labels - actions in to_categorical\n",
    "x, x_stacked, labels = gray_x_data[idx], stack_data[idx], y[idx]"
   ]
  },
  {
   "cell_type": "markdown",
   "metadata": {
    "id": "IoWl4NPBR-p7"
   },
   "source": [
    "# create a model\n"
   ]
  },
  {
   "cell_type": "code",
   "execution_count": 13,
   "metadata": {
    "id": "YQYdMrat39p5"
   },
   "outputs": [],
   "source": [
    "import tensorflow\n",
    "from tensorflow.keras.layers import Activation\n",
    "from tensorflow.keras.layers import Conv2D\n",
    "from tensorflow.keras.layers import Dense\n",
    "from tensorflow.keras.layers import Flatten\n",
    "from tensorflow.keras.layers import Input\n",
    "from tensorflow.keras.models import Model\n",
    "from tensorflow.keras.losses import Huber\n",
    "from tensorflow.keras.optimizers import Adam\n",
    "\n",
    "def create_nn(input_shape, output_shape):\n",
    "    net_input = Input(shape=input_shape)\n",
    "    x = Conv2D(filters=32, kernel_size=(8, 8), strides=(4, 4), padding=\"same\")(net_input)\n",
    "    x = Activation(\"relu\")(x)\n",
    "    x = Conv2D(filters=64, kernel_size=(4, 4), strides=(2, 2), padding=\"same\")(x)\n",
    "    x = Activation(\"relu\")(x)\n",
    "    x = Conv2D(filters=64, kernel_size=(3, 3), strides=(1, 1), padding=\"same\")(x)\n",
    "    x = Activation(\"relu\")(x)\n",
    "    x = Flatten()(x)\n",
    "    x = Dense(512)(x)\n",
    "    x = Activation(\"relu\")(x)\n",
    "    x = Dense(output_shape)(x)\n",
    "    net_output = Activation(\"softmax\")(x)\n",
    "\n",
    "    OPTIMIZER = Adam(lr=0.00005)\n",
    "\n",
    "    model = Model(inputs=net_input, outputs=net_output)\n",
    "    model.compile(loss=\"categorical_crossentropy\", optimizer=OPTIMIZER, metrics=[\"categorical_accuracy\"])\n",
    "\n",
    "    return model"
   ]
  },
  {
   "cell_type": "markdown",
   "metadata": {
    "id": "6MwFT04i4tQg"
   },
   "source": [
    "# Train a model on resized-grayscale input\n",
    "\n"
   ]
  },
  {
   "cell_type": "code",
   "execution_count": null,
   "metadata": {
    "colab": {
     "base_uri": "https://localhost:8080/"
    },
    "id": "-Q4GjusRR-p8",
    "outputId": "808691c7-f8f1-442a-e5ca-77cdbcf39cd3"
   },
   "outputs": [],
   "source": [
    "x.shape[1:]"
   ]
  },
  {
   "cell_type": "code",
   "execution_count": null,
   "metadata": {
    "colab": {
     "base_uri": "https://localhost:8080/"
    },
    "id": "kIfmFHv_5Q-1",
    "outputId": "ba7e6db4-d19b-4280-e6e6-87490e0017a4"
   },
   "outputs": [],
   "source": [
    "labels.shape[1]"
   ]
  },
  {
   "cell_type": "code",
   "execution_count": null,
   "metadata": {
    "id": "3MUt_E1K4_zt"
   },
   "outputs": [],
   "source": [
    "model_1 = create_nn(x.shape[1:], labels.shape[1])"
   ]
  },
  {
   "cell_type": "code",
   "execution_count": null,
   "metadata": {
    "colab": {
     "base_uri": "https://localhost:8080/",
     "height": 772
    },
    "id": "n6d2qk_IR-p9",
    "outputId": "7a07eaf1-1cf2-459b-8cfb-2683c07af2e7"
   },
   "outputs": [],
   "source": [
    "EPOCHS = 250\n",
    "\n",
    "result_1 = model_1.fit(\n",
    "    x,\n",
    "    labels,\n",
    "    batch_size=128,\n",
    "    epochs=EPOCHS, \n",
    "    verbose=1)"
   ]
  },
  {
   "cell_type": "code",
   "execution_count": null,
   "metadata": {},
   "outputs": [],
   "source": [
    "model_1.save_weights(\"model_1_2.h5\")"
   ]
  },
  {
   "cell_type": "code",
   "execution_count": null,
   "metadata": {},
   "outputs": [],
   "source": [
    "for episode in range(5):\n",
    "    done = False\n",
    "    episode_reward = 0.0\n",
    "    state = env.reset()\n",
    "    state = resize(state)\n",
    "    state = grayscale(state)\n",
    "    state = np.reshape(state, (1, 84, 84, 1))\n",
    "    state = state.astype(\"float32\")\n",
    "    while not done:\n",
    "        action = np.argmax(model_1.predict(state))\n",
    "        state, reward, done, info = env.step(action)\n",
    "        state = resize(state)\n",
    "        state = grayscale(state)\n",
    "        state = np.reshape(state, (1, 84, 84, 1))\n",
    "        state = state.astype(\"float32\")\n",
    "        episode_reward += reward\n",
    "    print(\"Episode:\", episode+1, \"\\tReward:\", episode_reward)"
   ]
  },
  {
   "cell_type": "markdown",
   "metadata": {
    "id": "_1TW5R-U7GPi"
   },
   "source": [
    "# Train a model on resized-grayscale-framestack input\n",
    "\n"
   ]
  },
  {
   "cell_type": "code",
   "execution_count": 14,
   "metadata": {
    "colab": {
     "base_uri": "https://localhost:8080/"
    },
    "id": "N_PC9GGe7PMu",
    "outputId": "aeff8a06-1c4d-47d8-9e83-bfbe8a8324ec"
   },
   "outputs": [
    {
     "data": {
      "text/plain": [
       "(84, 84, 4)"
      ]
     },
     "execution_count": 14,
     "metadata": {},
     "output_type": "execute_result"
    }
   ],
   "source": [
    "x_stacked.shape[1:]"
   ]
  },
  {
   "cell_type": "code",
   "execution_count": 15,
   "metadata": {
    "colab": {
     "base_uri": "https://localhost:8080/"
    },
    "id": "QKcsZxqu7T2E",
    "outputId": "45ddfa2e-f1fe-43f2-dc1a-4cb2f879a076"
   },
   "outputs": [
    {
     "data": {
      "text/plain": [
       "6"
      ]
     },
     "execution_count": 15,
     "metadata": {},
     "output_type": "execute_result"
    }
   ],
   "source": [
    "labels.shape[1]"
   ]
  },
  {
   "cell_type": "code",
   "execution_count": 18,
   "metadata": {
    "id": "bsG39ZXA7Wbu"
   },
   "outputs": [],
   "source": [
    "model_2 = create_nn(x_stacked.shape[1:], labels.shape[1])"
   ]
  },
  {
   "cell_type": "code",
   "execution_count": 19,
   "metadata": {
    "colab": {
     "base_uri": "https://localhost:8080/",
     "height": 385
    },
    "id": "CDhw3fr47gJ7",
    "outputId": "9b192e99-e5f0-4c34-fce9-2297fee248cb"
   },
   "outputs": [
    {
     "name": "stdout",
     "output_type": "stream",
     "text": [
      "Epoch 1/250\n",
      "116048/116048 [==============================] - 37s 316us/sample - loss: 2.0898 - categorical_accuracy: 0.1681\n",
      "Epoch 2/250\n",
      "116048/116048 [==============================] - 37s 318us/sample - loss: 1.8282 - categorical_accuracy: 0.1736\n",
      "Epoch 3/250\n",
      "116048/116048 [==============================] - 36s 307us/sample - loss: 1.8064 - categorical_accuracy: 0.1759\n",
      "Epoch 4/250\n",
      "116048/116048 [==============================] - 37s 323us/sample - loss: 1.7969 - categorical_accuracy: 0.1810\n",
      "Epoch 5/250\n",
      "116048/116048 [==============================] - 33s 285us/sample - loss: 1.7942 - categorical_accuracy: 0.1806\n",
      "Epoch 6/250\n",
      "116048/116048 [==============================] - 37s 318us/sample - loss: 1.7918 - categorical_accuracy: 0.1815\n",
      "Epoch 7/250\n",
      "116048/116048 [==============================] - 36s 312us/sample - loss: 1.7896 - categorical_accuracy: 0.1844\n",
      "Epoch 8/250\n",
      "116048/116048 [==============================] - 37s 319us/sample - loss: 1.7880 - categorical_accuracy: 0.1858\n",
      "Epoch 9/250\n",
      "116048/116048 [==============================] - 36s 313us/sample - loss: 1.7871 - categorical_accuracy: 0.1866\n",
      "Epoch 10/250\n",
      "116048/116048 [==============================] - 37s 318us/sample - loss: 1.7854 - categorical_accuracy: 0.1908\n",
      "Epoch 11/250\n",
      "116048/116048 [==============================] - 37s 320us/sample - loss: 1.7843 - categorical_accuracy: 0.1908\n",
      "Epoch 12/250\n",
      "116048/116048 [==============================] - 35s 302us/sample - loss: 1.7829 - categorical_accuracy: 0.1944\n",
      "Epoch 13/250\n",
      "116048/116048 [==============================] - 38s 325us/sample - loss: 1.7805 - categorical_accuracy: 0.1992\n",
      "Epoch 14/250\n",
      "116048/116048 [==============================] - 37s 319us/sample - loss: 1.7781 - categorical_accuracy: 0.2032\n",
      "Epoch 15/250\n",
      "116048/116048 [==============================] - 36s 313us/sample - loss: 1.7740 - categorical_accuracy: 0.2086\n",
      "Epoch 16/250\n",
      "116048/116048 [==============================] - 37s 322us/sample - loss: 1.7689 - categorical_accuracy: 0.2161\n",
      "Epoch 17/250\n",
      "116048/116048 [==============================] - 37s 315us/sample - loss: 1.7624 - categorical_accuracy: 0.2252\n",
      "Epoch 18/250\n",
      "116048/116048 [==============================] - 34s 290us/sample - loss: 1.7532 - categorical_accuracy: 0.2335\n",
      "Epoch 19/250\n",
      "116048/116048 [==============================] - 38s 324us/sample - loss: 1.7416 - categorical_accuracy: 0.2453\n",
      "Epoch 20/250\n",
      "116048/116048 [==============================] - 36s 312us/sample - loss: 1.7263 - categorical_accuracy: 0.2611\n",
      "Epoch 21/250\n",
      "116048/116048 [==============================] - 35s 305us/sample - loss: 1.7065 - categorical_accuracy: 0.2794\n",
      "Epoch 22/250\n",
      "116048/116048 [==============================] - 36s 309us/sample - loss: 1.6837 - categorical_accuracy: 0.2974\n",
      "Epoch 23/250\n",
      "116048/116048 [==============================] - 36s 309us/sample - loss: 1.6572 - categorical_accuracy: 0.3171\n",
      "Epoch 24/250\n",
      "116048/116048 [==============================] - 34s 291us/sample - loss: 1.6263 - categorical_accuracy: 0.3394\n",
      "Epoch 25/250\n",
      "116048/116048 [==============================] - 38s 331us/sample - loss: 1.5920 - categorical_accuracy: 0.3585\n",
      "Epoch 26/250\n",
      "116048/116048 [==============================] - 37s 320us/sample - loss: 1.5526 - categorical_accuracy: 0.3838\n",
      "Epoch 27/250\n",
      "116048/116048 [==============================] - 37s 316us/sample - loss: 1.5149 - categorical_accuracy: 0.4077\n",
      "Epoch 28/250\n",
      "116048/116048 [==============================] - 44s 379us/sample - loss: 1.4699 - categorical_accuracy: 0.4311\n",
      "Epoch 29/250\n",
      "116048/116048 [==============================] - 37s 316us/sample - loss: 1.4228 - categorical_accuracy: 0.4585\n",
      "Epoch 30/250\n",
      "116048/116048 [==============================] - 36s 311us/sample - loss: 1.3741 - categorical_accuracy: 0.4826\n",
      "Epoch 31/250\n",
      "116048/116048 [==============================] - 33s 287us/sample - loss: 1.3229 - categorical_accuracy: 0.5087\n",
      "Epoch 32/250\n",
      "116048/116048 [==============================] - 39s 332us/sample - loss: 1.2721 - categorical_accuracy: 0.5330\n",
      "Epoch 33/250\n",
      "116048/116048 [==============================] - 36s 312us/sample - loss: 1.2182 - categorical_accuracy: 0.5576\n",
      "Epoch 34/250\n",
      "116048/116048 [==============================] - 37s 315us/sample - loss: 1.1632 - categorical_accuracy: 0.5842\n",
      "Epoch 35/250\n",
      "116048/116048 [==============================] - 36s 312us/sample - loss: 1.1116 - categorical_accuracy: 0.6063\n",
      "Epoch 36/250\n",
      "116048/116048 [==============================] - 37s 320us/sample - loss: 1.0557 - categorical_accuracy: 0.6329\n",
      "Epoch 37/250\n",
      "116048/116048 [==============================] - 34s 294us/sample - loss: 1.0033 - categorical_accuracy: 0.6531\n",
      "Epoch 38/250\n",
      "116048/116048 [==============================] - 37s 321us/sample - loss: 0.9496 - categorical_accuracy: 0.6763\n",
      "Epoch 39/250\n",
      "116048/116048 [==============================] - 35s 305us/sample - loss: 0.8989 - categorical_accuracy: 0.6985\n",
      "Epoch 40/250\n",
      "116048/116048 [==============================] - 36s 313us/sample - loss: 0.8492 - categorical_accuracy: 0.7171\n",
      "Epoch 41/250\n",
      "116048/116048 [==============================] - 37s 317us/sample - loss: 0.7979 - categorical_accuracy: 0.7383\n",
      "Epoch 42/250\n",
      "116048/116048 [==============================] - 35s 302us/sample - loss: 0.7520 - categorical_accuracy: 0.7568\n",
      "Epoch 43/250\n",
      "116048/116048 [==============================] - 35s 302us/sample - loss: 0.7065 - categorical_accuracy: 0.7743\n",
      "Epoch 44/250\n",
      "116048/116048 [==============================] - 37s 316us/sample - loss: 0.6623 - categorical_accuracy: 0.7899\n",
      "Epoch 45/250\n",
      "116048/116048 [==============================] - 37s 321us/sample - loss: 0.6217 - categorical_accuracy: 0.8060\n",
      "Epoch 46/250\n",
      "116048/116048 [==============================] - 38s 328us/sample - loss: 0.5825 - categorical_accuracy: 0.8203\n",
      "Epoch 47/250\n",
      "116048/116048 [==============================] - 35s 299us/sample - loss: 0.5438 - categorical_accuracy: 0.8343\n",
      "Epoch 48/250\n",
      "116048/116048 [==============================] - 37s 322us/sample - loss: 0.5089 - categorical_accuracy: 0.8463\n",
      "Epoch 49/250\n",
      "116048/116048 [==============================] - 35s 302us/sample - loss: 0.4754 - categorical_accuracy: 0.8582\n",
      "Epoch 50/250\n",
      "116048/116048 [==============================] - 37s 321us/sample - loss: 0.4449 - categorical_accuracy: 0.8690\n",
      "Epoch 51/250\n",
      "116048/116048 [==============================] - 37s 317us/sample - loss: 0.4149 - categorical_accuracy: 0.8789\n",
      "Epoch 52/250\n",
      "116048/116048 [==============================] - 35s 300us/sample - loss: 0.3853 - categorical_accuracy: 0.8889\n",
      "Epoch 53/250\n",
      "116048/116048 [==============================] - 35s 302us/sample - loss: 0.3589 - categorical_accuracy: 0.8978\n",
      "Epoch 54/250\n",
      "116048/116048 [==============================] - 35s 305us/sample - loss: 0.3342 - categorical_accuracy: 0.9065\n",
      "Epoch 55/250\n",
      "116048/116048 [==============================] - 36s 312us/sample - loss: 0.3119 - categorical_accuracy: 0.9130\n",
      "Epoch 56/250\n",
      "116048/116048 [==============================] - 36s 312us/sample - loss: 0.2926 - categorical_accuracy: 0.9187\n",
      "Epoch 57/250\n",
      "116048/116048 [==============================] - 34s 295us/sample - loss: 0.2700 - categorical_accuracy: 0.9269\n",
      "Epoch 58/250\n",
      "116048/116048 [==============================] - 36s 311us/sample - loss: 0.2526 - categorical_accuracy: 0.9311\n",
      "Epoch 59/250\n",
      "116048/116048 [==============================] - 36s 308us/sample - loss: 0.2352 - categorical_accuracy: 0.9378\n",
      "Epoch 60/250\n",
      "116048/116048 [==============================] - 36s 313us/sample - loss: 0.2194 - categorical_accuracy: 0.9423\n",
      "Epoch 61/250\n",
      "116048/116048 [==============================] - 37s 319us/sample - loss: 0.2061 - categorical_accuracy: 0.9463\n",
      "Epoch 62/250\n",
      "116048/116048 [==============================] - 34s 295us/sample - loss: 0.1911 - categorical_accuracy: 0.9502\n",
      "Epoch 63/250\n",
      "116048/116048 [==============================] - 37s 319us/sample - loss: 0.1823 - categorical_accuracy: 0.9522\n",
      "Epoch 64/250\n",
      "116048/116048 [==============================] - 36s 314us/sample - loss: 0.1674 - categorical_accuracy: 0.9572\n",
      "Epoch 65/250\n",
      "116048/116048 [==============================] - 36s 307us/sample - loss: 0.1591 - categorical_accuracy: 0.9591\n",
      "Epoch 66/250\n"
     ]
    },
    {
     "name": "stdout",
     "output_type": "stream",
     "text": [
      "116048/116048 [==============================] - 38s 326us/sample - loss: 0.1502 - categorical_accuracy: 0.9618\n",
      "Epoch 67/250\n",
      "116048/116048 [==============================] - 34s 297us/sample - loss: 0.1418 - categorical_accuracy: 0.9636\n",
      "Epoch 68/250\n",
      "116048/116048 [==============================] - 36s 314us/sample - loss: 0.1335 - categorical_accuracy: 0.9657\n",
      "Epoch 69/250\n",
      "116048/116048 [==============================] - 35s 306us/sample - loss: 0.1275 - categorical_accuracy: 0.9673\n",
      "Epoch 70/250\n",
      "116048/116048 [==============================] - 37s 321us/sample - loss: 0.1220 - categorical_accuracy: 0.9691\n",
      "Epoch 71/250\n",
      "116048/116048 [==============================] - 36s 312us/sample - loss: 0.1154 - categorical_accuracy: 0.9711\n",
      "Epoch 72/250\n",
      "116048/116048 [==============================] - 33s 288us/sample - loss: 0.1100 - categorical_accuracy: 0.9716\n",
      "Epoch 73/250\n",
      "116048/116048 [==============================] - 37s 317us/sample - loss: 0.1070 - categorical_accuracy: 0.9719\n",
      "Epoch 74/250\n",
      "116048/116048 [==============================] - 35s 302us/sample - loss: 0.1006 - categorical_accuracy: 0.9741\n",
      "Epoch 75/250\n",
      "116048/116048 [==============================] - 36s 311us/sample - loss: 0.0956 - categorical_accuracy: 0.9755\n",
      "Epoch 76/250\n",
      "116048/116048 [==============================] - 37s 321us/sample - loss: 0.0949 - categorical_accuracy: 0.9751\n",
      "Epoch 77/250\n",
      "116048/116048 [==============================] - 36s 310us/sample - loss: 0.0924 - categorical_accuracy: 0.9749\n",
      "Epoch 78/250\n",
      "116048/116048 [==============================] - 34s 296us/sample - loss: 0.0900 - categorical_accuracy: 0.9759\n",
      "Epoch 79/250\n",
      "116048/116048 [==============================] - 35s 305us/sample - loss: 0.0843 - categorical_accuracy: 0.9775\n",
      "Epoch 80/250\n",
      "116048/116048 [==============================] - 37s 318us/sample - loss: 0.0804 - categorical_accuracy: 0.9786\n",
      "Epoch 81/250\n",
      "116048/116048 [==============================] - 36s 307us/sample - loss: 0.0822 - categorical_accuracy: 0.9782\n",
      "Epoch 82/250\n",
      "116048/116048 [==============================] - 34s 297us/sample - loss: 0.0769 - categorical_accuracy: 0.9790\n",
      "Epoch 83/250\n",
      "116048/116048 [==============================] - 38s 329us/sample - loss: 0.0797 - categorical_accuracy: 0.9782\n",
      "Epoch 84/250\n",
      "116048/116048 [==============================] - 37s 319us/sample - loss: 0.0753 - categorical_accuracy: 0.9797\n",
      "Epoch 85/250\n",
      "116048/116048 [==============================] - 35s 298us/sample - loss: 0.0741 - categorical_accuracy: 0.9797\n",
      "Epoch 86/250\n",
      "116048/116048 [==============================] - 36s 308us/sample - loss: 0.0748 - categorical_accuracy: 0.9791\n",
      "Epoch 87/250\n",
      "116048/116048 [==============================] - 37s 319us/sample - loss: 0.0680 - categorical_accuracy: 0.9814\n",
      "Epoch 88/250\n",
      "116048/116048 [==============================] - 36s 306us/sample - loss: 0.0683 - categorical_accuracy: 0.9809\n",
      "Epoch 89/250\n",
      "116048/116048 [==============================] - 38s 325us/sample - loss: 0.0729 - categorical_accuracy: 0.9799\n",
      "Epoch 90/250\n",
      "116048/116048 [==============================] - 36s 307us/sample - loss: 0.0686 - categorical_accuracy: 0.9807\n",
      "Epoch 91/250\n",
      "116048/116048 [==============================] - 35s 305us/sample - loss: 0.0651 - categorical_accuracy: 0.9823\n",
      "Epoch 92/250\n",
      "116048/116048 [==============================] - 36s 311us/sample - loss: 0.0672 - categorical_accuracy: 0.9808\n",
      "Epoch 93/250\n",
      "116048/116048 [==============================] - 34s 297us/sample - loss: 0.0667 - categorical_accuracy: 0.9806\n",
      "Epoch 94/250\n",
      "     0/116048 [..............................] - ETA: 0s - loss: 0.0000e+00 - categorical_accuracy: 0.9806"
     ]
    },
    {
     "ename": "KeyboardInterrupt",
     "evalue": "",
     "output_type": "error",
     "traceback": [
      "\u001b[0;31m---------------------------------------------------------------------------\u001b[0m",
      "\u001b[0;31mKeyboardInterrupt\u001b[0m                         Traceback (most recent call last)",
      "\u001b[0;32m<ipython-input-19-fe816ab56c19>\u001b[0m in \u001b[0;36m<module>\u001b[0;34m\u001b[0m\n\u001b[1;32m      6\u001b[0m     \u001b[0mbatch_size\u001b[0m\u001b[0;34m=\u001b[0m\u001b[0;36m128\u001b[0m\u001b[0;34m,\u001b[0m\u001b[0;34m\u001b[0m\u001b[0;34m\u001b[0m\u001b[0m\n\u001b[1;32m      7\u001b[0m     \u001b[0mepochs\u001b[0m\u001b[0;34m=\u001b[0m\u001b[0mEPOCHS\u001b[0m\u001b[0;34m,\u001b[0m\u001b[0;34m\u001b[0m\u001b[0;34m\u001b[0m\u001b[0m\n\u001b[0;32m----> 8\u001b[0;31m     verbose=1)\n\u001b[0m",
      "\u001b[0;32m/usr/local/lib/python3.6/dist-packages/tensorflow_core/python/keras/engine/training.py\u001b[0m in \u001b[0;36mfit\u001b[0;34m(self, x, y, batch_size, epochs, verbose, callbacks, validation_split, validation_data, shuffle, class_weight, sample_weight, initial_epoch, steps_per_epoch, validation_steps, validation_freq, max_queue_size, workers, use_multiprocessing, **kwargs)\u001b[0m\n\u001b[1;32m    731\u001b[0m         \u001b[0mmax_queue_size\u001b[0m\u001b[0;34m=\u001b[0m\u001b[0mmax_queue_size\u001b[0m\u001b[0;34m,\u001b[0m\u001b[0;34m\u001b[0m\u001b[0;34m\u001b[0m\u001b[0m\n\u001b[1;32m    732\u001b[0m         \u001b[0mworkers\u001b[0m\u001b[0;34m=\u001b[0m\u001b[0mworkers\u001b[0m\u001b[0;34m,\u001b[0m\u001b[0;34m\u001b[0m\u001b[0;34m\u001b[0m\u001b[0m\n\u001b[0;32m--> 733\u001b[0;31m         use_multiprocessing=use_multiprocessing)\n\u001b[0m\u001b[1;32m    734\u001b[0m \u001b[0;34m\u001b[0m\u001b[0m\n\u001b[1;32m    735\u001b[0m   def evaluate(self,\n",
      "\u001b[0;32m/usr/local/lib/python3.6/dist-packages/tensorflow_core/python/keras/engine/training_v2.py\u001b[0m in \u001b[0;36mfit\u001b[0;34m(self, model, x, y, batch_size, epochs, verbose, callbacks, validation_split, validation_data, shuffle, class_weight, sample_weight, initial_epoch, steps_per_epoch, validation_steps, validation_freq, max_queue_size, workers, use_multiprocessing, **kwargs)\u001b[0m\n\u001b[1;32m    302\u001b[0m                 \u001b[0mtraining_data_iter\u001b[0m\u001b[0;34m.\u001b[0m\u001b[0m_initializer\u001b[0m  \u001b[0;31m# pylint: disable=pointless-statement\u001b[0m\u001b[0;34m\u001b[0m\u001b[0;34m\u001b[0m\u001b[0m\n\u001b[1;32m    303\u001b[0m               \u001b[0;32melse\u001b[0m\u001b[0;34m:\u001b[0m\u001b[0;34m\u001b[0m\u001b[0;34m\u001b[0m\u001b[0m\n\u001b[0;32m--> 304\u001b[0;31m                 \u001b[0mtraining_data_iter\u001b[0m \u001b[0;34m=\u001b[0m \u001b[0miter\u001b[0m\u001b[0;34m(\u001b[0m\u001b[0mtraining_dataset\u001b[0m\u001b[0;34m)\u001b[0m\u001b[0;34m\u001b[0m\u001b[0;34m\u001b[0m\u001b[0m\n\u001b[0m\u001b[1;32m    305\u001b[0m \u001b[0;34m\u001b[0m\u001b[0m\n\u001b[1;32m    306\u001b[0m             training_result = run_one_epoch(\n",
      "\u001b[0;32m/usr/local/lib/python3.6/dist-packages/tensorflow_core/python/data/ops/dataset_ops.py\u001b[0m in \u001b[0;36m__iter__\u001b[0;34m(self)\u001b[0m\n\u001b[1;32m    339\u001b[0m     if (context.executing_eagerly()\n\u001b[1;32m    340\u001b[0m         or ops.get_default_graph()._building_function):  # pylint: disable=protected-access\n\u001b[0;32m--> 341\u001b[0;31m       \u001b[0;32mreturn\u001b[0m \u001b[0miterator_ops\u001b[0m\u001b[0;34m.\u001b[0m\u001b[0mIteratorV2\u001b[0m\u001b[0;34m(\u001b[0m\u001b[0mself\u001b[0m\u001b[0;34m)\u001b[0m\u001b[0;34m\u001b[0m\u001b[0;34m\u001b[0m\u001b[0m\n\u001b[0m\u001b[1;32m    342\u001b[0m     \u001b[0;32melse\u001b[0m\u001b[0;34m:\u001b[0m\u001b[0;34m\u001b[0m\u001b[0;34m\u001b[0m\u001b[0m\n\u001b[1;32m    343\u001b[0m       raise RuntimeError(\"__iter__() is only supported inside of tf.function \"\n",
      "\u001b[0;32m/usr/local/lib/python3.6/dist-packages/tensorflow_core/python/data/ops/iterator_ops.py\u001b[0m in \u001b[0;36m__init__\u001b[0;34m(self, dataset, components, element_spec)\u001b[0m\n\u001b[1;32m    591\u001b[0m           context.context().device_spec.device_type != \"CPU\"):\n\u001b[1;32m    592\u001b[0m         \u001b[0;32mwith\u001b[0m \u001b[0mops\u001b[0m\u001b[0;34m.\u001b[0m\u001b[0mdevice\u001b[0m\u001b[0;34m(\u001b[0m\u001b[0;34m\"/cpu:0\"\u001b[0m\u001b[0;34m)\u001b[0m\u001b[0;34m:\u001b[0m\u001b[0;34m\u001b[0m\u001b[0;34m\u001b[0m\u001b[0m\n\u001b[0;32m--> 593\u001b[0;31m           \u001b[0mself\u001b[0m\u001b[0;34m.\u001b[0m\u001b[0m_create_iterator\u001b[0m\u001b[0;34m(\u001b[0m\u001b[0mdataset\u001b[0m\u001b[0;34m)\u001b[0m\u001b[0;34m\u001b[0m\u001b[0;34m\u001b[0m\u001b[0m\n\u001b[0m\u001b[1;32m    594\u001b[0m       \u001b[0;32melse\u001b[0m\u001b[0;34m:\u001b[0m\u001b[0;34m\u001b[0m\u001b[0;34m\u001b[0m\u001b[0m\n\u001b[1;32m    595\u001b[0m         \u001b[0mself\u001b[0m\u001b[0;34m.\u001b[0m\u001b[0m_create_iterator\u001b[0m\u001b[0;34m(\u001b[0m\u001b[0mdataset\u001b[0m\u001b[0;34m)\u001b[0m\u001b[0;34m\u001b[0m\u001b[0;34m\u001b[0m\u001b[0m\n",
      "\u001b[0;32m/usr/local/lib/python3.6/dist-packages/tensorflow_core/python/data/ops/iterator_ops.py\u001b[0m in \u001b[0;36m_create_iterator\u001b[0;34m(self, dataset)\u001b[0m\n\u001b[1;32m    597\u001b[0m   \u001b[0;32mdef\u001b[0m \u001b[0m_create_iterator\u001b[0m\u001b[0;34m(\u001b[0m\u001b[0mself\u001b[0m\u001b[0;34m,\u001b[0m \u001b[0mdataset\u001b[0m\u001b[0;34m)\u001b[0m\u001b[0;34m:\u001b[0m\u001b[0;34m\u001b[0m\u001b[0;34m\u001b[0m\u001b[0m\n\u001b[1;32m    598\u001b[0m     \u001b[0;31m# pylint: disable=protected-access\u001b[0m\u001b[0;34m\u001b[0m\u001b[0;34m\u001b[0m\u001b[0;34m\u001b[0m\u001b[0m\n\u001b[0;32m--> 599\u001b[0;31m     \u001b[0mdataset\u001b[0m \u001b[0;34m=\u001b[0m \u001b[0mdataset\u001b[0m\u001b[0;34m.\u001b[0m\u001b[0m_apply_options\u001b[0m\u001b[0;34m(\u001b[0m\u001b[0;34m)\u001b[0m\u001b[0;34m\u001b[0m\u001b[0;34m\u001b[0m\u001b[0m\n\u001b[0m\u001b[1;32m    600\u001b[0m     \u001b[0mds_variant\u001b[0m \u001b[0;34m=\u001b[0m \u001b[0mdataset\u001b[0m\u001b[0;34m.\u001b[0m\u001b[0m_variant_tensor\u001b[0m\u001b[0;34m\u001b[0m\u001b[0;34m\u001b[0m\u001b[0m\n\u001b[1;32m    601\u001b[0m     \u001b[0mself\u001b[0m\u001b[0;34m.\u001b[0m\u001b[0m_element_spec\u001b[0m \u001b[0;34m=\u001b[0m \u001b[0mdataset\u001b[0m\u001b[0;34m.\u001b[0m\u001b[0melement_spec\u001b[0m\u001b[0;34m\u001b[0m\u001b[0;34m\u001b[0m\u001b[0m\n",
      "\u001b[0;32m/usr/local/lib/python3.6/dist-packages/tensorflow_core/python/data/ops/dataset_ops.py\u001b[0m in \u001b[0;36m_apply_options\u001b[0;34m(self)\u001b[0m\n\u001b[1;32m    302\u001b[0m       \u001b[0;32melse\u001b[0m\u001b[0;34m:\u001b[0m\u001b[0;34m\u001b[0m\u001b[0;34m\u001b[0m\u001b[0m\n\u001b[1;32m    303\u001b[0m         dataset = _OptimizeDataset(dataset, static_optimizations,\n\u001b[0;32m--> 304\u001b[0;31m                                    static_optimization_configs)\n\u001b[0m\u001b[1;32m    305\u001b[0m \u001b[0;34m\u001b[0m\u001b[0m\n\u001b[1;32m    306\u001b[0m     \u001b[0mautotune\u001b[0m \u001b[0;34m=\u001b[0m \u001b[0;32mTrue\u001b[0m\u001b[0;34m\u001b[0m\u001b[0;34m\u001b[0m\u001b[0m\n",
      "\u001b[0;32m/usr/local/lib/python3.6/dist-packages/tensorflow_core/python/data/ops/dataset_ops.py\u001b[0m in \u001b[0;36m__init__\u001b[0;34m(self, input_dataset, optimizations, optimization_configs)\u001b[0m\n\u001b[1;32m   3757\u001b[0m         \u001b[0mself\u001b[0m\u001b[0;34m.\u001b[0m\u001b[0m_optimizations\u001b[0m\u001b[0;34m,\u001b[0m\u001b[0;34m\u001b[0m\u001b[0;34m\u001b[0m\u001b[0m\n\u001b[1;32m   3758\u001b[0m         \u001b[0moptimization_configs\u001b[0m\u001b[0;34m=\u001b[0m\u001b[0moptimization_configs\u001b[0m\u001b[0;34m,\u001b[0m\u001b[0;34m\u001b[0m\u001b[0;34m\u001b[0m\u001b[0m\n\u001b[0;32m-> 3759\u001b[0;31m         **self._flat_structure)\n\u001b[0m\u001b[1;32m   3760\u001b[0m     \u001b[0msuper\u001b[0m\u001b[0;34m(\u001b[0m\u001b[0m_OptimizeDataset\u001b[0m\u001b[0;34m,\u001b[0m \u001b[0mself\u001b[0m\u001b[0;34m)\u001b[0m\u001b[0;34m.\u001b[0m\u001b[0m__init__\u001b[0m\u001b[0;34m(\u001b[0m\u001b[0minput_dataset\u001b[0m\u001b[0;34m,\u001b[0m \u001b[0mvariant_tensor\u001b[0m\u001b[0;34m)\u001b[0m\u001b[0;34m\u001b[0m\u001b[0;34m\u001b[0m\u001b[0m\n\u001b[1;32m   3761\u001b[0m \u001b[0;34m\u001b[0m\u001b[0m\n",
      "\u001b[0;32m/usr/local/lib/python3.6/dist-packages/tensorflow_core/python/ops/gen_dataset_ops.py\u001b[0m in \u001b[0;36moptimize_dataset\u001b[0;34m(input_dataset, optimizations, output_types, output_shapes, optimization_configs, name)\u001b[0m\n\u001b[1;32m   3961\u001b[0m         \u001b[0minput_dataset\u001b[0m\u001b[0;34m,\u001b[0m \u001b[0moptimizations\u001b[0m\u001b[0;34m,\u001b[0m \u001b[0;34m\"output_types\"\u001b[0m\u001b[0;34m,\u001b[0m \u001b[0moutput_types\u001b[0m\u001b[0;34m,\u001b[0m\u001b[0;34m\u001b[0m\u001b[0;34m\u001b[0m\u001b[0m\n\u001b[1;32m   3962\u001b[0m         \u001b[0;34m\"output_shapes\"\u001b[0m\u001b[0;34m,\u001b[0m \u001b[0moutput_shapes\u001b[0m\u001b[0;34m,\u001b[0m \u001b[0;34m\"optimization_configs\"\u001b[0m\u001b[0;34m,\u001b[0m\u001b[0;34m\u001b[0m\u001b[0;34m\u001b[0m\u001b[0m\n\u001b[0;32m-> 3963\u001b[0;31m         optimization_configs)\n\u001b[0m\u001b[1;32m   3964\u001b[0m       \u001b[0;32mreturn\u001b[0m \u001b[0m_result\u001b[0m\u001b[0;34m\u001b[0m\u001b[0;34m\u001b[0m\u001b[0m\n\u001b[1;32m   3965\u001b[0m     \u001b[0;32mexcept\u001b[0m \u001b[0m_core\u001b[0m\u001b[0;34m.\u001b[0m\u001b[0m_FallbackException\u001b[0m\u001b[0;34m:\u001b[0m\u001b[0;34m\u001b[0m\u001b[0;34m\u001b[0m\u001b[0m\n",
      "\u001b[0;31mKeyboardInterrupt\u001b[0m: "
     ]
    }
   ],
   "source": [
    "EPOCHS = 85#250\n",
    "\n",
    "result_2 = model_2.fit(\n",
    "    x_stacked,\n",
    "    labels,\n",
    "    batch_size=128,\n",
    "    epochs=EPOCHS, \n",
    "    verbose=1)"
   ]
  },
  {
   "cell_type": "code",
   "execution_count": 20,
   "metadata": {},
   "outputs": [],
   "source": [
    "model_2.save_weights(\"model_2.h5\")"
   ]
  },
  {
   "cell_type": "code",
   "execution_count": 31,
   "metadata": {},
   "outputs": [
    {
     "name": "stdout",
     "output_type": "stream",
     "text": [
      "Episode: 1 \tReward: -18.0\n",
      "Episode: 2 \tReward: -18.0\n",
      "Episode: 3 \tReward: -19.0\n",
      "Episode: 4 \tReward: -16.0\n",
      "Episode: 5 \tReward: -16.0\n"
     ]
    }
   ],
   "source": [
    "for episode in range(5):\n",
    "    done = False\n",
    "    episode_reward = 0.0\n",
    "    state = env.reset()\n",
    "    state = resize(state)\n",
    "    state = grayscale(state)\n",
    "    state = np.reshape(state, (84, 84, 1))\n",
    "    frames = deque(maxlen=4)\n",
    "    # initialize deque for framestack\n",
    "    for _ in range(4):\n",
    "        frames.append(state)\n",
    "    framestack = np.asarray(frames, dtype=np.float32)\n",
    "    framestack = np.moveaxis(framestack, 0, -1).reshape(1, 84, 84, 4)#reshape(84, 84, -1)\n",
    "\n",
    "    # playing a episode\n",
    "    while not done:\n",
    "        action = np.argmax(model_2.predict(framestack))\n",
    "        state, reward, done, info = env.step(action)\n",
    "        episode_reward += reward\n",
    "        state = resize(state)\n",
    "        state = grayscale(state)\n",
    "        state = np.reshape(state, (84, 84, 1))\n",
    "        frames.append(state)\n",
    "        framestack = np.asarray(frames, dtype=np.float32)\n",
    "        framestack = np.moveaxis(framestack, 0, -1).reshape(1, 84, 84, 4)\n",
    "        \n",
    "    print(\"Episode:\", episode+1, \"\\tReward:\", episode_reward)"
   ]
  }
 ],
 "metadata": {
  "colab": {
   "collapsed_sections": [],
   "name": "Playing_Atari_with_Deep-Learning_random_dataset.ipynb",
   "provenance": [],
   "toc_visible": true
  },
  "kernelspec": {
   "display_name": "Python 3",
   "language": "python",
   "name": "python3"
  },
  "language_info": {
   "codemirror_mode": {
    "name": "ipython",
    "version": 3
   },
   "file_extension": ".py",
   "mimetype": "text/x-python",
   "name": "python",
   "nbconvert_exporter": "python",
   "pygments_lexer": "ipython3",
   "version": "3.6.8"
  }
 },
 "nbformat": 4,
 "nbformat_minor": 1
}
