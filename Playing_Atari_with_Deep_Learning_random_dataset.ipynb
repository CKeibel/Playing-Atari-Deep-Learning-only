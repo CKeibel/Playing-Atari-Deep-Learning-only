{
 "cells": [
  {
   "cell_type": "markdown",
   "metadata": {
    "id": "RMn53p6YR-pf"
   },
   "source": [
    "# playing Atari with Deep Learning"
   ]
  },
  {
   "cell_type": "code",
   "execution_count": 1,
   "metadata": {
    "id": "lgxvXMASR-py"
   },
   "outputs": [],
   "source": [
    "# choose game\n",
    "game = \"Pong-v0\""
   ]
  },
  {
   "cell_type": "markdown",
   "metadata": {
    "id": "oA37Mc9dTo99"
   },
   "source": [
    "# generate Dataset by random play\n",
    "\n",
    "* saving only good sequences"
   ]
  },
  {
   "cell_type": "code",
   "execution_count": 2,
   "metadata": {
    "colab": {
     "base_uri": "https://localhost:8080/"
    },
    "id": "QRFkZvcjR-p0",
    "outputId": "3b2f9605-3a06-4a77-8ac3-4dba2f7e6a67",
    "scrolled": true
   },
   "outputs": [
    {
     "name": "stdout",
     "output_type": "stream",
     "text": [
      "100\n",
      "200\n",
      "300\n",
      "400\n",
      "500\n",
      "600\n",
      "700\n",
      "800\n",
      "900\n",
      "1000\n",
      "1100\n",
      "1200\n",
      "1300\n",
      "1400\n",
      "1500\n",
      "Dataset completed\n"
     ]
    }
   ],
   "source": [
    "import numpy as np\n",
    "import gym\n",
    "\n",
    "env = gym.make(game)\n",
    "x_data = [] # Bilder (States)\n",
    "y_data = [] # Label (Aktionen)\n",
    "\n",
    "DATASET_SIZE = 1500\n",
    "saved_episodes = 0\n",
    "\n",
    "# Datensatz generieren\n",
    "the_end = False\n",
    "while not the_end:\n",
    "    done = False\n",
    "    state = env.reset()\n",
    "    episode_obs = []\n",
    "    episode_acts = []\n",
    "  \n",
    "    while not done:\n",
    "        action = env.action_space.sample()\n",
    "        episode_obs.append(state)\n",
    "        episode_acts.append(action)\n",
    "        state, reward, done, info = env.step(action)\n",
    "    \n",
    "        if reward < 0:\n",
    "            episode_acts = []\n",
    "            episode_obs = []\n",
    "        elif reward > 0:\n",
    "            x_data += episode_obs\n",
    "            y_data += episode_acts\n",
    "            episode_obs = []\n",
    "            episode_acts = []\n",
    "            saved_episodes += 1\n",
    "            if saved_episodes % 100 == 0:\n",
    "                print(saved_episodes)\n",
    "            if saved_episodes+1 > DATASET_SIZE:\n",
    "                print(\"Dataset completed\")\n",
    "                the_end = True"
   ]
  },
  {
   "cell_type": "markdown",
   "metadata": {
    "id": "9TTqB01eYUB6"
   },
   "source": [
    "# Preprocessing"
   ]
  },
  {
   "cell_type": "code",
   "execution_count": 3,
   "metadata": {
    "colab": {
     "base_uri": "https://localhost:8080/"
    },
    "id": "PdMRdMwMZYSv",
    "outputId": "cb66f955-2b59-4176-b438-69e349958bb5"
   },
   "outputs": [
    {
     "data": {
      "text/plain": [
       "((116229, 210, 160, 3), (116229,))"
      ]
     },
     "execution_count": 3,
     "metadata": {},
     "output_type": "execute_result"
    }
   ],
   "source": [
    "x_data = np.array(x_data)\n",
    "y_data = np.array(y_data)\n",
    "x_data.shape, y_data.shape"
   ]
  },
  {
   "cell_type": "code",
   "execution_count": 4,
   "metadata": {
    "colab": {
     "base_uri": "https://localhost:8080/"
    },
    "id": "ww_OsqftZqAO",
    "outputId": "42b59ef2-fbe5-4119-8e95-e1c17d461ba7"
   },
   "outputs": [
    {
     "data": {
      "text/plain": [
       "(210, 160, 3)"
      ]
     },
     "execution_count": 4,
     "metadata": {},
     "output_type": "execute_result"
    }
   ],
   "source": [
    "x_data[0].shape"
   ]
  },
  {
   "cell_type": "markdown",
   "metadata": {
    "id": "Z9PFtrNLY5Sd"
   },
   "source": [
    "### resize images to 84x84 pixels"
   ]
  },
  {
   "cell_type": "code",
   "execution_count": 5,
   "metadata": {
    "id": "uyIJN1MVbaEc"
   },
   "outputs": [],
   "source": [
    "import cv2\n",
    "def resize(img):\n",
    "    height = 84\n",
    "    width = 84\n",
    "    return cv2.resize(img, (width, height), interpolation=cv2.INTER_AREA)"
   ]
  },
  {
   "cell_type": "code",
   "execution_count": 6,
   "metadata": {
    "id": "roOO6duzbySo"
   },
   "outputs": [],
   "source": [
    "resized_x_data = [resize(img) for img in x_data]\n",
    "resized_x_data = np.array(resized_x_data)"
   ]
  },
  {
   "cell_type": "code",
   "execution_count": 7,
   "metadata": {
    "colab": {
     "base_uri": "https://localhost:8080/",
     "height": 284
    },
    "id": "UTbEwSSdaHDU",
    "outputId": "0498bd1e-a192-4233-bd95-26ce27a73773"
   },
   "outputs": [
    {
     "data": {
      "text/plain": [
       "Text(0.5, 1.0, 'Resized')"
      ]
     },
     "execution_count": 7,
     "metadata": {},
     "output_type": "execute_result"
    }
   ],
   "source": [
    "import matplotlib.pyplot as plt\n",
    "fig, axs = plt.subplots(1,2)\n",
    "\n",
    "axs[0].imshow(x_data[0, :, :, :])\n",
    "axs[0].set_title(\"Original\", fontsize=\"15\")\n",
    "axs[1].imshow(resized_x_data[0, :, :, :])\n",
    "axs[1].set_title(\"Resized\", fontsize=\"15\")"
   ]
  },
  {
   "cell_type": "markdown",
   "metadata": {
    "id": "UCrcMOZpeEru"
   },
   "source": [
    "### RGB to Grayscale"
   ]
  },
  {
   "cell_type": "code",
   "execution_count": 8,
   "metadata": {
    "id": "jAwmi_HaeJdg"
   },
   "outputs": [],
   "source": [
    "def grayscale(img):\n",
    "    img = cv2.cvtColor(img, cv2.COLOR_BGR2GRAY)\n",
    "    img = np.reshape(img, (img.shape[0], img.shape[1], 1))\n",
    "    return img"
   ]
  },
  {
   "cell_type": "code",
   "execution_count": 9,
   "metadata": {
    "id": "Bf7I6ZIdf8t7"
   },
   "outputs": [],
   "source": [
    "gray_x_data = [grayscale(img) for img in resized_x_data]\n",
    "gray_x_data = np.array(gray_x_data)"
   ]
  },
  {
   "cell_type": "code",
   "execution_count": 10,
   "metadata": {
    "colab": {
     "base_uri": "https://localhost:8080/",
     "height": 236
    },
    "id": "k6Di_4PAg-Ol",
    "outputId": "6c4f6002-173a-4bab-fa3b-88440b72df9c"
   },
   "outputs": [
    {
     "data": {
      "text/plain": [
       "Text(0.5, 1.0, 'Grayscale')"
      ]
     },
     "execution_count": 10,
     "metadata": {},
     "output_type": "execute_result"
    },
    {
     "data": {
      "image/png": "[encoded data removed]",
      "text/plain": [
       "<Figure size 432x288 with 2 Axes>"
      ]
     },
     "metadata": {
      "needs_background": "light"
     },
     "output_type": "display_data"
    }
   ],
   "source": [
    "fig, axs = plt.subplots(1, 2)\n",
    "axs[0].imshow(resized_x_data[0, :, :, :])\n",
    "axs[0].set_title(\"Resized\", fontsize=\"15\")\n",
    "axs[1].imshow(gray_x_data[0, :, :, 0], cmap=\"gray\")\n",
    "axs[1].set_title(\"Grayscale\", fontsize=\"15\")"
   ]
  },
  {
   "cell_type": "markdown",
   "metadata": {
    "id": "yxC3qk02i7Fp"
   },
   "source": [
    "### Frame Stack"
   ]
  },
  {
   "cell_type": "code",
   "execution_count": 11,
   "metadata": {
    "id": "gj_qhnX1jDXm"
   },
   "outputs": [],
   "source": [
    "from collections import deque\n",
    "def framestack(dataset):\n",
    "    data = []\n",
    "    frames = deque(maxlen=4)\n",
    "\n",
    "    # initialize first deque\n",
    "    for _ in range(4):\n",
    "        frames.append(dataset[0])\n",
    "    framestack = np.asarray(frames, dtype=np.float32)\n",
    "    framestack = np.moveaxis(framestack, 0, -1).reshape(84, 84, -1)\n",
    "\n",
    "    # create deques from dataset\n",
    "    for state in dataset:\n",
    "        frames.append(state)\n",
    "        framestack = np.asarray(frames, dtype=np.float32)\n",
    "        framestack = np.moveaxis(framestack, 0, -1).reshape(84, 84, -1)\n",
    "        data.append(framestack)\n",
    "\n",
    "    return data"
   ]
  },
  {
   "cell_type": "code",
   "execution_count": 12,
   "metadata": {
    "colab": {
     "base_uri": "https://localhost:8080/"
    },
    "id": "fJKjcCDMpUTL",
    "outputId": "5c933575-4d49-4f95-aa2f-c945a8520cc4"
   },
   "outputs": [],
   "source": [
    "stack_data = framestack(gray_x_data) \n",
    "stack_data = np.array(stack_data)"
   ]
  },
  {
   "cell_type": "code",
   "execution_count": 13,
   "metadata": {
    "colab": {
     "base_uri": "https://localhost:8080/",
     "height": 190
    },
    "id": "kNCHiv0jrXso",
    "outputId": "ff5164c2-af6f-4917-ea0f-0140b3dcd4f8"
   },
   "outputs": [
    {
     "data": {
      "text/plain": [
       "<matplotlib.image.AxesImage at 0x7efd33273470>"
      ]
     },
     "execution_count": 13,
     "metadata": {},
     "output_type": "execute_result"
    },
    {
     "data": {
      "image/png": "[encoded data removed]",
      "text/plain": [
       "<Figure size 720x360 with 4 Axes>"
      ]
     },
     "metadata": {
      "needs_background": "light"
     },
     "output_type": "display_data"
    }
   ],
   "source": [
    "fig, axs = plt.subplots(1, 4, figsize=(10,5))\n",
    "axs[0].imshow(stack_data[0+4, :, :, 0], cmap=\"gray\") # +4, because of 4 same initial frames\n",
    "axs[1].imshow(stack_data[1+4, :, :, 1], cmap=\"gray\")\n",
    "axs[2].imshow(stack_data[2+4, :, :, 2], cmap=\"gray\")\n",
    "axs[3].imshow(stack_data[3+4, :, :, 3], cmap=\"gray\")"
   ]
  },
  {
   "cell_type": "markdown",
   "metadata": {
    "id": "1czVT38wzbHJ"
   },
   "source": [
    "### converting labels to categorical labels"
   ]
  },
  {
   "cell_type": "code",
   "execution_count": 14,
   "metadata": {
    "id": "7L2wBkTtzaZ_"
   },
   "outputs": [],
   "source": [
    "from tensorflow.keras.utils import to_categorical\n",
    "y = to_categorical(y=y_data, num_classes=env.action_space.n)"
   ]
  },
  {
   "cell_type": "markdown",
   "metadata": {
    "id": "-H1fJpNxwSPy"
   },
   "source": [
    "### shuffle data"
   ]
  },
  {
   "cell_type": "code",
   "execution_count": 15,
   "metadata": {
    "id": "rBI7d68iwRBn"
   },
   "outputs": [],
   "source": [
    "# create random indices\n",
    "idx = np.random.permutation(len(x_data))\n",
    "# x - resized grayscale input\n",
    "# x_stacked - resized grayscale input in framestacks\n",
    "# labels - actions in to_categorical\n",
    "x, x_stacked, labels = gray_x_data[idx], stack_data[idx], y[idx]"
   ]
  },
  {
   "cell_type": "markdown",
   "metadata": {
    "id": "IoWl4NPBR-p7"
   },
   "source": [
    "# create a model\n"
   ]
  },
  {
   "cell_type": "code",
   "execution_count": 44,
   "metadata": {
    "id": "YQYdMrat39p5"
   },
   "outputs": [],
   "source": [
    "import tensorflow\n",
    "from tensorflow.keras.layers import Activation\n",
    "from tensorflow.keras.layers import Conv2D\n",
    "from tensorflow.keras.layers import Dense\n",
    "from tensorflow.keras.layers import Flatten\n",
    "from tensorflow.keras.layers import Input\n",
    "from tensorflow.keras.models import Model\n",
    "from tensorflow.keras.losses import Huber\n",
    "from tensorflow.keras.optimizers import Adam\n",
    "\n",
    "def create_nn(input_shape, output_shape):\n",
    "    net_input = Input(shape=input_shape)\n",
    "    x = Conv2D(filters=32, kernel_size=(8, 8), strides=(4, 4), padding=\"same\")(net_input)\n",
    "    x = Activation(\"relu\")(x)\n",
    "    x = Conv2D(filters=64, kernel_size=(4, 4), strides=(2, 2), padding=\"same\")(x)\n",
    "    x = Activation(\"relu\")(x)\n",
    "    x = Conv2D(filters=64, kernel_size=(3, 3), strides=(1, 1), padding=\"same\")(x)\n",
    "    x = Activation(\"relu\")(x)\n",
    "    x = Flatten()(x)\n",
    "    x = Dense(512)(x)\n",
    "    x = Activation(\"relu\")(x)\n",
    "    x = Dense(output_shape)(x)\n",
    "    net_output = Activation(\"softmax\")(x)\n",
    "\n",
    "    OPTIMIZER = Adam(lr=0.00005)\n",
    "\n",
    "    model = Model(inputs=net_input, outputs=net_output)\n",
    "    model.compile(loss=\"categorical_crossentropy\", optimizer=OPTIMIZER, metrics=[\"categorical_accuracy\"])\n",
    "\n",
    "    return model"
   ]
  },
  {
   "cell_type": "markdown",
   "metadata": {
    "id": "6MwFT04i4tQg"
   },
   "source": [
    "# Train a model on resized-grayscale input\n",
    "\n"
   ]
  },
  {
   "cell_type": "code",
   "execution_count": 17,
   "metadata": {
    "colab": {
     "base_uri": "https://localhost:8080/"
    },
    "id": "-Q4GjusRR-p8",
    "outputId": "808691c7-f8f1-442a-e5ca-77cdbcf39cd3"
   },
   "outputs": [
    {
     "data": {
      "text/plain": [
       "(84, 84, 1)"
      ]
     },
     "execution_count": 17,
     "metadata": {},
     "output_type": "execute_result"
    }
   ],
   "source": [
    "x.shape[1:]"
   ]
  },
  {
   "cell_type": "code",
   "execution_count": 18,
   "metadata": {
    "colab": {
     "base_uri": "https://localhost:8080/"
    },
    "id": "kIfmFHv_5Q-1",
    "outputId": "ba7e6db4-d19b-4280-e6e6-87490e0017a4"
   },
   "outputs": [
    {
     "data": {
      "text/plain": [
       "6"
      ]
     },
     "execution_count": 18,
     "metadata": {},
     "output_type": "execute_result"
    }
   ],
   "source": [
    "labels.shape[1]"
   ]
  },
  {
   "cell_type": "code",
   "execution_count": 48,
   "metadata": {
    "id": "3MUt_E1K4_zt"
   },
   "outputs": [],
   "source": [
    "model_1 = create_nn(x.shape[1:], labels.shape[1])"
   ]
  },
  {
   "cell_type": "code",
   "execution_count": 49,
   "metadata": {
    "colab": {
     "base_uri": "https://localhost:8080/",
     "height": 772
    },
    "id": "n6d2qk_IR-p9",
    "outputId": "7a07eaf1-1cf2-459b-8cfb-2683c07af2e7"
   },
   "outputs": [
    {
     "name": "stdout",
     "output_type": "stream",
     "text": [
      "Epoch 1/250\n",
      "116229/116229 [==============================] - 9s 80us/sample - loss: 1.9791 - categorical_accuracy: 0.1726\n",
      "Epoch 2/250\n",
      "116229/116229 [==============================] - 8s 71us/sample - loss: 1.8264 - categorical_accuracy: 0.1699\n",
      "Epoch 3/250\n",
      "116229/116229 [==============================] - 9s 76us/sample - loss: 1.8061 - categorical_accuracy: 0.1747\n",
      "Epoch 4/250\n",
      "116229/116229 [==============================] - 8s 71us/sample - loss: 1.7996 - categorical_accuracy: 0.1743\n",
      "Epoch 5/250\n",
      "116229/116229 [==============================] - 8s 72us/sample - loss: 1.7947 - categorical_accuracy: 0.1783\n",
      "Epoch 6/250\n",
      "116229/116229 [==============================] - 9s 74us/sample - loss: 1.7917 - categorical_accuracy: 0.1812\n",
      "Epoch 7/250\n",
      "116229/116229 [==============================] - 8s 71us/sample - loss: 1.7906 - categorical_accuracy: 0.1810\n",
      "Epoch 8/250\n",
      "116229/116229 [==============================] - 8s 73us/sample - loss: 1.7893 - categorical_accuracy: 0.1819\n",
      "Epoch 9/250\n",
      "116229/116229 [==============================] - 9s 74us/sample - loss: 1.7883 - categorical_accuracy: 0.1846\n",
      "Epoch 10/250\n",
      "116229/116229 [==============================] - 8s 71us/sample - loss: 1.7872 - categorical_accuracy: 0.1860\n",
      "Epoch 11/250\n",
      "116229/116229 [==============================] - 8s 71us/sample - loss: 1.7865 - categorical_accuracy: 0.1889\n",
      "Epoch 12/250\n",
      "116229/116229 [==============================] - 9s 75us/sample - loss: 1.7856 - categorical_accuracy: 0.1903\n",
      "Epoch 13/250\n",
      "116229/116229 [==============================] - 8s 71us/sample - loss: 1.7845 - categorical_accuracy: 0.1918\n",
      "Epoch 14/250\n",
      "116229/116229 [==============================] - 8s 72us/sample - loss: 1.7825 - categorical_accuracy: 0.1968\n",
      "Epoch 15/250\n",
      "116229/116229 [==============================] - 9s 74us/sample - loss: 1.7805 - categorical_accuracy: 0.2001\n",
      "Epoch 16/250\n",
      "116229/116229 [==============================] - 8s 70us/sample - loss: 1.7780 - categorical_accuracy: 0.2043\n",
      "Epoch 17/250\n",
      "116229/116229 [==============================] - 8s 71us/sample - loss: 1.7746 - categorical_accuracy: 0.2084\n",
      "Epoch 18/250\n",
      "116229/116229 [==============================] - 9s 74us/sample - loss: 1.7710 - categorical_accuracy: 0.2131\n",
      "Epoch 19/250\n",
      "116229/116229 [==============================] - 8s 71us/sample - loss: 1.7664 - categorical_accuracy: 0.2192\n",
      "Epoch 20/250\n",
      "116229/116229 [==============================] - 8s 70us/sample - loss: 1.7605 - categorical_accuracy: 0.2259\n",
      "Epoch 21/250\n",
      "116229/116229 [==============================] - 9s 77us/sample - loss: 1.7538 - categorical_accuracy: 0.2341\n",
      "Epoch 22/250\n",
      "116229/116229 [==============================] - 8s 70us/sample - loss: 1.7461 - categorical_accuracy: 0.2416\n",
      "Epoch 23/250\n",
      "116229/116229 [==============================] - 8s 70us/sample - loss: 1.7366 - categorical_accuracy: 0.2517\n",
      "Epoch 24/250\n",
      "116229/116229 [==============================] - 9s 78us/sample - loss: 1.7262 - categorical_accuracy: 0.2611\n",
      "Epoch 25/250\n",
      "116229/116229 [==============================] - 8s 71us/sample - loss: 1.7145 - categorical_accuracy: 0.2702\n",
      "Epoch 26/250\n",
      "116229/116229 [==============================] - 8s 70us/sample - loss: 1.7010 - categorical_accuracy: 0.2815\n",
      "Epoch 27/250\n",
      "116229/116229 [==============================] - 9s 78us/sample - loss: 1.6865 - categorical_accuracy: 0.2905\n",
      "Epoch 28/250\n",
      "116229/116229 [==============================] - 8s 71us/sample - loss: 1.6703 - categorical_accuracy: 0.3033\n",
      "Epoch 29/250\n",
      "116229/116229 [==============================] - 8s 70us/sample - loss: 1.6530 - categorical_accuracy: 0.3155\n",
      "Epoch 30/250\n",
      "116229/116229 [==============================] - 9s 77us/sample - loss: 1.6346 - categorical_accuracy: 0.3252\n",
      "Epoch 31/250\n",
      "116229/116229 [==============================] - 8s 71us/sample - loss: 1.6144 - categorical_accuracy: 0.3373\n",
      "Epoch 32/250\n",
      "116229/116229 [==============================] - 8s 70us/sample - loss: 1.5942 - categorical_accuracy: 0.3505\n",
      "Epoch 33/250\n",
      "116229/116229 [==============================] - 9s 74us/sample - loss: 1.5723 - categorical_accuracy: 0.3649\n",
      "Epoch 34/250\n",
      "116229/116229 [==============================] - 9s 74us/sample - loss: 1.5493 - categorical_accuracy: 0.3757\n",
      "Epoch 35/250\n",
      "116229/116229 [==============================] - 8s 70us/sample - loss: 1.5263 - categorical_accuracy: 0.3880\n",
      "Epoch 36/250\n",
      "116229/116229 [==============================] - 9s 76us/sample - loss: 1.5016 - categorical_accuracy: 0.4014\n",
      "Epoch 37/250\n",
      "116229/116229 [==============================] - 8s 71us/sample - loss: 1.4777 - categorical_accuracy: 0.4119\n",
      "Epoch 38/250\n",
      "116229/116229 [==============================] - 8s 71us/sample - loss: 1.4526 - categorical_accuracy: 0.4244\n",
      "Epoch 39/250\n",
      "116229/116229 [==============================] - 9s 77us/sample - loss: 1.4279 - categorical_accuracy: 0.4373\n",
      "Epoch 40/250\n",
      "116229/116229 [==============================] - 8s 72us/sample - loss: 1.4027 - categorical_accuracy: 0.4495\n",
      "Epoch 41/250\n",
      "116229/116229 [==============================] - 8s 71us/sample - loss: 1.3780 - categorical_accuracy: 0.4609\n",
      "Epoch 42/250\n",
      "116229/116229 [==============================] - 8s 73us/sample - loss: 1.3518 - categorical_accuracy: 0.4736\n",
      "Epoch 43/250\n",
      "116229/116229 [==============================] - 9s 75us/sample - loss: 1.3267 - categorical_accuracy: 0.4857\n",
      "Epoch 44/250\n",
      "116229/116229 [==============================] - 8s 70us/sample - loss: 1.3033 - categorical_accuracy: 0.4959\n",
      "Epoch 45/250\n",
      "116229/116229 [==============================] - 9s 73us/sample - loss: 1.2777 - categorical_accuracy: 0.5063\n",
      "Epoch 46/250\n",
      "116229/116229 [==============================] - 9s 74us/sample - loss: 1.2547 - categorical_accuracy: 0.5177\n",
      "Epoch 47/250\n",
      "116229/116229 [==============================] - 8s 71us/sample - loss: 1.2304 - categorical_accuracy: 0.5283\n",
      "Epoch 48/250\n",
      "116229/116229 [==============================] - 9s 73us/sample - loss: 1.2070 - categorical_accuracy: 0.5392\n",
      "Epoch 49/250\n",
      "116229/116229 [==============================] - 9s 74us/sample - loss: 1.1843 - categorical_accuracy: 0.5491\n",
      "Epoch 50/250\n",
      "116229/116229 [==============================] - 8s 70us/sample - loss: 1.1625 - categorical_accuracy: 0.5571\n",
      "Epoch 51/250\n",
      "116229/116229 [==============================] - 8s 71us/sample - loss: 1.1415 - categorical_accuracy: 0.5673\n",
      "Epoch 52/250\n",
      "116229/116229 [==============================] - 9s 76us/sample - loss: 1.1187 - categorical_accuracy: 0.5756\n",
      "Epoch 53/250\n",
      "116229/116229 [==============================] - 8s 71us/sample - loss: 1.0991 - categorical_accuracy: 0.5823\n",
      "Epoch 54/250\n",
      "116229/116229 [==============================] - 8s 73us/sample - loss: 1.0790 - categorical_accuracy: 0.5912\n",
      "Epoch 55/250\n",
      "116229/116229 [==============================] - 9s 74us/sample - loss: 1.0606 - categorical_accuracy: 0.5992\n",
      "Epoch 56/250\n",
      "116229/116229 [==============================] - 8s 70us/sample - loss: 1.0425 - categorical_accuracy: 0.6065\n",
      "Epoch 57/250\n",
      "116229/116229 [==============================] - 8s 72us/sample - loss: 1.0230 - categorical_accuracy: 0.6146\n",
      "Epoch 58/250\n",
      "116229/116229 [==============================] - 9s 74us/sample - loss: 1.0043 - categorical_accuracy: 0.6229\n",
      "Epoch 59/250\n",
      "116229/116229 [==============================] - 8s 71us/sample - loss: 0.9862 - categorical_accuracy: 0.6280\n",
      "Epoch 60/250\n",
      "116229/116229 [==============================] - 8s 72us/sample - loss: 0.9709 - categorical_accuracy: 0.6357\n",
      "Epoch 61/250\n",
      "116229/116229 [==============================] - 9s 74us/sample - loss: 0.9552 - categorical_accuracy: 0.6419\n",
      "Epoch 62/250\n",
      "116229/116229 [==============================] - 8s 70us/sample - loss: 0.9383 - categorical_accuracy: 0.6468\n",
      "Epoch 63/250\n",
      "116229/116229 [==============================] - 8s 71us/sample - loss: 0.9247 - categorical_accuracy: 0.6536\n",
      "Epoch 64/250\n",
      "116229/116229 [==============================] - 9s 76us/sample - loss: 0.9097 - categorical_accuracy: 0.6590\n",
      "Epoch 65/250\n",
      "116229/116229 [==============================] - 8s 71us/sample - loss: 0.8942 - categorical_accuracy: 0.6659\n",
      "Epoch 66/250\n",
      "116229/116229 [==============================] - 8s 73us/sample - loss: 0.8814 - categorical_accuracy: 0.6713\n",
      "Epoch 67/250\n"
     ]
    },
    {
     "name": "stdout",
     "output_type": "stream",
     "text": [
      "116229/116229 [==============================] - 9s 74us/sample - loss: 0.8695 - categorical_accuracy: 0.6758\n",
      "Epoch 68/250\n",
      "116229/116229 [==============================] - 8s 70us/sample - loss: 0.8551 - categorical_accuracy: 0.6806\n",
      "Epoch 69/250\n",
      "116229/116229 [==============================] - 8s 71us/sample - loss: 0.8437 - categorical_accuracy: 0.6850\n",
      "Epoch 70/250\n",
      "116229/116229 [==============================] - 9s 74us/sample - loss: 0.8335 - categorical_accuracy: 0.6880\n",
      "Epoch 71/250\n",
      "116229/116229 [==============================] - 8s 71us/sample - loss: 0.8176 - categorical_accuracy: 0.6950\n",
      "Epoch 72/250\n",
      "116229/116229 [==============================] - 8s 69us/sample - loss: 0.8079 - categorical_accuracy: 0.6973\n",
      "Epoch 73/250\n",
      "116229/116229 [==============================] - 9s 77us/sample - loss: 0.7979 - categorical_accuracy: 0.7024\n",
      "Epoch 74/250\n",
      "116229/116229 [==============================] - 8s 70us/sample - loss: 0.7848 - categorical_accuracy: 0.7067\n",
      "Epoch 75/250\n",
      "116229/116229 [==============================] - 8s 70us/sample - loss: 0.7760 - categorical_accuracy: 0.7098\n",
      "Epoch 76/250\n",
      "116229/116229 [==============================] - 9s 78us/sample - loss: 0.7654 - categorical_accuracy: 0.7138\n",
      "Epoch 77/250\n",
      "116229/116229 [==============================] - 8s 72us/sample - loss: 0.7575 - categorical_accuracy: 0.7172\n",
      "Epoch 78/250\n",
      "116229/116229 [==============================] - 8s 70us/sample - loss: 0.7463 - categorical_accuracy: 0.7211\n",
      "Epoch 79/250\n",
      "116229/116229 [==============================] - 9s 78us/sample - loss: 0.7373 - categorical_accuracy: 0.7260\n",
      "Epoch 80/250\n",
      "116229/116229 [==============================] - 8s 72us/sample - loss: 0.7298 - categorical_accuracy: 0.7272\n",
      "Epoch 81/250\n",
      "116229/116229 [==============================] - 8s 70us/sample - loss: 0.7206 - categorical_accuracy: 0.7298\n",
      "Epoch 82/250\n",
      "116229/116229 [==============================] - 9s 78us/sample - loss: 0.7116 - categorical_accuracy: 0.7336\n",
      "Epoch 83/250\n",
      "116229/116229 [==============================] - 8s 71us/sample - loss: 0.7049 - categorical_accuracy: 0.7360\n",
      "Epoch 84/250\n",
      "116229/116229 [==============================] - 8s 69us/sample - loss: 0.6967 - categorical_accuracy: 0.7388\n",
      "Epoch 85/250\n",
      "116229/116229 [==============================] - 9s 78us/sample - loss: 0.6896 - categorical_accuracy: 0.7406\n",
      "Epoch 86/250\n",
      "116229/116229 [==============================] - 8s 71us/sample - loss: 0.6803 - categorical_accuracy: 0.7462\n",
      "Epoch 87/250\n",
      "116229/116229 [==============================] - 8s 70us/sample - loss: 0.6745 - categorical_accuracy: 0.7476\n",
      "Epoch 88/250\n",
      "116229/116229 [==============================] - 9s 77us/sample - loss: 0.6676 - categorical_accuracy: 0.7488\n",
      "Epoch 89/250\n",
      "116229/116229 [==============================] - 8s 71us/sample - loss: 0.6614 - categorical_accuracy: 0.7523\n",
      "Epoch 90/250\n",
      "116229/116229 [==============================] - 8s 70us/sample - loss: 0.6546 - categorical_accuracy: 0.7550\n",
      "Epoch 91/250\n",
      "116229/116229 [==============================] - 9s 77us/sample - loss: 0.6503 - categorical_accuracy: 0.7563\n",
      "Epoch 92/250\n",
      "116229/116229 [==============================] - 8s 72us/sample - loss: 0.6434 - categorical_accuracy: 0.7580\n",
      "Epoch 93/250\n",
      "116229/116229 [==============================] - 8s 70us/sample - loss: 0.6352 - categorical_accuracy: 0.7615\n",
      "Epoch 94/250\n",
      "116229/116229 [==============================] - 9s 77us/sample - loss: 0.6301 - categorical_accuracy: 0.7637\n",
      "Epoch 95/250\n",
      "116229/116229 [==============================] - 8s 71us/sample - loss: 0.6233 - categorical_accuracy: 0.7661\n",
      "Epoch 96/250\n",
      "116229/116229 [==============================] - 8s 70us/sample - loss: 0.6179 - categorical_accuracy: 0.7680\n",
      "Epoch 97/250\n",
      "116229/116229 [==============================] - 9s 76us/sample - loss: 0.6136 - categorical_accuracy: 0.7698\n",
      "Epoch 98/250\n",
      "116229/116229 [==============================] - 8s 72us/sample - loss: 0.6052 - categorical_accuracy: 0.7725\n",
      "Epoch 99/250\n",
      "116229/116229 [==============================] - 8s 70us/sample - loss: 0.6040 - categorical_accuracy: 0.7737\n",
      "Epoch 100/250\n",
      "116229/116229 [==============================] - 9s 78us/sample - loss: 0.5957 - categorical_accuracy: 0.7767\n",
      "Epoch 101/250\n",
      "116229/116229 [==============================] - 8s 70us/sample - loss: 0.5935 - categorical_accuracy: 0.7774\n",
      "Epoch 102/250\n",
      "116229/116229 [==============================] - 8s 70us/sample - loss: 0.5879 - categorical_accuracy: 0.7801\n",
      "Epoch 103/250\n",
      "116229/116229 [==============================] - 9s 75us/sample - loss: 0.5830 - categorical_accuracy: 0.7809\n",
      "Epoch 104/250\n",
      "116229/116229 [==============================] - 9s 74us/sample - loss: 0.5762 - categorical_accuracy: 0.7837\n",
      "Epoch 105/250\n",
      "116229/116229 [==============================] - 8s 71us/sample - loss: 0.5728 - categorical_accuracy: 0.7847\n",
      "Epoch 106/250\n",
      "116229/116229 [==============================] - 9s 74us/sample - loss: 0.5671 - categorical_accuracy: 0.7878\n",
      "Epoch 107/250\n",
      "116229/116229 [==============================] - 9s 75us/sample - loss: 0.5681 - categorical_accuracy: 0.7864\n",
      "Epoch 108/250\n",
      "116229/116229 [==============================] - 8s 70us/sample - loss: 0.5588 - categorical_accuracy: 0.7907\n",
      "Epoch 109/250\n",
      "116229/116229 [==============================] - 9s 74us/sample - loss: 0.5559 - categorical_accuracy: 0.7916\n",
      "Epoch 110/250\n",
      "116229/116229 [==============================] - 9s 73us/sample - loss: 0.5543 - categorical_accuracy: 0.7921\n",
      "Epoch 111/250\n",
      "116229/116229 [==============================] - 8s 70us/sample - loss: 0.5477 - categorical_accuracy: 0.7941\n",
      "Epoch 112/250\n",
      "116229/116229 [==============================] - 9s 74us/sample - loss: 0.5437 - categorical_accuracy: 0.7965\n",
      "Epoch 113/250\n",
      "116229/116229 [==============================] - 9s 74us/sample - loss: 0.5410 - categorical_accuracy: 0.7965\n",
      "Epoch 114/250\n",
      "116229/116229 [==============================] - 8s 70us/sample - loss: 0.5388 - categorical_accuracy: 0.7978\n",
      "Epoch 115/250\n",
      "116229/116229 [==============================] - 8s 72us/sample - loss: 0.5353 - categorical_accuracy: 0.7986\n",
      "Epoch 116/250\n",
      "116229/116229 [==============================] - 9s 74us/sample - loss: 0.5319 - categorical_accuracy: 0.8001\n",
      "Epoch 117/250\n",
      "116229/116229 [==============================] - 8s 71us/sample - loss: 0.5254 - categorical_accuracy: 0.8012\n",
      "Epoch 118/250\n",
      "116229/116229 [==============================] - 8s 69us/sample - loss: 0.5225 - categorical_accuracy: 0.8043\n",
      "Epoch 119/250\n",
      "116229/116229 [==============================] - 9s 78us/sample - loss: 0.5226 - categorical_accuracy: 0.8041\n",
      "Epoch 120/250\n",
      "116229/116229 [==============================] - 8s 71us/sample - loss: 0.5174 - categorical_accuracy: 0.8056\n",
      "Epoch 121/250\n",
      "116229/116229 [==============================] - 8s 69us/sample - loss: 0.5138 - categorical_accuracy: 0.8072\n",
      "Epoch 122/250\n",
      "116229/116229 [==============================] - 9s 78us/sample - loss: 0.5105 - categorical_accuracy: 0.8087\n",
      "Epoch 123/250\n",
      "116229/116229 [==============================] - 8s 71us/sample - loss: 0.5081 - categorical_accuracy: 0.8088\n",
      "Epoch 124/250\n",
      "116229/116229 [==============================] - 8s 70us/sample - loss: 0.5035 - categorical_accuracy: 0.8104\n",
      "Epoch 125/250\n",
      "116229/116229 [==============================] - 9s 78us/sample - loss: 0.4997 - categorical_accuracy: 0.8126\n",
      "Epoch 126/250\n",
      "116229/116229 [==============================] - 8s 71us/sample - loss: 0.4995 - categorical_accuracy: 0.8112\n",
      "Epoch 127/250\n",
      "116229/116229 [==============================] - 8s 70us/sample - loss: 0.4948 - categorical_accuracy: 0.8133\n",
      "Epoch 128/250\n",
      "116229/116229 [==============================] - 9s 78us/sample - loss: 0.4908 - categorical_accuracy: 0.8160\n",
      "Epoch 129/250\n",
      "116229/116229 [==============================] - 8s 72us/sample - loss: 0.4896 - categorical_accuracy: 0.8164\n",
      "Epoch 130/250\n",
      "116229/116229 [==============================] - 8s 69us/sample - loss: 0.4906 - categorical_accuracy: 0.8152\n",
      "Epoch 131/250\n",
      "116229/116229 [==============================] - 9s 76us/sample - loss: 0.4837 - categorical_accuracy: 0.8184\n",
      "Epoch 132/250\n",
      "116229/116229 [==============================] - 8s 71us/sample - loss: 0.4802 - categorical_accuracy: 0.8199\n",
      "Epoch 133/250\n"
     ]
    },
    {
     "name": "stdout",
     "output_type": "stream",
     "text": [
      "116229/116229 [==============================] - 8s 70us/sample - loss: 0.4824 - categorical_accuracy: 0.8197\n",
      "Epoch 134/250\n",
      "116229/116229 [==============================] - 9s 77us/sample - loss: 0.4798 - categorical_accuracy: 0.8208\n",
      "Epoch 135/250\n",
      "116229/116229 [==============================] - 8s 71us/sample - loss: 0.4733 - categorical_accuracy: 0.8233\n",
      "Epoch 136/250\n",
      "116229/116229 [==============================] - 8s 70us/sample - loss: 0.4728 - categorical_accuracy: 0.8214\n",
      "Epoch 137/250\n",
      "116229/116229 [==============================] - 9s 77us/sample - loss: 0.4709 - categorical_accuracy: 0.8229\n",
      "Epoch 138/250\n",
      "116229/116229 [==============================] - 8s 72us/sample - loss: 0.4688 - categorical_accuracy: 0.8247\n",
      "Epoch 139/250\n",
      "116229/116229 [==============================] - 8s 69us/sample - loss: 0.4670 - categorical_accuracy: 0.8242\n",
      "Epoch 140/250\n",
      "116229/116229 [==============================] - 9s 75us/sample - loss: 0.4644 - categorical_accuracy: 0.8265\n",
      "Epoch 141/250\n",
      "116229/116229 [==============================] - 8s 72us/sample - loss: 0.4614 - categorical_accuracy: 0.8264\n",
      "Epoch 142/250\n",
      "116229/116229 [==============================] - 8s 70us/sample - loss: 0.4599 - categorical_accuracy: 0.8277\n",
      "Epoch 143/250\n",
      "116229/116229 [==============================] - 9s 75us/sample - loss: 0.4583 - categorical_accuracy: 0.8290\n",
      "Epoch 144/250\n",
      "116229/116229 [==============================] - 8s 73us/sample - loss: 0.4544 - categorical_accuracy: 0.8296\n",
      "Epoch 145/250\n",
      "116229/116229 [==============================] - 8s 71us/sample - loss: 0.4536 - categorical_accuracy: 0.8304\n",
      "Epoch 146/250\n",
      "116229/116229 [==============================] - 9s 75us/sample - loss: 0.4525 - categorical_accuracy: 0.8301\n",
      "Epoch 147/250\n",
      "116229/116229 [==============================] - 9s 74us/sample - loss: 0.4519 - categorical_accuracy: 0.8317\n",
      "Epoch 148/250\n",
      "116229/116229 [==============================] - 8s 70us/sample - loss: 0.4488 - categorical_accuracy: 0.8310\n",
      "Epoch 149/250\n",
      "116229/116229 [==============================] - 9s 74us/sample - loss: 0.4446 - categorical_accuracy: 0.8334\n",
      "Epoch 150/250\n",
      "116229/116229 [==============================] - 8s 73us/sample - loss: 0.4432 - categorical_accuracy: 0.8337\n",
      "Epoch 151/250\n",
      "116229/116229 [==============================] - 8s 70us/sample - loss: 0.4431 - categorical_accuracy: 0.8343\n",
      "Epoch 152/250\n",
      "116229/116229 [==============================] - 9s 75us/sample - loss: 0.4402 - categorical_accuracy: 0.8352\n",
      "Epoch 153/250\n",
      "116229/116229 [==============================] - 8s 72us/sample - loss: 0.4378 - categorical_accuracy: 0.8360\n",
      "Epoch 154/250\n",
      "116229/116229 [==============================] - 8s 70us/sample - loss: 0.4370 - categorical_accuracy: 0.8358\n",
      "Epoch 155/250\n",
      "116229/116229 [==============================] - 9s 75us/sample - loss: 0.4335 - categorical_accuracy: 0.8374\n",
      "Epoch 156/250\n",
      "116229/116229 [==============================] - 9s 73us/sample - loss: 0.4338 - categorical_accuracy: 0.8369\n",
      "Epoch 157/250\n",
      "116229/116229 [==============================] - 8s 71us/sample - loss: 0.4319 - categorical_accuracy: 0.8384\n",
      "Epoch 158/250\n",
      "116229/116229 [==============================] - 9s 77us/sample - loss: 0.4309 - categorical_accuracy: 0.8387\n",
      "Epoch 159/250\n",
      "116229/116229 [==============================] - 8s 71us/sample - loss: 0.4289 - categorical_accuracy: 0.8394\n",
      "Epoch 160/250\n",
      "116229/116229 [==============================] - 8s 70us/sample - loss: 0.4279 - categorical_accuracy: 0.8400\n",
      "Epoch 161/250\n",
      "116229/116229 [==============================] - 9s 74us/sample - loss: 0.4265 - categorical_accuracy: 0.8406\n",
      "Epoch 162/250\n",
      "116229/116229 [==============================] - 9s 74us/sample - loss: 0.4244 - categorical_accuracy: 0.8414\n",
      "Epoch 163/250\n",
      "116229/116229 [==============================] - 8s 71us/sample - loss: 0.4232 - categorical_accuracy: 0.8421\n",
      "Epoch 164/250\n",
      "116229/116229 [==============================] - 8s 70us/sample - loss: 0.4234 - categorical_accuracy: 0.8426\n",
      "Epoch 165/250\n",
      "116229/116229 [==============================] - 9s 77us/sample - loss: 0.4218 - categorical_accuracy: 0.8421\n",
      "Epoch 166/250\n",
      "116229/116229 [==============================] - 8s 70us/sample - loss: 0.4190 - categorical_accuracy: 0.8442\n",
      "Epoch 167/250\n",
      "116229/116229 [==============================] - 8s 71us/sample - loss: 0.4168 - categorical_accuracy: 0.8439\n",
      "Epoch 168/250\n",
      "116229/116229 [==============================] - 8s 72us/sample - loss: 0.4153 - categorical_accuracy: 0.8445\n",
      "Epoch 169/250\n",
      "116229/116229 [==============================] - 8s 70us/sample - loss: 0.4184 - categorical_accuracy: 0.8439\n",
      "Epoch 170/250\n",
      "116229/116229 [==============================] - 8s 70us/sample - loss: 0.4129 - categorical_accuracy: 0.8460\n",
      "Epoch 171/250\n",
      "116229/116229 [==============================] - 9s 76us/sample - loss: 0.4120 - categorical_accuracy: 0.8460\n",
      "Epoch 172/250\n",
      "116229/116229 [==============================] - 8s 71us/sample - loss: 0.4115 - categorical_accuracy: 0.8467\n",
      "Epoch 173/250\n",
      "116229/116229 [==============================] - 8s 69us/sample - loss: 0.4095 - categorical_accuracy: 0.8473\n",
      "Epoch 174/250\n",
      "116229/116229 [==============================] - 9s 78us/sample - loss: 0.4088 - categorical_accuracy: 0.8461\n",
      "Epoch 175/250\n",
      "116229/116229 [==============================] - 8s 71us/sample - loss: 0.4106 - categorical_accuracy: 0.8470\n",
      "Epoch 176/250\n",
      "116229/116229 [==============================] - 8s 69us/sample - loss: 0.4052 - categorical_accuracy: 0.8481\n",
      "Epoch 177/250\n",
      "116229/116229 [==============================] - 9s 78us/sample - loss: 0.4058 - categorical_accuracy: 0.8484\n",
      "Epoch 178/250\n",
      "116229/116229 [==============================] - 8s 71us/sample - loss: 0.4048 - categorical_accuracy: 0.8485\n",
      "Epoch 179/250\n",
      "116229/116229 [==============================] - 8s 69us/sample - loss: 0.4018 - categorical_accuracy: 0.8496\n",
      "Epoch 180/250\n",
      "116229/116229 [==============================] - 9s 78us/sample - loss: 0.4003 - categorical_accuracy: 0.8494\n",
      "Epoch 181/250\n",
      "116229/116229 [==============================] - 8s 71us/sample - loss: 0.4021 - categorical_accuracy: 0.8496\n",
      "Epoch 182/250\n",
      "116229/116229 [==============================] - 8s 69us/sample - loss: 0.3985 - categorical_accuracy: 0.8506\n",
      "Epoch 183/250\n",
      "116229/116229 [==============================] - 9s 76us/sample - loss: 0.3986 - categorical_accuracy: 0.8519\n",
      "Epoch 184/250\n",
      "116229/116229 [==============================] - 8s 72us/sample - loss: 0.3988 - categorical_accuracy: 0.8507\n",
      "Epoch 185/250\n",
      "116229/116229 [==============================] - 8s 69us/sample - loss: 0.3969 - categorical_accuracy: 0.8521\n",
      "Epoch 186/250\n",
      "116229/116229 [==============================] - 9s 78us/sample - loss: 0.3969 - categorical_accuracy: 0.8508\n",
      "Epoch 187/250\n",
      "116229/116229 [==============================] - 8s 71us/sample - loss: 0.3954 - categorical_accuracy: 0.8519\n",
      "Epoch 188/250\n",
      "116229/116229 [==============================] - 8s 70us/sample - loss: 0.3927 - categorical_accuracy: 0.8527\n",
      "Epoch 189/250\n",
      "116229/116229 [==============================] - 9s 77us/sample - loss: 0.3914 - categorical_accuracy: 0.8530\n",
      "Epoch 190/250\n",
      "116229/116229 [==============================] - 8s 71us/sample - loss: 0.3936 - categorical_accuracy: 0.8532\n",
      "Epoch 191/250\n",
      "116229/116229 [==============================] - 8s 71us/sample - loss: 0.3898 - categorical_accuracy: 0.8531\n",
      "Epoch 192/250\n",
      "116229/116229 [==============================] - 9s 78us/sample - loss: 0.3935 - categorical_accuracy: 0.8533\n",
      "Epoch 193/250\n",
      "116229/116229 [==============================] - 8s 72us/sample - loss: 0.3911 - categorical_accuracy: 0.8529\n",
      "Epoch 194/250\n",
      "116229/116229 [==============================] - 8s 70us/sample - loss: 0.3881 - categorical_accuracy: 0.8540\n",
      "Epoch 195/250\n",
      "116229/116229 [==============================] - 9s 77us/sample - loss: 0.3875 - categorical_accuracy: 0.8548\n",
      "Epoch 196/250\n",
      "116229/116229 [==============================] - 8s 70us/sample - loss: 0.3858 - categorical_accuracy: 0.8564\n",
      "Epoch 197/250\n",
      "116229/116229 [==============================] - 8s 70us/sample - loss: 0.3857 - categorical_accuracy: 0.8563\n",
      "Epoch 198/250\n",
      "116229/116229 [==============================] - 9s 75us/sample - loss: 0.3833 - categorical_accuracy: 0.8564\n",
      "Epoch 199/250\n"
     ]
    },
    {
     "name": "stdout",
     "output_type": "stream",
     "text": [
      "116229/116229 [==============================] - 8s 72us/sample - loss: 0.3856 - categorical_accuracy: 0.8551\n",
      "Epoch 200/250\n",
      "116229/116229 [==============================] - 8s 71us/sample - loss: 0.3834 - categorical_accuracy: 0.8566\n",
      "Epoch 201/250\n",
      "116229/116229 [==============================] - 9s 74us/sample - loss: 0.3837 - categorical_accuracy: 0.8565\n",
      "Epoch 202/250\n",
      "116229/116229 [==============================] - 9s 73us/sample - loss: 0.3797 - categorical_accuracy: 0.8572\n",
      "Epoch 203/250\n",
      "116229/116229 [==============================] - 8s 70us/sample - loss: 0.3829 - categorical_accuracy: 0.8566\n",
      "Epoch 204/250\n",
      "116229/116229 [==============================] - 9s 73us/sample - loss: 0.3785 - categorical_accuracy: 0.8588\n",
      "Epoch 205/250\n",
      "116229/116229 [==============================] - 9s 74us/sample - loss: 0.3791 - categorical_accuracy: 0.8580\n",
      "Epoch 206/250\n",
      "116229/116229 [==============================] - 8s 71us/sample - loss: 0.3776 - categorical_accuracy: 0.8587\n",
      "Epoch 207/250\n",
      "116229/116229 [==============================] - 8s 72us/sample - loss: 0.3773 - categorical_accuracy: 0.8587\n",
      "Epoch 208/250\n",
      "116229/116229 [==============================] - 9s 74us/sample - loss: 0.3782 - categorical_accuracy: 0.8576\n",
      "Epoch 209/250\n",
      "116229/116229 [==============================] - 8s 71us/sample - loss: 0.3748 - categorical_accuracy: 0.8593\n",
      "Epoch 210/250\n",
      "116229/116229 [==============================] - 8s 69us/sample - loss: 0.3777 - categorical_accuracy: 0.8593\n",
      "Epoch 211/250\n",
      "116229/116229 [==============================] - 9s 77us/sample - loss: 0.3744 - categorical_accuracy: 0.8599\n",
      "Epoch 212/250\n",
      "116229/116229 [==============================] - 8s 71us/sample - loss: 0.3734 - categorical_accuracy: 0.8588\n",
      "Epoch 213/250\n",
      "116229/116229 [==============================] - 8s 70us/sample - loss: 0.3743 - categorical_accuracy: 0.8597\n",
      "Epoch 214/250\n",
      "116229/116229 [==============================] - 9s 78us/sample - loss: 0.3735 - categorical_accuracy: 0.8603\n",
      "Epoch 215/250\n",
      "116229/116229 [==============================] - 8s 70us/sample - loss: 0.3725 - categorical_accuracy: 0.8596\n",
      "Epoch 216/250\n",
      "116229/116229 [==============================] - 8s 70us/sample - loss: 0.3697 - categorical_accuracy: 0.8602\n",
      "Epoch 217/250\n",
      "116229/116229 [==============================] - 9s 78us/sample - loss: 0.3725 - categorical_accuracy: 0.8605\n",
      "Epoch 218/250\n",
      "116229/116229 [==============================] - 8s 72us/sample - loss: 0.3681 - categorical_accuracy: 0.8615\n",
      "Epoch 219/250\n",
      "116229/116229 [==============================] - 8s 70us/sample - loss: 0.3680 - categorical_accuracy: 0.8617\n",
      "Epoch 220/250\n",
      "116229/116229 [==============================] - 9s 77us/sample - loss: 0.3670 - categorical_accuracy: 0.8616\n",
      "Epoch 221/250\n",
      "116229/116229 [==============================] - 8s 71us/sample - loss: 0.3700 - categorical_accuracy: 0.8605\n",
      "Epoch 222/250\n",
      "116229/116229 [==============================] - 8s 70us/sample - loss: 0.3684 - categorical_accuracy: 0.8613\n",
      "Epoch 223/250\n",
      "116229/116229 [==============================] - 9s 76us/sample - loss: 0.3683 - categorical_accuracy: 0.8615\n",
      "Epoch 224/250\n",
      "116229/116229 [==============================] - 8s 71us/sample - loss: 0.3649 - categorical_accuracy: 0.8627\n",
      "Epoch 225/250\n",
      "116229/116229 [==============================] - 8s 69us/sample - loss: 0.3650 - categorical_accuracy: 0.8629\n",
      "Epoch 226/250\n",
      "116229/116229 [==============================] - 9s 76us/sample - loss: 0.3655 - categorical_accuracy: 0.8624\n",
      "Epoch 227/250\n",
      "116229/116229 [==============================] - 8s 73us/sample - loss: 0.3639 - categorical_accuracy: 0.8644\n",
      "Epoch 228/250\n",
      "116229/116229 [==============================] - 8s 70us/sample - loss: 0.3629 - categorical_accuracy: 0.8635\n",
      "Epoch 229/250\n",
      "116229/116229 [==============================] - 9s 76us/sample - loss: 0.3635 - categorical_accuracy: 0.8624\n",
      "Epoch 230/250\n",
      "116229/116229 [==============================] - 9s 73us/sample - loss: 0.3633 - categorical_accuracy: 0.8638\n",
      "Epoch 231/250\n",
      "116229/116229 [==============================] - 8s 70us/sample - loss: 0.3609 - categorical_accuracy: 0.8648\n",
      "Epoch 232/250\n",
      "116229/116229 [==============================] - 9s 76us/sample - loss: 0.3612 - categorical_accuracy: 0.8640\n",
      "Epoch 233/250\n",
      "116229/116229 [==============================] - 8s 72us/sample - loss: 0.3626 - categorical_accuracy: 0.8633\n",
      "Epoch 234/250\n",
      "116229/116229 [==============================] - 8s 70us/sample - loss: 0.3590 - categorical_accuracy: 0.8639\n",
      "Epoch 235/250\n",
      "116229/116229 [==============================] - 8s 72us/sample - loss: 0.3585 - categorical_accuracy: 0.8649\n",
      "Epoch 236/250\n",
      "116229/116229 [==============================] - 9s 74us/sample - loss: 0.3579 - categorical_accuracy: 0.8640\n",
      "Epoch 237/250\n",
      "116229/116229 [==============================] - 8s 71us/sample - loss: 0.3590 - categorical_accuracy: 0.8642\n",
      "Epoch 238/250\n",
      "116229/116229 [==============================] - 8s 70us/sample - loss: 0.3574 - categorical_accuracy: 0.8645\n",
      "Epoch 239/250\n",
      "116229/116229 [==============================] - 9s 73us/sample - loss: 0.3560 - categorical_accuracy: 0.8646\n",
      "Epoch 240/250\n",
      "116229/116229 [==============================] - 8s 71us/sample - loss: 0.3563 - categorical_accuracy: 0.8650\n",
      "Epoch 241/250\n",
      "116229/116229 [==============================] - 8s 70us/sample - loss: 0.3566 - categorical_accuracy: 0.8653\n",
      "Epoch 242/250\n",
      "116229/116229 [==============================] - 9s 77us/sample - loss: 0.3557 - categorical_accuracy: 0.8655\n",
      "Epoch 243/250\n",
      "116229/116229 [==============================] - 8s 71us/sample - loss: 0.3542 - categorical_accuracy: 0.8653\n",
      "Epoch 244/250\n",
      "116229/116229 [==============================] - 8s 70us/sample - loss: 0.3549 - categorical_accuracy: 0.8655\n",
      "Epoch 245/250\n",
      "116229/116229 [==============================] - 9s 76us/sample - loss: 0.3549 - categorical_accuracy: 0.8662\n",
      "Epoch 246/250\n",
      "116229/116229 [==============================] - 8s 72us/sample - loss: 0.3551 - categorical_accuracy: 0.8664\n",
      "Epoch 247/250\n",
      "116229/116229 [==============================] - 8s 70us/sample - loss: 0.3527 - categorical_accuracy: 0.8667\n",
      "Epoch 248/250\n",
      "116229/116229 [==============================] - 9s 74us/sample - loss: 0.3519 - categorical_accuracy: 0.8670\n",
      "Epoch 249/250\n",
      "116229/116229 [==============================] - 8s 73us/sample - loss: 0.3520 - categorical_accuracy: 0.8671\n",
      "Epoch 250/250\n",
      "116229/116229 [==============================] - 8s 70us/sample - loss: 0.3505 - categorical_accuracy: 0.8675\n"
     ]
    }
   ],
   "source": [
    "EPOCHS = 250\n",
    "\n",
    "result_1 = model_1.fit(\n",
    "    x,\n",
    "    labels,\n",
    "    batch_size=128,\n",
    "    epochs=EPOCHS, \n",
    "    verbose=1)"
   ]
  },
  {
   "cell_type": "code",
   "execution_count": 50,
   "metadata": {},
   "outputs": [],
   "source": [
    "model_1.save_weights(\"model_1.h5\")"
   ]
  },
  {
   "cell_type": "code",
   "execution_count": 56,
   "metadata": {},
   "outputs": [
    {
     "name": "stderr",
     "output_type": "stream",
     "text": [
      "Exception ignored in: <bound method IteratorResourceDeleter.__del__ of <tensorflow.python.data.ops.iterator_ops.IteratorResourceDeleter object at 0x7ef6045d4198>>\n",
      "Traceback (most recent call last):\n",
      "  File \"/usr/local/lib/python3.6/dist-packages/tensorflow_core/python/data/ops/iterator_ops.py\", line 541, in __del__\n",
      "    handle=self._handle, deleter=self._deleter)\n",
      "  File \"/usr/local/lib/python3.6/dist-packages/tensorflow_core/python/ops/gen_dataset_ops.py\", line 1175, in delete_iterator\n",
      "    \"DeleteIterator\", handle=handle, deleter=deleter, name=name)\n",
      "  File \"/usr/local/lib/python3.6/dist-packages/tensorflow_core/python/framework/op_def_library.py\", line 793, in _apply_op_helper\n",
      "    op_def=op_def)\n",
      "  File \"/usr/local/lib/python3.6/dist-packages/tensorflow_core/python/framework/func_graph.py\", line 544, in create_op\n",
      "    inp = self.capture(inp)\n",
      "  File \"/usr/local/lib/python3.6/dist-packages/tensorflow_core/python/framework/func_graph.py\", line 594, in capture\n",
      "    name = tensor.op.name\n",
      "  File \"/usr/local/lib/python3.6/dist-packages/tensorflow_core/python/framework/ops.py\", line 1879, in name\n",
      "    return c_api.TF_OperationName(self._c_op)\n",
      "UnicodeDecodeError: 'utf-8' codec can't decode byte 0xf6 in position 4: invalid start byte\n",
      "Exception ignored in: <bound method IteratorResourceDeleter.__del__ of <tensorflow.python.data.ops.iterator_ops.IteratorResourceDeleter object at 0x7ef6045d4278>>\n",
      "Traceback (most recent call last):\n",
      "  File \"/usr/local/lib/python3.6/dist-packages/tensorflow_core/python/data/ops/iterator_ops.py\", line 541, in __del__\n",
      "    handle=self._handle, deleter=self._deleter)\n",
      "  File \"/usr/local/lib/python3.6/dist-packages/tensorflow_core/python/ops/gen_dataset_ops.py\", line 1175, in delete_iterator\n",
      "    \"DeleteIterator\", handle=handle, deleter=deleter, name=name)\n",
      "  File \"/usr/local/lib/python3.6/dist-packages/tensorflow_core/python/framework/op_def_library.py\", line 793, in _apply_op_helper\n",
      "    op_def=op_def)\n",
      "  File \"/usr/local/lib/python3.6/dist-packages/tensorflow_core/python/framework/func_graph.py\", line 544, in create_op\n",
      "    inp = self.capture(inp)\n",
      "  File \"/usr/local/lib/python3.6/dist-packages/tensorflow_core/python/framework/func_graph.py\", line 594, in capture\n",
      "    name = tensor.op.name\n",
      "  File \"/usr/local/lib/python3.6/dist-packages/tensorflow_core/python/framework/ops.py\", line 1879, in name\n",
      "    return c_api.TF_OperationName(self._c_op)\n",
      "UnicodeDecodeError: 'utf-8' codec can't decode byte 0xf6 in position 4: invalid start byte\n"
     ]
    },
    {
     "name": "stdout",
     "output_type": "stream",
     "text": [
      "Episode: 1 \tReward: -15.0\n",
      "Episode: 2 \tReward: -18.0\n",
      "Episode: 3 \tReward: -16.0\n",
      "Episode: 4 \tReward: -19.0\n",
      "Episode: 5 \tReward: -17.0\n"
     ]
    }
   ],
   "source": [
    "for episode in range(5):\n",
    "    done = False\n",
    "    episode_reward = 0.0\n",
    "    state = env.reset()\n",
    "    state = resize(state)\n",
    "    state = grayscale(state)\n",
    "    state = np.reshape(state, (1, 84, 84, 1))\n",
    "    state = state.astype(\"float32\")\n",
    "    while not done:\n",
    "        action = np.argmax(model_1.predict(state))\n",
    "        state, reward, done, info = env.step(action)\n",
    "        state = resize(state)\n",
    "        state = grayscale(state)\n",
    "        state = np.reshape(state, (1, 84, 84, 1))\n",
    "        state = state.astype(\"float32\")\n",
    "        episode_reward += reward\n",
    "    print(\"Episode:\", episode+1, \"\\tReward:\", episode_reward)"
   ]
  },
  {
   "cell_type": "markdown",
   "metadata": {
    "id": "_1TW5R-U7GPi"
   },
   "source": [
    "# Train a model on resized-grayscale-framestack input\n",
    "\n"
   ]
  },
  {
   "cell_type": "code",
   "execution_count": 21,
   "metadata": {
    "colab": {
     "base_uri": "https://localhost:8080/"
    },
    "id": "N_PC9GGe7PMu",
    "outputId": "aeff8a06-1c4d-47d8-9e83-bfbe8a8324ec"
   },
   "outputs": [
    {
     "data": {
      "text/plain": [
       "(84, 84, 4)"
      ]
     },
     "execution_count": 21,
     "metadata": {},
     "output_type": "execute_result"
    }
   ],
   "source": [
    "x_stacked.shape[1:]"
   ]
  },
  {
   "cell_type": "code",
   "execution_count": 22,
   "metadata": {
    "colab": {
     "base_uri": "https://localhost:8080/"
    },
    "id": "QKcsZxqu7T2E",
    "outputId": "45ddfa2e-f1fe-43f2-dc1a-4cb2f879a076"
   },
   "outputs": [
    {
     "data": {
      "text/plain": [
       "6"
      ]
     },
     "execution_count": 22,
     "metadata": {},
     "output_type": "execute_result"
    }
   ],
   "source": [
    "labels.shape[1]"
   ]
  },
  {
   "cell_type": "code",
   "execution_count": 29,
   "metadata": {
    "id": "bsG39ZXA7Wbu"
   },
   "outputs": [],
   "source": [
    "model_2 = create_nn(x_stacked.shape[1:], labels.shape[1])"
   ]
  },
  {
   "cell_type": "code",
   "execution_count": 30,
   "metadata": {
    "colab": {
     "base_uri": "https://localhost:8080/",
     "height": 385
    },
    "id": "CDhw3fr47gJ7",
    "outputId": "9b192e99-e5f0-4c34-fce9-2297fee248cb"
   },
   "outputs": [
    {
     "name": "stdout",
     "output_type": "stream",
     "text": [
      "Epoch 1/30\n",
      "116229/116229 [==============================] - 53s 455us/sample - loss: 1.9934 - categorical_accuracy: 0.1681\n",
      "Epoch 2/30\n",
      "116229/116229 [==============================] - 52s 450us/sample - loss: 1.9052 - categorical_accuracy: 0.1704\n",
      "Epoch 3/30\n",
      "110624/116229 [===========================>..] - ETA: 2s - loss: 1.8797 - categorical_accuracy: 0.1712"
     ]
    },
    {
     "ename": "KeyboardInterrupt",
     "evalue": "",
     "output_type": "error",
     "traceback": [
      "\u001b[0;31m---------------------------------------------------------------------------\u001b[0m",
      "\u001b[0;31mKeyboardInterrupt\u001b[0m                         Traceback (most recent call last)",
      "\u001b[0;32m<ipython-input-30-e27833abebb8>\u001b[0m in \u001b[0;36m<module>\u001b[0;34m\u001b[0m\n\u001b[1;32m      6\u001b[0m     \u001b[0mbatch_size\u001b[0m\u001b[0;34m=\u001b[0m\u001b[0;36m32\u001b[0m\u001b[0;34m,\u001b[0m\u001b[0;34m\u001b[0m\u001b[0;34m\u001b[0m\u001b[0m\n\u001b[1;32m      7\u001b[0m     \u001b[0mepochs\u001b[0m\u001b[0;34m=\u001b[0m\u001b[0mEPOCHS\u001b[0m\u001b[0;34m,\u001b[0m\u001b[0;34m\u001b[0m\u001b[0;34m\u001b[0m\u001b[0m\n\u001b[0;32m----> 8\u001b[0;31m     verbose=1)\n\u001b[0m",
      "\u001b[0;32m/usr/local/lib/python3.6/dist-packages/tensorflow_core/python/keras/engine/training.py\u001b[0m in \u001b[0;36mfit\u001b[0;34m(self, x, y, batch_size, epochs, verbose, callbacks, validation_split, validation_data, shuffle, class_weight, sample_weight, initial_epoch, steps_per_epoch, validation_steps, validation_freq, max_queue_size, workers, use_multiprocessing, **kwargs)\u001b[0m\n\u001b[1;32m    731\u001b[0m         \u001b[0mmax_queue_size\u001b[0m\u001b[0;34m=\u001b[0m\u001b[0mmax_queue_size\u001b[0m\u001b[0;34m,\u001b[0m\u001b[0;34m\u001b[0m\u001b[0;34m\u001b[0m\u001b[0m\n\u001b[1;32m    732\u001b[0m         \u001b[0mworkers\u001b[0m\u001b[0;34m=\u001b[0m\u001b[0mworkers\u001b[0m\u001b[0;34m,\u001b[0m\u001b[0;34m\u001b[0m\u001b[0;34m\u001b[0m\u001b[0m\n\u001b[0;32m--> 733\u001b[0;31m         use_multiprocessing=use_multiprocessing)\n\u001b[0m\u001b[1;32m    734\u001b[0m \u001b[0;34m\u001b[0m\u001b[0m\n\u001b[1;32m    735\u001b[0m   def evaluate(self,\n",
      "\u001b[0;32m/usr/local/lib/python3.6/dist-packages/tensorflow_core/python/keras/engine/training_v2.py\u001b[0m in \u001b[0;36mfit\u001b[0;34m(self, model, x, y, batch_size, epochs, verbose, callbacks, validation_split, validation_data, shuffle, class_weight, sample_weight, initial_epoch, steps_per_epoch, validation_steps, validation_freq, max_queue_size, workers, use_multiprocessing, **kwargs)\u001b[0m\n\u001b[1;32m    315\u001b[0m                 \u001b[0mmode\u001b[0m\u001b[0;34m=\u001b[0m\u001b[0mModeKeys\u001b[0m\u001b[0;34m.\u001b[0m\u001b[0mTRAIN\u001b[0m\u001b[0;34m,\u001b[0m\u001b[0;34m\u001b[0m\u001b[0;34m\u001b[0m\u001b[0m\n\u001b[1;32m    316\u001b[0m                 \u001b[0mtraining_context\u001b[0m\u001b[0;34m=\u001b[0m\u001b[0mtraining_context\u001b[0m\u001b[0;34m,\u001b[0m\u001b[0;34m\u001b[0m\u001b[0;34m\u001b[0m\u001b[0m\n\u001b[0;32m--> 317\u001b[0;31m                 total_epochs=epochs)\n\u001b[0m\u001b[1;32m    318\u001b[0m             \u001b[0mcbks\u001b[0m\u001b[0;34m.\u001b[0m\u001b[0mmake_logs\u001b[0m\u001b[0;34m(\u001b[0m\u001b[0mmodel\u001b[0m\u001b[0;34m,\u001b[0m \u001b[0mepoch_logs\u001b[0m\u001b[0;34m,\u001b[0m \u001b[0mtraining_result\u001b[0m\u001b[0;34m,\u001b[0m \u001b[0mModeKeys\u001b[0m\u001b[0;34m.\u001b[0m\u001b[0mTRAIN\u001b[0m\u001b[0;34m)\u001b[0m\u001b[0;34m\u001b[0m\u001b[0;34m\u001b[0m\u001b[0m\n\u001b[1;32m    319\u001b[0m \u001b[0;34m\u001b[0m\u001b[0m\n",
      "\u001b[0;32m/usr/local/lib/python3.6/dist-packages/tensorflow_core/python/keras/engine/training_v2.py\u001b[0m in \u001b[0;36mrun_one_epoch\u001b[0;34m(model, iterator, execution_function, dataset_size, batch_size, strategy, steps_per_epoch, num_samples, mode, training_context, total_epochs)\u001b[0m\n\u001b[1;32m    119\u001b[0m         step=step, mode=mode, size=current_batch_size) as batch_logs:\n\u001b[1;32m    120\u001b[0m       \u001b[0;32mtry\u001b[0m\u001b[0;34m:\u001b[0m\u001b[0;34m\u001b[0m\u001b[0;34m\u001b[0m\u001b[0m\n\u001b[0;32m--> 121\u001b[0;31m         \u001b[0mbatch_outs\u001b[0m \u001b[0;34m=\u001b[0m \u001b[0mexecution_function\u001b[0m\u001b[0;34m(\u001b[0m\u001b[0miterator\u001b[0m\u001b[0;34m)\u001b[0m\u001b[0;34m\u001b[0m\u001b[0;34m\u001b[0m\u001b[0m\n\u001b[0m\u001b[1;32m    122\u001b[0m       \u001b[0;32mexcept\u001b[0m \u001b[0;34m(\u001b[0m\u001b[0mStopIteration\u001b[0m\u001b[0;34m,\u001b[0m \u001b[0merrors\u001b[0m\u001b[0;34m.\u001b[0m\u001b[0mOutOfRangeError\u001b[0m\u001b[0;34m)\u001b[0m\u001b[0;34m:\u001b[0m\u001b[0;34m\u001b[0m\u001b[0;34m\u001b[0m\u001b[0m\n\u001b[1;32m    123\u001b[0m         \u001b[0;31m# TODO(kaftan): File bug about tf function and errors.OutOfRangeError?\u001b[0m\u001b[0;34m\u001b[0m\u001b[0;34m\u001b[0m\u001b[0;34m\u001b[0m\u001b[0m\n",
      "\u001b[0;32m/usr/local/lib/python3.6/dist-packages/tensorflow_core/python/keras/engine/training_v2_utils.py\u001b[0m in \u001b[0;36mexecution_function\u001b[0;34m(input_fn)\u001b[0m\n\u001b[1;32m     82\u001b[0m     \u001b[0;31m# `numpy` translates Tensors to values in Eager mode.\u001b[0m\u001b[0;34m\u001b[0m\u001b[0;34m\u001b[0m\u001b[0;34m\u001b[0m\u001b[0m\n\u001b[1;32m     83\u001b[0m     return [_non_none_constant_value(out)\n\u001b[0;32m---> 84\u001b[0;31m             for out in distributed_function(input_fn)]\n\u001b[0m\u001b[1;32m     85\u001b[0m \u001b[0;34m\u001b[0m\u001b[0m\n\u001b[1;32m     86\u001b[0m   \u001b[0;32mreturn\u001b[0m \u001b[0mexecution_function\u001b[0m\u001b[0;34m\u001b[0m\u001b[0;34m\u001b[0m\u001b[0m\n",
      "\u001b[0;32m/usr/local/lib/python3.6/dist-packages/tensorflow_core/python/eager/def_function.py\u001b[0m in \u001b[0;36m__call__\u001b[0;34m(self, *args, **kwds)\u001b[0m\n\u001b[1;32m    435\u001b[0m       \u001b[0;31m# In this case we have created variables on the first call, so we run the\u001b[0m\u001b[0;34m\u001b[0m\u001b[0;34m\u001b[0m\u001b[0;34m\u001b[0m\u001b[0m\n\u001b[1;32m    436\u001b[0m       \u001b[0;31m# defunned version which is guaranteed to never create variables.\u001b[0m\u001b[0;34m\u001b[0m\u001b[0;34m\u001b[0m\u001b[0;34m\u001b[0m\u001b[0m\n\u001b[0;32m--> 437\u001b[0;31m       \u001b[0;32mreturn\u001b[0m \u001b[0mself\u001b[0m\u001b[0;34m.\u001b[0m\u001b[0m_stateless_fn\u001b[0m\u001b[0;34m(\u001b[0m\u001b[0;34m*\u001b[0m\u001b[0margs\u001b[0m\u001b[0;34m,\u001b[0m \u001b[0;34m**\u001b[0m\u001b[0mkwds\u001b[0m\u001b[0;34m)\u001b[0m  \u001b[0;31m# pylint: disable=not-callable\u001b[0m\u001b[0;34m\u001b[0m\u001b[0;34m\u001b[0m\u001b[0m\n\u001b[0m\u001b[1;32m    438\u001b[0m     \u001b[0;32melif\u001b[0m \u001b[0mself\u001b[0m\u001b[0;34m.\u001b[0m\u001b[0m_stateful_fn\u001b[0m \u001b[0;32mis\u001b[0m \u001b[0;32mnot\u001b[0m \u001b[0;32mNone\u001b[0m\u001b[0;34m:\u001b[0m\u001b[0;34m\u001b[0m\u001b[0;34m\u001b[0m\u001b[0m\n\u001b[1;32m    439\u001b[0m       \u001b[0;31m# In this case we have not created variables on the first call. So we can\u001b[0m\u001b[0;34m\u001b[0m\u001b[0;34m\u001b[0m\u001b[0;34m\u001b[0m\u001b[0m\n",
      "\u001b[0;32m/usr/local/lib/python3.6/dist-packages/tensorflow_core/python/eager/function.py\u001b[0m in \u001b[0;36m__call__\u001b[0;34m(self, *args, **kwargs)\u001b[0m\n\u001b[1;32m   1820\u001b[0m     \u001b[0;34m\"\"\"Calls a graph function specialized to the inputs.\"\"\"\u001b[0m\u001b[0;34m\u001b[0m\u001b[0;34m\u001b[0m\u001b[0m\n\u001b[1;32m   1821\u001b[0m     \u001b[0mgraph_function\u001b[0m\u001b[0;34m,\u001b[0m \u001b[0margs\u001b[0m\u001b[0;34m,\u001b[0m \u001b[0mkwargs\u001b[0m \u001b[0;34m=\u001b[0m \u001b[0mself\u001b[0m\u001b[0;34m.\u001b[0m\u001b[0m_maybe_define_function\u001b[0m\u001b[0;34m(\u001b[0m\u001b[0margs\u001b[0m\u001b[0;34m,\u001b[0m \u001b[0mkwargs\u001b[0m\u001b[0;34m)\u001b[0m\u001b[0;34m\u001b[0m\u001b[0;34m\u001b[0m\u001b[0m\n\u001b[0;32m-> 1822\u001b[0;31m     \u001b[0;32mreturn\u001b[0m \u001b[0mgraph_function\u001b[0m\u001b[0;34m.\u001b[0m\u001b[0m_filtered_call\u001b[0m\u001b[0;34m(\u001b[0m\u001b[0margs\u001b[0m\u001b[0;34m,\u001b[0m \u001b[0mkwargs\u001b[0m\u001b[0;34m)\u001b[0m  \u001b[0;31m# pylint: disable=protected-access\u001b[0m\u001b[0;34m\u001b[0m\u001b[0;34m\u001b[0m\u001b[0m\n\u001b[0m\u001b[1;32m   1823\u001b[0m \u001b[0;34m\u001b[0m\u001b[0m\n\u001b[1;32m   1824\u001b[0m   \u001b[0;34m@\u001b[0m\u001b[0mproperty\u001b[0m\u001b[0;34m\u001b[0m\u001b[0;34m\u001b[0m\u001b[0m\n",
      "\u001b[0;32m/usr/local/lib/python3.6/dist-packages/tensorflow_core/python/eager/function.py\u001b[0m in \u001b[0;36m_filtered_call\u001b[0;34m(self, args, kwargs)\u001b[0m\n\u001b[1;32m   1139\u001b[0m          if isinstance(t, (ops.Tensor,\n\u001b[1;32m   1140\u001b[0m                            resource_variable_ops.BaseResourceVariable))),\n\u001b[0;32m-> 1141\u001b[0;31m         self.captured_inputs)\n\u001b[0m\u001b[1;32m   1142\u001b[0m \u001b[0;34m\u001b[0m\u001b[0m\n\u001b[1;32m   1143\u001b[0m   \u001b[0;32mdef\u001b[0m \u001b[0m_call_flat\u001b[0m\u001b[0;34m(\u001b[0m\u001b[0mself\u001b[0m\u001b[0;34m,\u001b[0m \u001b[0margs\u001b[0m\u001b[0;34m,\u001b[0m \u001b[0mcaptured_inputs\u001b[0m\u001b[0;34m,\u001b[0m \u001b[0mcancellation_manager\u001b[0m\u001b[0;34m=\u001b[0m\u001b[0;32mNone\u001b[0m\u001b[0;34m)\u001b[0m\u001b[0;34m:\u001b[0m\u001b[0;34m\u001b[0m\u001b[0;34m\u001b[0m\u001b[0m\n",
      "\u001b[0;32m/usr/local/lib/python3.6/dist-packages/tensorflow_core/python/eager/function.py\u001b[0m in \u001b[0;36m_call_flat\u001b[0;34m(self, args, captured_inputs, cancellation_manager)\u001b[0m\n\u001b[1;32m   1222\u001b[0m     \u001b[0;32mif\u001b[0m \u001b[0mexecuting_eagerly\u001b[0m\u001b[0;34m:\u001b[0m\u001b[0;34m\u001b[0m\u001b[0;34m\u001b[0m\u001b[0m\n\u001b[1;32m   1223\u001b[0m       flat_outputs = forward_function.call(\n\u001b[0;32m-> 1224\u001b[0;31m           ctx, args, cancellation_manager=cancellation_manager)\n\u001b[0m\u001b[1;32m   1225\u001b[0m     \u001b[0;32melse\u001b[0m\u001b[0;34m:\u001b[0m\u001b[0;34m\u001b[0m\u001b[0;34m\u001b[0m\u001b[0m\n\u001b[1;32m   1226\u001b[0m       \u001b[0mgradient_name\u001b[0m \u001b[0;34m=\u001b[0m \u001b[0mself\u001b[0m\u001b[0;34m.\u001b[0m\u001b[0m_delayed_rewrite_functions\u001b[0m\u001b[0;34m.\u001b[0m\u001b[0mregister\u001b[0m\u001b[0;34m(\u001b[0m\u001b[0;34m)\u001b[0m\u001b[0;34m\u001b[0m\u001b[0;34m\u001b[0m\u001b[0m\n",
      "\u001b[0;32m/usr/local/lib/python3.6/dist-packages/tensorflow_core/python/eager/function.py\u001b[0m in \u001b[0;36mcall\u001b[0;34m(self, ctx, args, cancellation_manager)\u001b[0m\n\u001b[1;32m    509\u001b[0m               \u001b[0minputs\u001b[0m\u001b[0;34m=\u001b[0m\u001b[0margs\u001b[0m\u001b[0;34m,\u001b[0m\u001b[0;34m\u001b[0m\u001b[0;34m\u001b[0m\u001b[0m\n\u001b[1;32m    510\u001b[0m               \u001b[0mattrs\u001b[0m\u001b[0;34m=\u001b[0m\u001b[0;34m(\u001b[0m\u001b[0;34m\"executor_type\"\u001b[0m\u001b[0;34m,\u001b[0m \u001b[0mexecutor_type\u001b[0m\u001b[0;34m,\u001b[0m \u001b[0;34m\"config_proto\"\u001b[0m\u001b[0;34m,\u001b[0m \u001b[0mconfig\u001b[0m\u001b[0;34m)\u001b[0m\u001b[0;34m,\u001b[0m\u001b[0;34m\u001b[0m\u001b[0;34m\u001b[0m\u001b[0m\n\u001b[0;32m--> 511\u001b[0;31m               ctx=ctx)\n\u001b[0m\u001b[1;32m    512\u001b[0m         \u001b[0;32melse\u001b[0m\u001b[0;34m:\u001b[0m\u001b[0;34m\u001b[0m\u001b[0;34m\u001b[0m\u001b[0m\n\u001b[1;32m    513\u001b[0m           outputs = execute.execute_with_cancellation(\n",
      "\u001b[0;32m/usr/local/lib/python3.6/dist-packages/tensorflow_core/python/eager/execute.py\u001b[0m in \u001b[0;36mquick_execute\u001b[0;34m(op_name, num_outputs, inputs, attrs, ctx, name)\u001b[0m\n\u001b[1;32m     59\u001b[0m     tensors = pywrap_tensorflow.TFE_Py_Execute(ctx._handle, device_name,\n\u001b[1;32m     60\u001b[0m                                                \u001b[0mop_name\u001b[0m\u001b[0;34m,\u001b[0m \u001b[0minputs\u001b[0m\u001b[0;34m,\u001b[0m \u001b[0mattrs\u001b[0m\u001b[0;34m,\u001b[0m\u001b[0;34m\u001b[0m\u001b[0;34m\u001b[0m\u001b[0m\n\u001b[0;32m---> 61\u001b[0;31m                                                num_outputs)\n\u001b[0m\u001b[1;32m     62\u001b[0m   \u001b[0;32mexcept\u001b[0m \u001b[0mcore\u001b[0m\u001b[0;34m.\u001b[0m\u001b[0m_NotOkStatusException\u001b[0m \u001b[0;32mas\u001b[0m \u001b[0me\u001b[0m\u001b[0;34m:\u001b[0m\u001b[0;34m\u001b[0m\u001b[0;34m\u001b[0m\u001b[0m\n\u001b[1;32m     63\u001b[0m     \u001b[0;32mif\u001b[0m \u001b[0mname\u001b[0m \u001b[0;32mis\u001b[0m \u001b[0;32mnot\u001b[0m \u001b[0;32mNone\u001b[0m\u001b[0;34m:\u001b[0m\u001b[0;34m\u001b[0m\u001b[0;34m\u001b[0m\u001b[0m\n",
      "\u001b[0;31mKeyboardInterrupt\u001b[0m: "
     ]
    }
   ],
   "source": [
    "EPOCHS = 250\n",
    "\n",
    "result_2 = model_2.fit(\n",
    "    x_stacked,\n",
    "    labels,\n",
    "    batch_size=128,\n",
    "    epochs=EPOCHS, \n",
    "    verbose=1)"
   ]
  }
 ],
 "metadata": {
  "colab": {
   "collapsed_sections": [],
   "name": "Playing_Atari_with_Deep-Learning_random_dataset.ipynb",
   "provenance": [],
   "toc_visible": true
  },
  "kernelspec": {
   "display_name": "Python 3",
   "language": "python",
   "name": "python3"
  },
  "language_info": {
   "codemirror_mode": {
    "name": "ipython",
    "version": 3
   },
   "file_extension": ".py",
   "mimetype": "text/x-python",
   "name": "python",
   "nbconvert_exporter": "python",
   "pygments_lexer": "ipython3",
   "version": "3.6.8"
  }
 },
 "nbformat": 4,
 "nbformat_minor": 1
}
